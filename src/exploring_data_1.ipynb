{
 "cells": [
  {
   "cell_type": "markdown",
   "metadata": {},
   "source": [
    "# Explorando os dados"
   ]
  },
  {
   "cell_type": "markdown",
   "metadata": {},
   "source": [
    "## Imports necessários"
   ]
  },
  {
   "cell_type": "code",
   "execution_count": 1,
   "metadata": {},
   "outputs": [],
   "source": [
    "import gzip  # descomprimir arquivos .gz\n",
    "import pandas as pd\n",
    "import requests # para baixar a base/amostra para sua máquina\n",
    "from tqdm.notebook import tqdm # para mostrar barra de progresso\n"
   ]
  },
  {
   "cell_type": "code",
   "execution_count": 2,
   "metadata": {},
   "outputs": [
    {
     "name": "stdout",
     "output_type": "stream",
     "text": [
      "Enabling notebook extension jupyter-js-widgets/extension...\n",
      "      - Validating: \u001b[32mOK\u001b[0m\n"
     ]
    }
   ],
   "source": [
    "# Habilitar barra de progresso\n",
    "!jupyter nbextension enable --py widgetsnbextension --sys-prefix"
   ]
  },
  {
   "cell_type": "code",
   "execution_count": 8,
   "metadata": {},
   "outputs": [
    {
     "data": {
      "text/plain": [
       "'../datasets/20kSongs.pickle'"
      ]
     },
     "execution_count": 8,
     "metadata": {},
     "output_type": "execute_result"
    }
   ],
   "source": [
    "# Variáveis pra guardar nome(s) / url(s) de arquivo(s) a manipular\n",
    "\n",
    "url = \"https://projeto-puc-ai-ml-2022.s3.amazonaws.com/20kSongs.pickle.gz\"\n",
    "# Descomente a linha abaixo e comente a linha acima, caso sua máquina não tenha memória\n",
    "# url = \"https://projeto-puc-ai-ml-2022.s3.amazonaws.com/10kSongs_1.pickle.gz\"\n",
    "\n",
    "downloaded_filename = url.split(\"/\")[-1]\n",
    "output_filename = f\"../datasets/{downloaded_filename}\"\n",
    "decompressed_filename = output_filename.replace(\".gz\", \"\")\n",
    "decompressed_filename"
   ]
  },
  {
   "cell_type": "markdown",
   "metadata": {},
   "source": [
    "## Baixando o dataset (opcional, caso já o tenha)"
   ]
  },
  {
   "cell_type": "code",
   "execution_count": 4,
   "metadata": {},
   "outputs": [
    {
     "data": {
      "application/vnd.jupyter.widget-view+json": {
       "model_id": "90075dcb607047b1a0a7f37e8e7419ee",
       "version_major": 2,
       "version_minor": 0
      },
      "text/plain": [
       "  0%|          | 0.00/1.63G [00:00<?, ?iB/s]"
      ]
     },
     "metadata": {},
     "output_type": "display_data"
    }
   ],
   "source": [
    "# Escrever o arquivo em disco, mostrando barra de progresso\n",
    "# https://stackoverflow.com/a/37573701\n",
    "\n",
    "response = requests.get(url, stream=True)\n",
    "\n",
    "# Levantar HTTPError pra qualquer resposta http não esperada\n",
    "response.raise_for_status()\n",
    "\n",
    "# Escrever e mostrar progresso\n",
    "total_size_in_bytes= int(response.headers.get('content-length', 0))\n",
    "block_size = 1024 # 1 Kb\n",
    "progress_bar = tqdm(total=total_size_in_bytes, unit='iB', unit_scale=True)\n",
    "with open(output_filename, 'wb') as file:\n",
    "    for data in response.iter_content(block_size):\n",
    "        progress_bar.update(len(data))\n",
    "        file.write(data)\n",
    "progress_bar.close()\n",
    "if total_size_in_bytes != 0 and progress_bar.n != total_size_in_bytes:\n",
    "    print(\"ERRO: algo deu errado!\")"
   ]
  },
  {
   "cell_type": "markdown",
   "metadata": {},
   "source": [
    "### Descomprimindo o arquivo baixado (opcional, caso já o tenha)"
   ]
  },
  {
   "cell_type": "code",
   "execution_count": 7,
   "metadata": {},
   "outputs": [
    {
     "ename": "FileNotFoundError",
     "evalue": "[Errno 2] No such file or directory: '../datasets/20kSongs.pickle.gz'",
     "output_type": "error",
     "traceback": [
      "\u001b[0;31m---------------------------------------------------------------------------\u001b[0m",
      "\u001b[0;31mFileNotFoundError\u001b[0m                         Traceback (most recent call last)",
      "\u001b[1;32m/home/ylaguardia/code/puc-ai-ml/src/exploring_data_1.ipynb Cell 9\u001b[0m in \u001b[0;36m<cell line: 2>\u001b[0;34m()\u001b[0m\n\u001b[1;32m      <a href='vscode-notebook-cell://ssh-remote%2Byalsamsung/home/ylaguardia/code/puc-ai-ml/src/exploring_data_1.ipynb#X11sdnNjb2RlLXJlbW90ZQ%3D%3D?line=0'>1</a>\u001b[0m \u001b[39mimport\u001b[39;00m \u001b[39mshutil\u001b[39;00m\n\u001b[0;32m----> <a href='vscode-notebook-cell://ssh-remote%2Byalsamsung/home/ylaguardia/code/puc-ai-ml/src/exploring_data_1.ipynb#X11sdnNjb2RlLXJlbW90ZQ%3D%3D?line=1'>2</a>\u001b[0m \u001b[39mwith\u001b[39;00m gzip\u001b[39m.\u001b[39;49mopen(output_filename, \u001b[39m'\u001b[39;49m\u001b[39mrb\u001b[39;49m\u001b[39m'\u001b[39;49m) \u001b[39mas\u001b[39;00m f_in:\n\u001b[1;32m      <a href='vscode-notebook-cell://ssh-remote%2Byalsamsung/home/ylaguardia/code/puc-ai-ml/src/exploring_data_1.ipynb#X11sdnNjb2RlLXJlbW90ZQ%3D%3D?line=2'>3</a>\u001b[0m     \u001b[39mwith\u001b[39;00m \u001b[39mopen\u001b[39m(decompressed_filename, \u001b[39m'\u001b[39m\u001b[39mwb\u001b[39m\u001b[39m'\u001b[39m) \u001b[39mas\u001b[39;00m f_out:\n\u001b[1;32m      <a href='vscode-notebook-cell://ssh-remote%2Byalsamsung/home/ylaguardia/code/puc-ai-ml/src/exploring_data_1.ipynb#X11sdnNjb2RlLXJlbW90ZQ%3D%3D?line=3'>4</a>\u001b[0m         shutil\u001b[39m.\u001b[39mcopyfileobj(f_in, f_out)\n",
      "File \u001b[0;32m~/.pyenv/versions/3.10.0/lib/python3.10/gzip.py:58\u001b[0m, in \u001b[0;36mopen\u001b[0;34m(filename, mode, compresslevel, encoding, errors, newline)\u001b[0m\n\u001b[1;32m     56\u001b[0m gz_mode \u001b[39m=\u001b[39m mode\u001b[39m.\u001b[39mreplace(\u001b[39m\"\u001b[39m\u001b[39mt\u001b[39m\u001b[39m\"\u001b[39m, \u001b[39m\"\u001b[39m\u001b[39m\"\u001b[39m)\n\u001b[1;32m     57\u001b[0m \u001b[39mif\u001b[39;00m \u001b[39misinstance\u001b[39m(filename, (\u001b[39mstr\u001b[39m, \u001b[39mbytes\u001b[39m, os\u001b[39m.\u001b[39mPathLike)):\n\u001b[0;32m---> 58\u001b[0m     binary_file \u001b[39m=\u001b[39m GzipFile(filename, gz_mode, compresslevel)\n\u001b[1;32m     59\u001b[0m \u001b[39melif\u001b[39;00m \u001b[39mhasattr\u001b[39m(filename, \u001b[39m\"\u001b[39m\u001b[39mread\u001b[39m\u001b[39m\"\u001b[39m) \u001b[39mor\u001b[39;00m \u001b[39mhasattr\u001b[39m(filename, \u001b[39m\"\u001b[39m\u001b[39mwrite\u001b[39m\u001b[39m\"\u001b[39m):\n\u001b[1;32m     60\u001b[0m     binary_file \u001b[39m=\u001b[39m GzipFile(\u001b[39mNone\u001b[39;00m, gz_mode, compresslevel, filename)\n",
      "File \u001b[0;32m~/.pyenv/versions/3.10.0/lib/python3.10/gzip.py:174\u001b[0m, in \u001b[0;36mGzipFile.__init__\u001b[0;34m(self, filename, mode, compresslevel, fileobj, mtime)\u001b[0m\n\u001b[1;32m    172\u001b[0m     mode \u001b[39m+\u001b[39m\u001b[39m=\u001b[39m \u001b[39m'\u001b[39m\u001b[39mb\u001b[39m\u001b[39m'\u001b[39m\n\u001b[1;32m    173\u001b[0m \u001b[39mif\u001b[39;00m fileobj \u001b[39mis\u001b[39;00m \u001b[39mNone\u001b[39;00m:\n\u001b[0;32m--> 174\u001b[0m     fileobj \u001b[39m=\u001b[39m \u001b[39mself\u001b[39m\u001b[39m.\u001b[39mmyfileobj \u001b[39m=\u001b[39m builtins\u001b[39m.\u001b[39;49mopen(filename, mode \u001b[39mor\u001b[39;49;00m \u001b[39m'\u001b[39;49m\u001b[39mrb\u001b[39;49m\u001b[39m'\u001b[39;49m)\n\u001b[1;32m    175\u001b[0m \u001b[39mif\u001b[39;00m filename \u001b[39mis\u001b[39;00m \u001b[39mNone\u001b[39;00m:\n\u001b[1;32m    176\u001b[0m     filename \u001b[39m=\u001b[39m \u001b[39mgetattr\u001b[39m(fileobj, \u001b[39m'\u001b[39m\u001b[39mname\u001b[39m\u001b[39m'\u001b[39m, \u001b[39m'\u001b[39m\u001b[39m'\u001b[39m)\n",
      "\u001b[0;31mFileNotFoundError\u001b[0m: [Errno 2] No such file or directory: '../datasets/20kSongs.pickle.gz'"
     ]
    }
   ],
   "source": [
    "import shutil\n",
    "with gzip.open(output_filename, 'rb') as f_in:\n",
    "    with open(decompressed_filename, 'wb') as f_out:\n",
    "        shutil.copyfileobj(f_in, f_out)"
   ]
  },
  {
   "cell_type": "markdown",
   "metadata": {},
   "source": [
    "## Carregando dataset na memória"
   ]
  },
  {
   "cell_type": "markdown",
   "metadata": {},
   "source": [
    "Antes de rodar a próxima célula, certifique-se de descomprimir o arquivo do dataset antes. \n",
    "\n",
    "Alternativa: decomprimir ao mesmo tempo em que carrega na memória\n",
    "\n",
    "`df = pd.read_pickle(\"../datasets/10kSongs_1.pickle.gz\", compress={\"method\": \"gzip\", \"compresslevel\": 9})`"
   ]
  },
  {
   "cell_type": "code",
   "execution_count": 9,
   "metadata": {},
   "outputs": [],
   "source": [
    "df = pd.read_pickle(decompressed_filename)\n",
    "# df = pd.read_pickle(\"../datasets/10kSongs_1.pickle.gz\", compress={\"method\": \"gzip\", \"compresslevel\": 9})\n"
   ]
  },
  {
   "cell_type": "markdown",
   "metadata": {},
   "source": [
    "## Explorando"
   ]
  },
  {
   "cell_type": "code",
   "execution_count": 10,
   "metadata": {},
   "outputs": [
    {
     "name": "stdout",
     "output_type": "stream",
     "text": [
      "<class 'pandas.core.frame.DataFrame'>\n",
      "RangeIndex: 20000 entries, 0 to 19999\n",
      "Data columns (total 54 columns):\n",
      " #   Column                      Non-Null Count  Dtype  \n",
      "---  ------                      --------------  -----  \n",
      " 0   analysis_sample_rate        20000 non-null  int32  \n",
      " 1   artist_7digitalid           20000 non-null  int32  \n",
      " 2   artist_familiarity          20000 non-null  float64\n",
      " 3   artist_hotttnesss           20000 non-null  float64\n",
      " 4   artist_id                   20000 non-null  object \n",
      " 5   artist_latitude             20000 non-null  float64\n",
      " 6   artist_location             20000 non-null  object \n",
      " 7   artist_longitude            20000 non-null  float64\n",
      " 8   artist_mbid                 20000 non-null  object \n",
      " 9   artist_mbtags               20000 non-null  object \n",
      " 10  artist_mbtags_count         20000 non-null  object \n",
      " 11  artist_name                 20000 non-null  object \n",
      " 12  artist_playmeid             20000 non-null  int32  \n",
      " 13  artist_terms                20000 non-null  object \n",
      " 14  artist_terms_freq           20000 non-null  object \n",
      " 15  artist_terms_weight         20000 non-null  object \n",
      " 16  audio_md5                   20000 non-null  object \n",
      " 17  bars_confidence             20000 non-null  object \n",
      " 18  bars_start                  20000 non-null  object \n",
      " 19  beats_confidence            20000 non-null  object \n",
      " 20  beats_start                 20000 non-null  object \n",
      " 21  danceability                20000 non-null  float64\n",
      " 22  duration                    20000 non-null  float64\n",
      " 23  end_of_fade_in              20000 non-null  float64\n",
      " 24  energy                      20000 non-null  float64\n",
      " 25  key                         20000 non-null  int32  \n",
      " 26  key_confidence              20000 non-null  float64\n",
      " 27  loudness                    20000 non-null  float64\n",
      " 28  mode                        20000 non-null  int32  \n",
      " 29  mode_confidence             20000 non-null  float64\n",
      " 30  release                     20000 non-null  object \n",
      " 31  release_7digitalid          20000 non-null  int32  \n",
      " 32  sections_confidence         20000 non-null  object \n",
      " 33  sections_start              20000 non-null  object \n",
      " 34  segments_confidence         20000 non-null  object \n",
      " 35  segments_loudness_max       20000 non-null  object \n",
      " 36  segments_loudness_max_time  20000 non-null  object \n",
      " 37  segments_loudness_start     20000 non-null  object \n",
      " 38  segments_pitches            20000 non-null  object \n",
      " 39  segments_start              20000 non-null  object \n",
      " 40  segments_timbre             20000 non-null  object \n",
      " 41  similar_artists             20000 non-null  object \n",
      " 42  song_hotttnesss             20000 non-null  float64\n",
      " 43  song_id                     20000 non-null  object \n",
      " 44  start_of_fade_out           20000 non-null  float64\n",
      " 45  tatums_confidence           20000 non-null  object \n",
      " 46  tatums_start                20000 non-null  object \n",
      " 47  tempo                       20000 non-null  float64\n",
      " 48  time_signature              20000 non-null  int32  \n",
      " 49  time_signature_confidence   20000 non-null  float64\n",
      " 50  title                       20000 non-null  object \n",
      " 51  track_7digitalid            20000 non-null  int32  \n",
      " 52  track_id                    20000 non-null  object \n",
      " 53  year                        20000 non-null  int32  \n",
      "dtypes: float64(15), int32(9), object(30)\n",
      "memory usage: 7.6+ MB\n"
     ]
    }
   ],
   "source": [
    "df.info(verbose=True)"
   ]
  },
  {
   "cell_type": "code",
   "execution_count": 11,
   "metadata": {},
   "outputs": [
    {
     "data": {
      "text/html": [
       "<div>\n",
       "<style scoped>\n",
       "    .dataframe tbody tr th:only-of-type {\n",
       "        vertical-align: middle;\n",
       "    }\n",
       "\n",
       "    .dataframe tbody tr th {\n",
       "        vertical-align: top;\n",
       "    }\n",
       "\n",
       "    .dataframe thead th {\n",
       "        text-align: right;\n",
       "    }\n",
       "</style>\n",
       "<table border=\"1\" class=\"dataframe\">\n",
       "  <thead>\n",
       "    <tr style=\"text-align: right;\">\n",
       "      <th></th>\n",
       "      <th>analysis_sample_rate</th>\n",
       "      <th>artist_7digitalid</th>\n",
       "      <th>artist_familiarity</th>\n",
       "      <th>artist_hotttnesss</th>\n",
       "      <th>artist_latitude</th>\n",
       "      <th>artist_longitude</th>\n",
       "      <th>artist_playmeid</th>\n",
       "      <th>danceability</th>\n",
       "      <th>duration</th>\n",
       "      <th>end_of_fade_in</th>\n",
       "      <th>...</th>\n",
       "      <th>mode</th>\n",
       "      <th>mode_confidence</th>\n",
       "      <th>release_7digitalid</th>\n",
       "      <th>song_hotttnesss</th>\n",
       "      <th>start_of_fade_out</th>\n",
       "      <th>tempo</th>\n",
       "      <th>time_signature</th>\n",
       "      <th>time_signature_confidence</th>\n",
       "      <th>track_7digitalid</th>\n",
       "      <th>year</th>\n",
       "    </tr>\n",
       "  </thead>\n",
       "  <tbody>\n",
       "    <tr>\n",
       "      <th>count</th>\n",
       "      <td>20000.0</td>\n",
       "      <td>20000.000000</td>\n",
       "      <td>20000.000000</td>\n",
       "      <td>20000.000000</td>\n",
       "      <td>20000.000000</td>\n",
       "      <td>20000.000000</td>\n",
       "      <td>20000.000000</td>\n",
       "      <td>20000.0</td>\n",
       "      <td>20000.000000</td>\n",
       "      <td>20000.000000</td>\n",
       "      <td>...</td>\n",
       "      <td>20000.000000</td>\n",
       "      <td>20000.000000</td>\n",
       "      <td>20000.000000</td>\n",
       "      <td>20000.000000</td>\n",
       "      <td>20000.000000</td>\n",
       "      <td>20000.000000</td>\n",
       "      <td>20000.000000</td>\n",
       "      <td>20000.000000</td>\n",
       "      <td>2.000000e+04</td>\n",
       "      <td>20000.000000</td>\n",
       "    </tr>\n",
       "    <tr>\n",
       "      <th>mean</th>\n",
       "      <td>22050.0</td>\n",
       "      <td>59736.399150</td>\n",
       "      <td>0.658526</td>\n",
       "      <td>0.451967</td>\n",
       "      <td>41.729697</td>\n",
       "      <td>-45.616900</td>\n",
       "      <td>24905.718150</td>\n",
       "      <td>0.0</td>\n",
       "      <td>244.758911</td>\n",
       "      <td>0.907540</td>\n",
       "      <td>...</td>\n",
       "      <td>0.674300</td>\n",
       "      <td>0.480916</td>\n",
       "      <td>317453.310950</td>\n",
       "      <td>0.466749</td>\n",
       "      <td>235.178549</td>\n",
       "      <td>124.897426</td>\n",
       "      <td>3.601900</td>\n",
       "      <td>0.503718</td>\n",
       "      <td>3.528192e+06</td>\n",
       "      <td>1996.898650</td>\n",
       "    </tr>\n",
       "    <tr>\n",
       "      <th>std</th>\n",
       "      <td>0.0</td>\n",
       "      <td>94337.284936</td>\n",
       "      <td>0.103677</td>\n",
       "      <td>0.082851</td>\n",
       "      <td>16.117322</td>\n",
       "      <td>56.359308</td>\n",
       "      <td>43470.713262</td>\n",
       "      <td>0.0</td>\n",
       "      <td>115.179208</td>\n",
       "      <td>2.146168</td>\n",
       "      <td>...</td>\n",
       "      <td>0.468648</td>\n",
       "      <td>0.192650</td>\n",
       "      <td>233725.794951</td>\n",
       "      <td>0.207622</td>\n",
       "      <td>112.629457</td>\n",
       "      <td>34.998190</td>\n",
       "      <td>1.231825</td>\n",
       "      <td>0.370862</td>\n",
       "      <td>2.599764e+06</td>\n",
       "      <td>11.119836</td>\n",
       "    </tr>\n",
       "    <tr>\n",
       "      <th>min</th>\n",
       "      <td>22050.0</td>\n",
       "      <td>-1.000000</td>\n",
       "      <td>0.000000</td>\n",
       "      <td>0.000000</td>\n",
       "      <td>-45.874500</td>\n",
       "      <td>-159.540540</td>\n",
       "      <td>-1.000000</td>\n",
       "      <td>0.0</td>\n",
       "      <td>2.298320</td>\n",
       "      <td>0.000000</td>\n",
       "      <td>...</td>\n",
       "      <td>0.000000</td>\n",
       "      <td>0.000000</td>\n",
       "      <td>39.000000</td>\n",
       "      <td>0.000000</td>\n",
       "      <td>2.298000</td>\n",
       "      <td>0.000000</td>\n",
       "      <td>0.000000</td>\n",
       "      <td>0.000000</td>\n",
       "      <td>4.430000e+02</td>\n",
       "      <td>1929.000000</td>\n",
       "    </tr>\n",
       "    <tr>\n",
       "      <th>25%</th>\n",
       "      <td>22050.0</td>\n",
       "      <td>5681.500000</td>\n",
       "      <td>0.595096</td>\n",
       "      <td>0.397687</td>\n",
       "      <td>37.221938</td>\n",
       "      <td>-87.632410</td>\n",
       "      <td>-1.000000</td>\n",
       "      <td>0.0</td>\n",
       "      <td>181.655060</td>\n",
       "      <td>0.000000</td>\n",
       "      <td>...</td>\n",
       "      <td>0.000000</td>\n",
       "      <td>0.365000</td>\n",
       "      <td>110126.750000</td>\n",
       "      <td>0.349120</td>\n",
       "      <td>173.377000</td>\n",
       "      <td>99.077500</td>\n",
       "      <td>3.000000</td>\n",
       "      <td>0.103000</td>\n",
       "      <td>1.156470e+06</td>\n",
       "      <td>1992.000000</td>\n",
       "    </tr>\n",
       "    <tr>\n",
       "      <th>50%</th>\n",
       "      <td>22050.0</td>\n",
       "      <td>18875.000000</td>\n",
       "      <td>0.648199</td>\n",
       "      <td>0.444541</td>\n",
       "      <td>42.284740</td>\n",
       "      <td>-73.808170</td>\n",
       "      <td>2993.000000</td>\n",
       "      <td>0.0</td>\n",
       "      <td>228.753830</td>\n",
       "      <td>0.212000</td>\n",
       "      <td>...</td>\n",
       "      <td>1.000000</td>\n",
       "      <td>0.493000</td>\n",
       "      <td>286337.000000</td>\n",
       "      <td>0.496175</td>\n",
       "      <td>219.004500</td>\n",
       "      <td>121.798500</td>\n",
       "      <td>4.000000</td>\n",
       "      <td>0.542000</td>\n",
       "      <td>3.221752e+06</td>\n",
       "      <td>2000.000000</td>\n",
       "    </tr>\n",
       "    <tr>\n",
       "      <th>75%</th>\n",
       "      <td>22050.0</td>\n",
       "      <td>65104.000000</td>\n",
       "      <td>0.721520</td>\n",
       "      <td>0.495863</td>\n",
       "      <td>51.506320</td>\n",
       "      <td>-0.127140</td>\n",
       "      <td>30756.000000</td>\n",
       "      <td>0.0</td>\n",
       "      <td>283.924440</td>\n",
       "      <td>0.462000</td>\n",
       "      <td>...</td>\n",
       "      <td>1.000000</td>\n",
       "      <td>0.611000</td>\n",
       "      <td>511268.750000</td>\n",
       "      <td>0.612041</td>\n",
       "      <td>272.933000</td>\n",
       "      <td>145.939000</td>\n",
       "      <td>4.000000</td>\n",
       "      <td>0.850000</td>\n",
       "      <td>5.674990e+06</td>\n",
       "      <td>2006.000000</td>\n",
       "    </tr>\n",
       "    <tr>\n",
       "      <th>max</th>\n",
       "      <td>22050.0</td>\n",
       "      <td>603509.000000</td>\n",
       "      <td>0.948290</td>\n",
       "      <td>0.969246</td>\n",
       "      <td>69.651020</td>\n",
       "      <td>175.471310</td>\n",
       "      <td>242965.000000</td>\n",
       "      <td>0.0</td>\n",
       "      <td>2502.739140</td>\n",
       "      <td>62.764000</td>\n",
       "      <td>...</td>\n",
       "      <td>1.000000</td>\n",
       "      <td>1.000000</td>\n",
       "      <td>823409.000000</td>\n",
       "      <td>1.000000</td>\n",
       "      <td>2495.054000</td>\n",
       "      <td>252.943000</td>\n",
       "      <td>7.000000</td>\n",
       "      <td>1.000000</td>\n",
       "      <td>9.088514e+06</td>\n",
       "      <td>2010.000000</td>\n",
       "    </tr>\n",
       "  </tbody>\n",
       "</table>\n",
       "<p>8 rows × 24 columns</p>\n",
       "</div>"
      ],
      "text/plain": [
       "       analysis_sample_rate  artist_7digitalid  artist_familiarity  \\\n",
       "count               20000.0       20000.000000        20000.000000   \n",
       "mean                22050.0       59736.399150            0.658526   \n",
       "std                     0.0       94337.284936            0.103677   \n",
       "min                 22050.0          -1.000000            0.000000   \n",
       "25%                 22050.0        5681.500000            0.595096   \n",
       "50%                 22050.0       18875.000000            0.648199   \n",
       "75%                 22050.0       65104.000000            0.721520   \n",
       "max                 22050.0      603509.000000            0.948290   \n",
       "\n",
       "       artist_hotttnesss  artist_latitude  artist_longitude  artist_playmeid  \\\n",
       "count       20000.000000     20000.000000      20000.000000     20000.000000   \n",
       "mean            0.451967        41.729697        -45.616900     24905.718150   \n",
       "std             0.082851        16.117322         56.359308     43470.713262   \n",
       "min             0.000000       -45.874500       -159.540540        -1.000000   \n",
       "25%             0.397687        37.221938        -87.632410        -1.000000   \n",
       "50%             0.444541        42.284740        -73.808170      2993.000000   \n",
       "75%             0.495863        51.506320         -0.127140     30756.000000   \n",
       "max             0.969246        69.651020        175.471310    242965.000000   \n",
       "\n",
       "       danceability      duration  end_of_fade_in  ...          mode  \\\n",
       "count       20000.0  20000.000000    20000.000000  ...  20000.000000   \n",
       "mean            0.0    244.758911        0.907540  ...      0.674300   \n",
       "std             0.0    115.179208        2.146168  ...      0.468648   \n",
       "min             0.0      2.298320        0.000000  ...      0.000000   \n",
       "25%             0.0    181.655060        0.000000  ...      0.000000   \n",
       "50%             0.0    228.753830        0.212000  ...      1.000000   \n",
       "75%             0.0    283.924440        0.462000  ...      1.000000   \n",
       "max             0.0   2502.739140       62.764000  ...      1.000000   \n",
       "\n",
       "       mode_confidence  release_7digitalid  song_hotttnesss  \\\n",
       "count     20000.000000        20000.000000     20000.000000   \n",
       "mean          0.480916       317453.310950         0.466749   \n",
       "std           0.192650       233725.794951         0.207622   \n",
       "min           0.000000           39.000000         0.000000   \n",
       "25%           0.365000       110126.750000         0.349120   \n",
       "50%           0.493000       286337.000000         0.496175   \n",
       "75%           0.611000       511268.750000         0.612041   \n",
       "max           1.000000       823409.000000         1.000000   \n",
       "\n",
       "       start_of_fade_out         tempo  time_signature  \\\n",
       "count       20000.000000  20000.000000    20000.000000   \n",
       "mean          235.178549    124.897426        3.601900   \n",
       "std           112.629457     34.998190        1.231825   \n",
       "min             2.298000      0.000000        0.000000   \n",
       "25%           173.377000     99.077500        3.000000   \n",
       "50%           219.004500    121.798500        4.000000   \n",
       "75%           272.933000    145.939000        4.000000   \n",
       "max          2495.054000    252.943000        7.000000   \n",
       "\n",
       "       time_signature_confidence  track_7digitalid          year  \n",
       "count               20000.000000      2.000000e+04  20000.000000  \n",
       "mean                    0.503718      3.528192e+06   1996.898650  \n",
       "std                     0.370862      2.599764e+06     11.119836  \n",
       "min                     0.000000      4.430000e+02   1929.000000  \n",
       "25%                     0.103000      1.156470e+06   1992.000000  \n",
       "50%                     0.542000      3.221752e+06   2000.000000  \n",
       "75%                     0.850000      5.674990e+06   2006.000000  \n",
       "max                     1.000000      9.088514e+06   2010.000000  \n",
       "\n",
       "[8 rows x 24 columns]"
      ]
     },
     "execution_count": 11,
     "metadata": {},
     "output_type": "execute_result"
    }
   ],
   "source": [
    "df.describe()"
   ]
  }
 ],
 "metadata": {
  "kernelspec": {
   "display_name": "Python 3.10.0 ('venv': venv)",
   "language": "python",
   "name": "python3"
  },
  "language_info": {
   "codemirror_mode": {
    "name": "ipython",
    "version": 3
   },
   "file_extension": ".py",
   "mimetype": "text/x-python",
   "name": "python",
   "nbconvert_exporter": "python",
   "pygments_lexer": "ipython3",
   "version": "3.10.0"
  },
  "orig_nbformat": 4,
  "vscode": {
   "interpreter": {
    "hash": "bb068e2a9ebf9c6272085a57852a55431db6de48169afa30eaa3e89b8194a7bd"
   }
  }
 },
 "nbformat": 4,
 "nbformat_minor": 2
}
