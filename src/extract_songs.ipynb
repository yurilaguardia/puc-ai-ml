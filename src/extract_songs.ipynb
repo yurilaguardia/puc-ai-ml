{
 "cells": [
  {
   "cell_type": "markdown",
   "metadata": {},
   "source": [
    "# Extraindo 20 mil músicas da base de 1 milhão"
   ]
  },
  {
   "cell_type": "markdown",
   "metadata": {},
   "source": [
    "## Preparação"
   ]
  },
  {
   "cell_type": "markdown",
   "metadata": {},
   "source": [
    "### Imports"
   ]
  },
  {
   "cell_type": "markdown",
   "metadata": {},
   "source": [
    "Necessários o módulo pandas e nosso código custom para extrair as músicas"
   ]
  },
  {
   "cell_type": "code",
   "execution_count": 17,
   "metadata": {},
   "outputs": [],
   "source": [
    "import pandas as pd\n",
    "import requests  # para baixar a base/amostra para sua máquina\n",
    "from tqdm.notebook import tqdm # para mostrar barra de progresso\n",
    "import tarfile  # para descomprimir eventuais arquivos .tar.gz baixados\n",
    "from libs.extraction_helpers import load_song_data\n"
   ]
  },
  {
   "cell_type": "markdown",
   "metadata": {},
   "source": [
    "### Extensões\n",
    "\n",
    "A extensão abaixo precisa ser ativada para que uma barra de progresso seja mostrada durante a operação."
   ]
  },
  {
   "cell_type": "code",
   "execution_count": 10,
   "metadata": {},
   "outputs": [
    {
     "name": "stdout",
     "output_type": "stream",
     "text": [
      "Enabling notebook extension jupyter-js-widgets/extension...\n",
      "      - Validating: \u001b[32mOK\u001b[0m\n"
     ]
    }
   ],
   "source": [
    "!jupyter nbextension enable --py widgetsnbextension --sys-prefix"
   ]
  },
  {
   "cell_type": "markdown",
   "metadata": {},
   "source": [
    "### Localização do diretório que contém a base alvo (seja a base inteira ou o subset)\n"
   ]
  },
  {
   "cell_type": "code",
   "execution_count": 13,
   "metadata": {},
   "outputs": [],
   "source": [
    "PATH_R = \"../datasets/MillionSongSubset\""
   ]
  },
  {
   "cell_type": "markdown",
   "metadata": {},
   "source": [
    "### Baixando o MillionSongSubset para simular a existência da base neste computador (opcional)"
   ]
  },
  {
   "cell_type": "code",
   "execution_count": 4,
   "metadata": {},
   "outputs": [
    {
     "data": {
      "application/vnd.jupyter.widget-view+json": {
       "model_id": "0bf659b201024790a707f763c1cfc92e",
       "version_major": 2,
       "version_minor": 0
      },
      "text/plain": [
       "  0%|          | 0.00/1.98G [00:00<?, ?iB/s]"
      ]
     },
     "metadata": {},
     "output_type": "display_data"
    }
   ],
   "source": [
    "# Escrever o arquivo em disco, mostrando barra de progresso\n",
    "# https://stackoverflow.com/a/37573701\n",
    "\n",
    "url = \"http://labrosa.ee.columbia.edu/~dpwe/tmp/millionsongsubset.tar.gz\"\n",
    "response = requests.get(url, stream=True)\n",
    "\n",
    "# Levantar HTTPError pra qualquer resposta http não esperada\n",
    "response.raise_for_status()\n",
    "\n",
    "# Escrever e mostrar progresso\n",
    "total_size_in_bytes= int(response.headers.get('content-length', 0))\n",
    "block_size = 1024 # 1 Kb\n",
    "progress_bar = tqdm(total=total_size_in_bytes, unit='iB', unit_scale=True)\n",
    "output_filename = f\"{PATH_R}.tar.gz\"\n",
    "with open(output_filename, 'wb') as file:\n",
    "    for data in response.iter_content(block_size):\n",
    "        progress_bar.update(len(data))\n",
    "        file.write(data)\n",
    "progress_bar.close()\n",
    "if total_size_in_bytes != 0 and progress_bar.n != total_size_in_bytes:\n",
    "    print(\"ERRO: algo deu errado!\")"
   ]
  },
  {
   "cell_type": "markdown",
   "metadata": {},
   "source": [
    "#### Descomprimir o arquivo baixado (opcional)"
   ]
  },
  {
   "cell_type": "code",
   "execution_count": 14,
   "metadata": {},
   "outputs": [],
   "source": [
    "# open file\n",
    "file = tarfile.open(output_filename)\n",
    "  \n",
    "# extracting file\n",
    "file.extractall(\"../datasets/\")\n",
    "  \n",
    "file.close()"
   ]
  },
  {
   "cell_type": "code",
   "execution_count": 15,
   "metadata": {},
   "outputs": [],
   "source": [
    "# Localização de um arquivo de exemplo, para extrairmos os nomes de colunas etc\n",
    "PATH_HDF5 = \"../sample_data/TRAXLZU12903D05F94.h5\""
   ]
  },
  {
   "cell_type": "code",
   "execution_count": 18,
   "metadata": {},
   "outputs": [
    {
     "data": {
      "application/vnd.jupyter.widget-view+json": {
       "model_id": "e9c2d6a0381e4933b2bd8c9a982a6247",
       "version_major": 2,
       "version_minor": 0
      },
      "text/plain": [
       "  0%|          | 0/10000 [00:00<?, ?it/s]"
      ]
     },
     "metadata": {},
     "output_type": "display_data"
    }
   ],
   "source": [
    "df = load_song_data(dataset_root_dir=PATH_R, sample_hdf5_file_path=PATH_HDF5, letter=\"*\", half=None, max_songs=100)"
   ]
  },
  {
   "cell_type": "markdown",
   "metadata": {},
   "source": [
    "Informações básicas sobre o df:"
   ]
  },
  {
   "cell_type": "code",
   "execution_count": 19,
   "metadata": {},
   "outputs": [
    {
     "name": "stdout",
     "output_type": "stream",
     "text": [
      "<class 'pandas.core.frame.DataFrame'>\n",
      "RangeIndex: 100 entries, 0 to 99\n",
      "Data columns (total 54 columns):\n",
      " #   Column                      Non-Null Count  Dtype  \n",
      "---  ------                      --------------  -----  \n",
      " 0   analysis_sample_rate        100 non-null    int32  \n",
      " 1   artist_7digitalid           100 non-null    int32  \n",
      " 2   artist_familiarity          100 non-null    float64\n",
      " 3   artist_hotttnesss           100 non-null    float64\n",
      " 4   artist_id                   100 non-null    object \n",
      " 5   artist_latitude             100 non-null    float64\n",
      " 6   artist_location             100 non-null    object \n",
      " 7   artist_longitude            100 non-null    float64\n",
      " 8   artist_mbid                 100 non-null    object \n",
      " 9   artist_mbtags               100 non-null    object \n",
      " 10  artist_mbtags_count         100 non-null    object \n",
      " 11  artist_name                 100 non-null    object \n",
      " 12  artist_playmeid             100 non-null    int32  \n",
      " 13  artist_terms                100 non-null    object \n",
      " 14  artist_terms_freq           100 non-null    object \n",
      " 15  artist_terms_weight         100 non-null    object \n",
      " 16  audio_md5                   100 non-null    object \n",
      " 17  bars_confidence             100 non-null    object \n",
      " 18  bars_start                  100 non-null    object \n",
      " 19  beats_confidence            100 non-null    object \n",
      " 20  beats_start                 100 non-null    object \n",
      " 21  danceability                100 non-null    float64\n",
      " 22  duration                    100 non-null    float64\n",
      " 23  end_of_fade_in              100 non-null    float64\n",
      " 24  energy                      100 non-null    float64\n",
      " 25  key                         100 non-null    int32  \n",
      " 26  key_confidence              100 non-null    float64\n",
      " 27  loudness                    100 non-null    float64\n",
      " 28  mode                        100 non-null    int32  \n",
      " 29  mode_confidence             100 non-null    float64\n",
      " 30  release                     100 non-null    object \n",
      " 31  release_7digitalid          100 non-null    int32  \n",
      " 32  sections_confidence         100 non-null    object \n",
      " 33  sections_start              100 non-null    object \n",
      " 34  segments_confidence         100 non-null    object \n",
      " 35  segments_loudness_max       100 non-null    object \n",
      " 36  segments_loudness_max_time  100 non-null    object \n",
      " 37  segments_loudness_start     100 non-null    object \n",
      " 38  segments_pitches            100 non-null    object \n",
      " 39  segments_start              100 non-null    object \n",
      " 40  segments_timbre             100 non-null    object \n",
      " 41  similar_artists             100 non-null    object \n",
      " 42  song_hotttnesss             100 non-null    float64\n",
      " 43  song_id                     100 non-null    object \n",
      " 44  start_of_fade_out           100 non-null    float64\n",
      " 45  tatums_confidence           100 non-null    object \n",
      " 46  tatums_start                100 non-null    object \n",
      " 47  tempo                       100 non-null    float64\n",
      " 48  time_signature              100 non-null    int32  \n",
      " 49  time_signature_confidence   100 non-null    float64\n",
      " 50  title                       100 non-null    object \n",
      " 51  track_7digitalid            100 non-null    int32  \n",
      " 52  track_id                    100 non-null    object \n",
      " 53  year                        100 non-null    int32  \n",
      "dtypes: float64(15), int32(9), object(30)\n",
      "memory usage: 38.8+ KB\n"
     ]
    }
   ],
   "source": [
    "df.info(verbose=True)"
   ]
  },
  {
   "cell_type": "code",
   "execution_count": 20,
   "metadata": {},
   "outputs": [
    {
     "data": {
      "text/html": [
       "<div>\n",
       "<style scoped>\n",
       "    .dataframe tbody tr th:only-of-type {\n",
       "        vertical-align: middle;\n",
       "    }\n",
       "\n",
       "    .dataframe tbody tr th {\n",
       "        vertical-align: top;\n",
       "    }\n",
       "\n",
       "    .dataframe thead th {\n",
       "        text-align: right;\n",
       "    }\n",
       "</style>\n",
       "<table border=\"1\" class=\"dataframe\">\n",
       "  <thead>\n",
       "    <tr style=\"text-align: right;\">\n",
       "      <th></th>\n",
       "      <th>analysis_sample_rate</th>\n",
       "      <th>artist_7digitalid</th>\n",
       "      <th>artist_familiarity</th>\n",
       "      <th>artist_hotttnesss</th>\n",
       "      <th>artist_latitude</th>\n",
       "      <th>artist_longitude</th>\n",
       "      <th>artist_playmeid</th>\n",
       "      <th>danceability</th>\n",
       "      <th>duration</th>\n",
       "      <th>end_of_fade_in</th>\n",
       "      <th>...</th>\n",
       "      <th>mode</th>\n",
       "      <th>mode_confidence</th>\n",
       "      <th>release_7digitalid</th>\n",
       "      <th>song_hotttnesss</th>\n",
       "      <th>start_of_fade_out</th>\n",
       "      <th>tempo</th>\n",
       "      <th>time_signature</th>\n",
       "      <th>time_signature_confidence</th>\n",
       "      <th>track_7digitalid</th>\n",
       "      <th>year</th>\n",
       "    </tr>\n",
       "  </thead>\n",
       "  <tbody>\n",
       "    <tr>\n",
       "      <th>count</th>\n",
       "      <td>100.0</td>\n",
       "      <td>100.000000</td>\n",
       "      <td>100.000000</td>\n",
       "      <td>100.000000</td>\n",
       "      <td>100.000000</td>\n",
       "      <td>100.000000</td>\n",
       "      <td>100.000000</td>\n",
       "      <td>100.0</td>\n",
       "      <td>100.000000</td>\n",
       "      <td>100.000000</td>\n",
       "      <td>...</td>\n",
       "      <td>100.000000</td>\n",
       "      <td>100.000000</td>\n",
       "      <td>100.00000</td>\n",
       "      <td>100.000000</td>\n",
       "      <td>100.000000</td>\n",
       "      <td>100.000000</td>\n",
       "      <td>100.000000</td>\n",
       "      <td>100.000000</td>\n",
       "      <td>1.000000e+02</td>\n",
       "      <td>100.000000</td>\n",
       "    </tr>\n",
       "    <tr>\n",
       "      <th>mean</th>\n",
       "      <td>22050.0</td>\n",
       "      <td>47875.680000</td>\n",
       "      <td>0.669029</td>\n",
       "      <td>0.465172</td>\n",
       "      <td>38.129662</td>\n",
       "      <td>-50.648945</td>\n",
       "      <td>21094.040000</td>\n",
       "      <td>0.0</td>\n",
       "      <td>231.362420</td>\n",
       "      <td>0.980030</td>\n",
       "      <td>...</td>\n",
       "      <td>0.660000</td>\n",
       "      <td>0.496220</td>\n",
       "      <td>289474.69000</td>\n",
       "      <td>0.461796</td>\n",
       "      <td>223.006950</td>\n",
       "      <td>128.336480</td>\n",
       "      <td>3.790000</td>\n",
       "      <td>0.573170</td>\n",
       "      <td>3.267322e+06</td>\n",
       "      <td>1995.540000</td>\n",
       "    </tr>\n",
       "    <tr>\n",
       "      <th>std</th>\n",
       "      <td>0.0</td>\n",
       "      <td>85154.874295</td>\n",
       "      <td>0.111780</td>\n",
       "      <td>0.106817</td>\n",
       "      <td>19.671481</td>\n",
       "      <td>51.327864</td>\n",
       "      <td>35001.766838</td>\n",
       "      <td>0.0</td>\n",
       "      <td>93.980866</td>\n",
       "      <td>1.879673</td>\n",
       "      <td>...</td>\n",
       "      <td>0.476095</td>\n",
       "      <td>0.193497</td>\n",
       "      <td>231530.91598</td>\n",
       "      <td>0.223831</td>\n",
       "      <td>92.137416</td>\n",
       "      <td>37.169436</td>\n",
       "      <td>1.174605</td>\n",
       "      <td>0.384708</td>\n",
       "      <td>2.539364e+06</td>\n",
       "      <td>10.934534</td>\n",
       "    </tr>\n",
       "    <tr>\n",
       "      <th>min</th>\n",
       "      <td>22050.0</td>\n",
       "      <td>158.000000</td>\n",
       "      <td>0.407925</td>\n",
       "      <td>0.267757</td>\n",
       "      <td>-36.354840</td>\n",
       "      <td>-123.207900</td>\n",
       "      <td>-1.000000</td>\n",
       "      <td>0.0</td>\n",
       "      <td>77.609340</td>\n",
       "      <td>0.000000</td>\n",
       "      <td>...</td>\n",
       "      <td>0.000000</td>\n",
       "      <td>0.000000</td>\n",
       "      <td>205.00000</td>\n",
       "      <td>0.000000</td>\n",
       "      <td>72.150000</td>\n",
       "      <td>66.410000</td>\n",
       "      <td>1.000000</td>\n",
       "      <td>0.000000</td>\n",
       "      <td>2.133000e+03</td>\n",
       "      <td>1963.000000</td>\n",
       "    </tr>\n",
       "    <tr>\n",
       "      <th>25%</th>\n",
       "      <td>22050.0</td>\n",
       "      <td>4225.750000</td>\n",
       "      <td>0.605931</td>\n",
       "      <td>0.402167</td>\n",
       "      <td>34.053490</td>\n",
       "      <td>-91.075710</td>\n",
       "      <td>-1.000000</td>\n",
       "      <td>0.0</td>\n",
       "      <td>165.374240</td>\n",
       "      <td>0.087000</td>\n",
       "      <td>...</td>\n",
       "      <td>0.000000</td>\n",
       "      <td>0.367500</td>\n",
       "      <td>79744.25000</td>\n",
       "      <td>0.334707</td>\n",
       "      <td>154.182250</td>\n",
       "      <td>97.371250</td>\n",
       "      <td>4.000000</td>\n",
       "      <td>0.155500</td>\n",
       "      <td>1.078504e+06</td>\n",
       "      <td>1990.000000</td>\n",
       "    </tr>\n",
       "    <tr>\n",
       "      <th>50%</th>\n",
       "      <td>22050.0</td>\n",
       "      <td>15189.500000</td>\n",
       "      <td>0.662950</td>\n",
       "      <td>0.444521</td>\n",
       "      <td>40.717390</td>\n",
       "      <td>-73.540450</td>\n",
       "      <td>6302.500000</td>\n",
       "      <td>0.0</td>\n",
       "      <td>216.489340</td>\n",
       "      <td>0.235000</td>\n",
       "      <td>...</td>\n",
       "      <td>1.000000</td>\n",
       "      <td>0.500000</td>\n",
       "      <td>279023.50000</td>\n",
       "      <td>0.501740</td>\n",
       "      <td>209.937000</td>\n",
       "      <td>123.424500</td>\n",
       "      <td>4.000000</td>\n",
       "      <td>0.684500</td>\n",
       "      <td>3.110612e+06</td>\n",
       "      <td>1998.000000</td>\n",
       "    </tr>\n",
       "    <tr>\n",
       "      <th>75%</th>\n",
       "      <td>22050.0</td>\n",
       "      <td>44305.500000</td>\n",
       "      <td>0.732276</td>\n",
       "      <td>0.505097</td>\n",
       "      <td>51.490705</td>\n",
       "      <td>-1.252925</td>\n",
       "      <td>20363.000000</td>\n",
       "      <td>0.0</td>\n",
       "      <td>276.642810</td>\n",
       "      <td>0.602000</td>\n",
       "      <td>...</td>\n",
       "      <td>1.000000</td>\n",
       "      <td>0.604500</td>\n",
       "      <td>398235.00000</td>\n",
       "      <td>0.630779</td>\n",
       "      <td>267.218250</td>\n",
       "      <td>150.993250</td>\n",
       "      <td>4.000000</td>\n",
       "      <td>0.954750</td>\n",
       "      <td>4.422651e+06</td>\n",
       "      <td>2004.000000</td>\n",
       "    </tr>\n",
       "    <tr>\n",
       "      <th>max</th>\n",
       "      <td>22050.0</td>\n",
       "      <td>466819.000000</td>\n",
       "      <td>0.934935</td>\n",
       "      <td>0.908203</td>\n",
       "      <td>57.153820</td>\n",
       "      <td>146.326110</td>\n",
       "      <td>192660.000000</td>\n",
       "      <td>0.0</td>\n",
       "      <td>600.371790</td>\n",
       "      <td>12.179000</td>\n",
       "      <td>...</td>\n",
       "      <td>1.000000</td>\n",
       "      <td>0.988000</td>\n",
       "      <td>812979.00000</td>\n",
       "      <td>0.984347</td>\n",
       "      <td>588.121000</td>\n",
       "      <td>237.466000</td>\n",
       "      <td>7.000000</td>\n",
       "      <td>1.000000</td>\n",
       "      <td>8.984739e+06</td>\n",
       "      <td>2010.000000</td>\n",
       "    </tr>\n",
       "  </tbody>\n",
       "</table>\n",
       "<p>8 rows × 24 columns</p>\n",
       "</div>"
      ],
      "text/plain": [
       "       analysis_sample_rate  artist_7digitalid  artist_familiarity  \\\n",
       "count                 100.0         100.000000          100.000000   \n",
       "mean                22050.0       47875.680000            0.669029   \n",
       "std                     0.0       85154.874295            0.111780   \n",
       "min                 22050.0         158.000000            0.407925   \n",
       "25%                 22050.0        4225.750000            0.605931   \n",
       "50%                 22050.0       15189.500000            0.662950   \n",
       "75%                 22050.0       44305.500000            0.732276   \n",
       "max                 22050.0      466819.000000            0.934935   \n",
       "\n",
       "       artist_hotttnesss  artist_latitude  artist_longitude  artist_playmeid  \\\n",
       "count         100.000000       100.000000        100.000000       100.000000   \n",
       "mean            0.465172        38.129662        -50.648945     21094.040000   \n",
       "std             0.106817        19.671481         51.327864     35001.766838   \n",
       "min             0.267757       -36.354840       -123.207900        -1.000000   \n",
       "25%             0.402167        34.053490        -91.075710        -1.000000   \n",
       "50%             0.444521        40.717390        -73.540450      6302.500000   \n",
       "75%             0.505097        51.490705         -1.252925     20363.000000   \n",
       "max             0.908203        57.153820        146.326110    192660.000000   \n",
       "\n",
       "       danceability    duration  end_of_fade_in  ...        mode  \\\n",
       "count         100.0  100.000000      100.000000  ...  100.000000   \n",
       "mean            0.0  231.362420        0.980030  ...    0.660000   \n",
       "std             0.0   93.980866        1.879673  ...    0.476095   \n",
       "min             0.0   77.609340        0.000000  ...    0.000000   \n",
       "25%             0.0  165.374240        0.087000  ...    0.000000   \n",
       "50%             0.0  216.489340        0.235000  ...    1.000000   \n",
       "75%             0.0  276.642810        0.602000  ...    1.000000   \n",
       "max             0.0  600.371790       12.179000  ...    1.000000   \n",
       "\n",
       "       mode_confidence  release_7digitalid  song_hotttnesss  \\\n",
       "count       100.000000           100.00000       100.000000   \n",
       "mean          0.496220        289474.69000         0.461796   \n",
       "std           0.193497        231530.91598         0.223831   \n",
       "min           0.000000           205.00000         0.000000   \n",
       "25%           0.367500         79744.25000         0.334707   \n",
       "50%           0.500000        279023.50000         0.501740   \n",
       "75%           0.604500        398235.00000         0.630779   \n",
       "max           0.988000        812979.00000         0.984347   \n",
       "\n",
       "       start_of_fade_out       tempo  time_signature  \\\n",
       "count         100.000000  100.000000      100.000000   \n",
       "mean          223.006950  128.336480        3.790000   \n",
       "std            92.137416   37.169436        1.174605   \n",
       "min            72.150000   66.410000        1.000000   \n",
       "25%           154.182250   97.371250        4.000000   \n",
       "50%           209.937000  123.424500        4.000000   \n",
       "75%           267.218250  150.993250        4.000000   \n",
       "max           588.121000  237.466000        7.000000   \n",
       "\n",
       "       time_signature_confidence  track_7digitalid         year  \n",
       "count                 100.000000      1.000000e+02   100.000000  \n",
       "mean                    0.573170      3.267322e+06  1995.540000  \n",
       "std                     0.384708      2.539364e+06    10.934534  \n",
       "min                     0.000000      2.133000e+03  1963.000000  \n",
       "25%                     0.155500      1.078504e+06  1990.000000  \n",
       "50%                     0.684500      3.110612e+06  1998.000000  \n",
       "75%                     0.954750      4.422651e+06  2004.000000  \n",
       "max                     1.000000      8.984739e+06  2010.000000  \n",
       "\n",
       "[8 rows x 24 columns]"
      ]
     },
     "execution_count": 20,
     "metadata": {},
     "output_type": "execute_result"
    }
   ],
   "source": [
    "df.describe()"
   ]
  },
  {
   "cell_type": "markdown",
   "metadata": {},
   "source": [
    "### Extraindo o dataframe pra arquivo"
   ]
  },
  {
   "cell_type": "markdown",
   "metadata": {},
   "source": [
    "Se quisermos extrair o df como um json compresso (.json.gz):"
   ]
  },
  {
   "cell_type": "code",
   "execution_count": 21,
   "metadata": {},
   "outputs": [],
   "source": [
    "df.to_json(\"../datasets/20kSongs.json.gz\", orient=\"records\", compression={'method': 'gzip', 'compresslevel': 9, 'mtime': 1})"
   ]
  },
  {
   "cell_type": "markdown",
   "metadata": {},
   "source": [
    "Se quisermos extrair o df como arquivo pickle compresso (.pickle.gz):"
   ]
  },
  {
   "cell_type": "code",
   "execution_count": 16,
   "metadata": {},
   "outputs": [],
   "source": [
    "df.to_pickle(\"../datasets/20kSongs.pickle.gz\", compression={'method': 'gzip', 'compresslevel': 9, 'mtime': 1})"
   ]
  },
  {
   "cell_type": "markdown",
   "metadata": {},
   "source": [
    "### Teste de carregamento do arquivo extraído"
   ]
  },
  {
   "cell_type": "code",
   "execution_count": 24,
   "metadata": {},
   "outputs": [
    {
     "ename": "KeyboardInterrupt",
     "evalue": "",
     "output_type": "error",
     "traceback": [
      "\u001b[0;31m---------------------------------------------------------------------------\u001b[0m",
      "\u001b[0;31mKeyboardInterrupt\u001b[0m                         Traceback (most recent call last)",
      "\u001b[1;32m/workspaces/puc-ai-ml/src/extract_songs.ipynb Cell 25'\u001b[0m in \u001b[0;36m<cell line: 2>\u001b[0;34m()\u001b[0m\n\u001b[1;32m      <a href='vscode-notebook-cell://codespaces%2Byurilaguardia-puc-ai-ml-rpx7gq9x25xx4/workspaces/puc-ai-ml/src/extract_songs.ipynb#ch0000022vscode-remote?line=0'>1</a>\u001b[0m \u001b[39m# Testar carregar o arquivo que acabamos de extrair, ainda compresso:\u001b[39;00m\n\u001b[0;32m----> <a href='vscode-notebook-cell://codespaces%2Byurilaguardia-puc-ai-ml-rpx7gq9x25xx4/workspaces/puc-ai-ml/src/extract_songs.ipynb#ch0000022vscode-remote?line=1'>2</a>\u001b[0m df_extracted \u001b[39m=\u001b[39m pd\u001b[39m.\u001b[39;49mread_pickle(\u001b[39m\"\u001b[39;49m\u001b[39m../datasets/20kSongs.pickle.gz\u001b[39;49m\u001b[39m\"\u001b[39;49m, compression\u001b[39m=\u001b[39;49m{\u001b[39m'\u001b[39;49m\u001b[39mmethod\u001b[39;49m\u001b[39m'\u001b[39;49m: \u001b[39m'\u001b[39;49m\u001b[39mgzip\u001b[39;49m\u001b[39m'\u001b[39;49m, \u001b[39m'\u001b[39;49m\u001b[39mcompresslevel\u001b[39;49m\u001b[39m'\u001b[39;49m: \u001b[39m9\u001b[39;49m, \u001b[39m'\u001b[39;49m\u001b[39mmtime\u001b[39;49m\u001b[39m'\u001b[39;49m: \u001b[39m1\u001b[39;49m})\n",
      "File \u001b[0;32m/workspaces/puc-ai-ml/venv/lib/python3.10/site-packages/pandas/io/pickle.py:205\u001b[0m, in \u001b[0;36mread_pickle\u001b[0;34m(filepath_or_buffer, compression, storage_options)\u001b[0m\n\u001b[1;32m    202\u001b[0m     \u001b[39mwith\u001b[39;00m warnings\u001b[39m.\u001b[39mcatch_warnings(record\u001b[39m=\u001b[39m\u001b[39mTrue\u001b[39;00m):\n\u001b[1;32m    203\u001b[0m         \u001b[39m# We want to silence any warnings about, e.g. moved modules.\u001b[39;00m\n\u001b[1;32m    204\u001b[0m         warnings\u001b[39m.\u001b[39msimplefilter(\u001b[39m\"\u001b[39m\u001b[39mignore\u001b[39m\u001b[39m\"\u001b[39m, \u001b[39mWarning\u001b[39;00m)\n\u001b[0;32m--> 205\u001b[0m         \u001b[39mreturn\u001b[39;00m pickle\u001b[39m.\u001b[39;49mload(handles\u001b[39m.\u001b[39;49mhandle)\n\u001b[1;32m    206\u001b[0m \u001b[39mexcept\u001b[39;00m excs_to_catch:\n\u001b[1;32m    207\u001b[0m     \u001b[39m# e.g.\u001b[39;00m\n\u001b[1;32m    208\u001b[0m     \u001b[39m#  \"No module named 'pandas.core.sparse.series'\"\u001b[39;00m\n\u001b[1;32m    209\u001b[0m     \u001b[39m#  \"Can't get attribute '__nat_unpickle' on <module 'pandas._libs.tslib\"\u001b[39;00m\n\u001b[1;32m    210\u001b[0m     \u001b[39mreturn\u001b[39;00m pc\u001b[39m.\u001b[39mload(handles\u001b[39m.\u001b[39mhandle, encoding\u001b[39m=\u001b[39m\u001b[39mNone\u001b[39;00m)\n",
      "File \u001b[0;32m/usr/local/lib/python3.10/gzip.py:316\u001b[0m, in \u001b[0;36mGzipFile.peek\u001b[0;34m(self, n)\u001b[0m\n\u001b[1;32m    313\u001b[0m         size \u001b[39m=\u001b[39m io\u001b[39m.\u001b[39mDEFAULT_BUFFER_SIZE\n\u001b[1;32m    314\u001b[0m     \u001b[39mreturn\u001b[39;00m \u001b[39mself\u001b[39m\u001b[39m.\u001b[39m_buffer\u001b[39m.\u001b[39mread1(size)\n\u001b[0;32m--> 316\u001b[0m \u001b[39mdef\u001b[39;00m \u001b[39mpeek\u001b[39m(\u001b[39mself\u001b[39m, n):\n\u001b[1;32m    317\u001b[0m     \u001b[39mself\u001b[39m\u001b[39m.\u001b[39m_check_not_closed()\n\u001b[1;32m    318\u001b[0m     \u001b[39mif\u001b[39;00m \u001b[39mself\u001b[39m\u001b[39m.\u001b[39mmode \u001b[39m!=\u001b[39m READ:\n",
      "\u001b[0;31mKeyboardInterrupt\u001b[0m: "
     ]
    }
   ],
   "source": [
    "# Testar carregar o arquivo que acabamos de extrair, ainda compresso:\n",
    "df_extracted = pd.read_pickle(\"../datasets/20kSongs.pickle.gz\", compression={'method': 'gzip', 'compresslevel': 9, 'mtime': 1})"
   ]
  },
  {
   "cell_type": "code",
   "execution_count": 25,
   "metadata": {},
   "outputs": [
    {
     "ename": "NameError",
     "evalue": "name 'df_extracted' is not defined",
     "output_type": "error",
     "traceback": [
      "\u001b[0;31m---------------------------------------------------------------------------\u001b[0m",
      "\u001b[0;31mNameError\u001b[0m                                 Traceback (most recent call last)",
      "\u001b[1;32m/workspaces/puc-ai-ml/src/extract_songs.ipynb Cell 26'\u001b[0m in \u001b[0;36m<cell line: 1>\u001b[0;34m()\u001b[0m\n\u001b[0;32m----> <a href='vscode-notebook-cell://codespaces%2Byurilaguardia-puc-ai-ml-rpx7gq9x25xx4/workspaces/puc-ai-ml/src/extract_songs.ipynb#ch0000026vscode-remote?line=0'>1</a>\u001b[0m df_extracted\u001b[39m.\u001b[39minfo()\n",
      "\u001b[0;31mNameError\u001b[0m: name 'df_extracted' is not defined"
     ]
    }
   ],
   "source": [
    "df_extracted.info()"
   ]
  }
 ],
 "metadata": {
  "kernelspec": {
   "display_name": "Python 3.10.0 ('venv': venv)",
   "language": "python",
   "name": "python3"
  },
  "language_info": {
   "codemirror_mode": {
    "name": "ipython",
    "version": 3
   },
   "file_extension": ".py",
   "mimetype": "text/x-python",
   "name": "python",
   "nbconvert_exporter": "python",
   "pygments_lexer": "ipython3",
   "version": "3.10.0"
  },
  "orig_nbformat": 4,
  "vscode": {
   "interpreter": {
    "hash": "bb068e2a9ebf9c6272085a57852a55431db6de48169afa30eaa3e89b8194a7bd"
   }
  }
 },
 "nbformat": 4,
 "nbformat_minor": 2
}
