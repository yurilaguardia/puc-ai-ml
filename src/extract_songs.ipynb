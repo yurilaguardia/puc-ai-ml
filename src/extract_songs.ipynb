{
 "cells": [
  {
   "cell_type": "markdown",
   "metadata": {},
   "source": [
    "Imports required to perform the extraction operation:"
   ]
  },
  {
   "cell_type": "code",
   "execution_count": 3,
   "metadata": {},
   "outputs": [],
   "source": [
    "import pandas as pd\n",
    "from libs.data_helpers import load_song_data"
   ]
  },
  {
   "cell_type": "markdown",
   "metadata": {},
   "source": [
    "The below extension needs to be activated to show the progress bar"
   ]
  },
  {
   "cell_type": "code",
   "execution_count": 4,
   "metadata": {},
   "outputs": [
    {
     "name": "stdout",
     "output_type": "stream",
     "text": [
      "Enabling notebook extension jupyter-js-widgets/extension...\n",
      "      - Validating: \u001b[32mOK\u001b[0m\n"
     ]
    }
   ],
   "source": [
    "!jupyter nbextension enable --py widgetsnbextension --sys-prefix"
   ]
  },
  {
   "cell_type": "code",
   "execution_count": 3,
   "metadata": {},
   "outputs": [],
   "source": [
    "PATH_R = \"../MillionSongSubset\"\n",
    "PATH_HDF5 = \"../sample_data/TRAXLZU12903D05F94.h5\"\n"
   ]
  },
  {
   "cell_type": "code",
   "execution_count": 4,
   "metadata": {},
   "outputs": [
    {
     "data": {
      "application/vnd.jupyter.widget-view+json": {
       "model_id": "a71f731a67564fa48a62267f563026c7",
       "version_major": 2,
       "version_minor": 0
      },
      "text/plain": [
       "  0%|          | 0/3813 [00:00<?, ?it/s]"
      ]
     },
     "metadata": {},
     "output_type": "display_data"
    }
   ],
   "source": [
    "df = load_song_data(dataset_root_dir=PATH_R, sample_hdf5_file_path=PATH_HDF5, letter=\"*\", half=None, max_songs=None)"
   ]
  },
  {
   "cell_type": "markdown",
   "metadata": {},
   "source": [
    "Basic information about the df:"
   ]
  },
  {
   "cell_type": "code",
   "execution_count": 5,
   "metadata": {},
   "outputs": [
    {
     "name": "stdout",
     "output_type": "stream",
     "text": [
      "<class 'pandas.core.frame.DataFrame'>\n",
      "RangeIndex: 636 entries, 0 to 635\n",
      "Data columns (total 54 columns):\n",
      " #   Column                      Non-Null Count  Dtype  \n",
      "---  ------                      --------------  -----  \n",
      " 0   analysis_sample_rate        636 non-null    int32  \n",
      " 1   artist_7digitalid           636 non-null    int32  \n",
      " 2   artist_familiarity          636 non-null    float64\n",
      " 3   artist_hotttnesss           636 non-null    float64\n",
      " 4   artist_id                   636 non-null    object \n",
      " 5   artist_latitude             636 non-null    float64\n",
      " 6   artist_location             636 non-null    object \n",
      " 7   artist_longitude            636 non-null    float64\n",
      " 8   artist_mbid                 636 non-null    object \n",
      " 9   artist_mbtags               636 non-null    object \n",
      " 10  artist_mbtags_count         636 non-null    object \n",
      " 11  artist_name                 636 non-null    object \n",
      " 12  artist_playmeid             636 non-null    int32  \n",
      " 13  artist_terms                636 non-null    object \n",
      " 14  artist_terms_freq           636 non-null    object \n",
      " 15  artist_terms_weight         636 non-null    object \n",
      " 16  audio_md5                   636 non-null    object \n",
      " 17  bars_confidence             636 non-null    object \n",
      " 18  bars_start                  636 non-null    object \n",
      " 19  beats_confidence            636 non-null    object \n",
      " 20  beats_start                 636 non-null    object \n",
      " 21  danceability                636 non-null    float64\n",
      " 22  duration                    636 non-null    float64\n",
      " 23  end_of_fade_in              636 non-null    float64\n",
      " 24  energy                      636 non-null    float64\n",
      " 25  key                         636 non-null    int32  \n",
      " 26  key_confidence              636 non-null    float64\n",
      " 27  loudness                    636 non-null    float64\n",
      " 28  mode                        636 non-null    int32  \n",
      " 29  mode_confidence             636 non-null    float64\n",
      " 30  release                     636 non-null    object \n",
      " 31  release_7digitalid          636 non-null    int32  \n",
      " 32  sections_confidence         636 non-null    object \n",
      " 33  sections_start              636 non-null    object \n",
      " 34  segments_confidence         636 non-null    object \n",
      " 35  segments_loudness_max       636 non-null    object \n",
      " 36  segments_loudness_max_time  636 non-null    object \n",
      " 37  segments_loudness_start     636 non-null    object \n",
      " 38  segments_pitches            636 non-null    object \n",
      " 39  segments_start              636 non-null    object \n",
      " 40  segments_timbre             636 non-null    object \n",
      " 41  similar_artists             636 non-null    object \n",
      " 42  song_hotttnesss             636 non-null    float64\n",
      " 43  song_id                     636 non-null    object \n",
      " 44  start_of_fade_out           636 non-null    float64\n",
      " 45  tatums_confidence           636 non-null    object \n",
      " 46  tatums_start                636 non-null    object \n",
      " 47  tempo                       636 non-null    float64\n",
      " 48  time_signature              636 non-null    int32  \n",
      " 49  time_signature_confidence   636 non-null    float64\n",
      " 50  title                       636 non-null    object \n",
      " 51  track_7digitalid            636 non-null    int32  \n",
      " 52  track_id                    636 non-null    object \n",
      " 53  year                        636 non-null    int32  \n",
      "dtypes: float64(15), int32(9), object(30)\n",
      "memory usage: 246.1+ KB\n"
     ]
    }
   ],
   "source": [
    "df.info(verbose=True)"
   ]
  },
  {
   "cell_type": "markdown",
   "metadata": {},
   "source": [
    "If we want to extract the df as a compressed json:"
   ]
  },
  {
   "cell_type": "code",
   "execution_count": 21,
   "metadata": {},
   "outputs": [],
   "source": [
    "df.to_json(\"20kSongs.json.gz\", orient=\"records\", compression={'method': 'gzip', 'compresslevel': 9, 'mtime': 1})"
   ]
  },
  {
   "cell_type": "markdown",
   "metadata": {},
   "source": [
    "If we want to extract the df to a pickle:"
   ]
  },
  {
   "cell_type": "code",
   "execution_count": 16,
   "metadata": {},
   "outputs": [],
   "source": [
    "df.to_pickle(\"20kSongs.pickle.gz\", compression={'method': 'gzip', 'compresslevel': 9, 'mtime': 1})"
   ]
  },
  {
   "cell_type": "markdown",
   "metadata": {},
   "source": [
    "Test whether we can read the pickle we've just created:"
   ]
  },
  {
   "cell_type": "code",
   "execution_count": 17,
   "metadata": {},
   "outputs": [],
   "source": [
    "df_extracted = pd.read_pickle(\"20kSongs.pickle.gz\", compression={'method': 'gzip', 'compresslevel': 9, 'mtime': 1})"
   ]
  }
 ],
 "metadata": {
  "interpreter": {
   "hash": "b31b55448fdad6038316a47f42282bf79199278a7c491afcb527163d7fb13cc8"
  },
  "kernelspec": {
   "display_name": "Python 3.10.4 ('venv': venv)",
   "language": "python",
   "name": "python3"
  },
  "language_info": {
   "codemirror_mode": {
    "name": "ipython",
    "version": 3
   },
   "file_extension": ".py",
   "mimetype": "text/x-python",
   "name": "python",
   "nbconvert_exporter": "python",
   "pygments_lexer": "ipython3",
   "version": "3.10.4"
  },
  "orig_nbformat": 4
 },
 "nbformat": 4,
 "nbformat_minor": 2
}
