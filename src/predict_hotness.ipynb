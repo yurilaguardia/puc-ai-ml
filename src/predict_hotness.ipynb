{
 "cells": [
  {
   "cell_type": "code",
   "execution_count": 1,
   "metadata": {},
   "outputs": [],
   "source": [
    "import pandas as pd\n",
    "from sklearn.metrics import roc_auc_score\n",
    "import numpy as np\n",
    "import seaborn as sns\n",
    "import matplotlib\n",
    "from sklearn import metrics\n",
    "from sklearn.metrics import accuracy_score\n",
    "from sklearn.model_selection import cross_val_score, GridSearchCV\n",
    "import matplotlib.pyplot as plt\n",
    "import xgboost as xgb\n",
    "from xgboost.sklearn import XGBRegressor\n",
    "from xgboost.sklearn import XGBClassifier\n",
    "from sklearn.model_selection import KFold\n",
    "from sklearn.ensemble import RandomForestClassifier\n",
    "import copy\n",
    "from sklearn.model_selection import train_test_split\n",
    "from sklearn import svm\n",
    "from sklearn import preprocessing\n",
    "from sklearn.ensemble import RandomForestClassifier\n",
    "from sklearn.linear_model import LogisticRegression\n",
    "from sklearn.neighbors import KNeighborsClassifier\n",
    "from sklearn.svm import SVC, LinearSVC\n",
    "from sklearn.tree import DecisionTreeClassifier\n",
    "from sklearn import linear_model\n"
   ]
  },
  {
   "cell_type": "markdown",
   "metadata": {},
   "source": [
    "## Carregando os dados já com os códigos de países inclusos\n",
    "(utilizamos o caderno `coords_to_country.ipynb` para gerar os códigos)\n"
   ]
  },
  {
   "cell_type": "code",
   "execution_count": 2,
   "metadata": {},
   "outputs": [],
   "source": [
    "df = pd.read_pickle(\"../datasets/20kSongs_with_countries.pickle\")"
   ]
  },
  {
   "cell_type": "code",
   "execution_count": 3,
   "metadata": {},
   "outputs": [
    {
     "data": {
      "text/html": [
       "<div>\n",
       "<style scoped>\n",
       "    .dataframe tbody tr th:only-of-type {\n",
       "        vertical-align: middle;\n",
       "    }\n",
       "\n",
       "    .dataframe tbody tr th {\n",
       "        vertical-align: top;\n",
       "    }\n",
       "\n",
       "    .dataframe thead th {\n",
       "        text-align: right;\n",
       "    }\n",
       "</style>\n",
       "<table border=\"1\" class=\"dataframe\">\n",
       "  <thead>\n",
       "    <tr style=\"text-align: right;\">\n",
       "      <th></th>\n",
       "      <th>analysis_sample_rate</th>\n",
       "      <th>artist_7digitalid</th>\n",
       "      <th>artist_familiarity</th>\n",
       "      <th>artist_hotttnesss</th>\n",
       "      <th>artist_id</th>\n",
       "      <th>artist_latitude</th>\n",
       "      <th>artist_location</th>\n",
       "      <th>artist_longitude</th>\n",
       "      <th>artist_mbid</th>\n",
       "      <th>artist_mbtags</th>\n",
       "      <th>...</th>\n",
       "      <th>tatums_confidence</th>\n",
       "      <th>tatums_start</th>\n",
       "      <th>tempo</th>\n",
       "      <th>time_signature</th>\n",
       "      <th>time_signature_confidence</th>\n",
       "      <th>title</th>\n",
       "      <th>track_7digitalid</th>\n",
       "      <th>track_id</th>\n",
       "      <th>year</th>\n",
       "      <th>artist_country_code</th>\n",
       "    </tr>\n",
       "  </thead>\n",
       "  <tbody>\n",
       "    <tr>\n",
       "      <th>0</th>\n",
       "      <td>22050</td>\n",
       "      <td>27724</td>\n",
       "      <td>0.559823</td>\n",
       "      <td>0.391484</td>\n",
       "      <td>ARE93YV1187B9937CC</td>\n",
       "      <td>7.36529</td>\n",
       "      <td>Cameroon</td>\n",
       "      <td>12.34344</td>\n",
       "      <td>bc30924c-1900-41c3-9a97-41a93433836f</td>\n",
       "      <td>[world, folk]</td>\n",
       "      <td>...</td>\n",
       "      <td>[0.455, 0.435, 0.4, 0.375, 0.362, 0.354, 0.35,...</td>\n",
       "      <td>[0.20916, 0.42014, 0.63112, 0.84316, 1.05454, ...</td>\n",
       "      <td>139.092</td>\n",
       "      <td>4</td>\n",
       "      <td>0.000</td>\n",
       "      <td>Journey (Album Version)</td>\n",
       "      <td>412977</td>\n",
       "      <td>TRCCCRP128F147BEFA</td>\n",
       "      <td>1995</td>\n",
       "      <td>cm</td>\n",
       "    </tr>\n",
       "    <tr>\n",
       "      <th>1</th>\n",
       "      <td>22050</td>\n",
       "      <td>79</td>\n",
       "      <td>0.783031</td>\n",
       "      <td>0.478411</td>\n",
       "      <td>AR9FKRD1187B9B73D4</td>\n",
       "      <td>51.55503</td>\n",
       "      <td>Hampstead, London, England</td>\n",
       "      <td>-0.17348</td>\n",
       "      <td>14ed9dea-1bb0-4743-ba32-39674a71da89</td>\n",
       "      <td>[classic pop and rock]</td>\n",
       "      <td>...</td>\n",
       "      <td>[0.613, 0.608, 0.57, 0.539, 0.516, 0.493, 0.47...</td>\n",
       "      <td>[0.66188, 1.06217, 1.45659, 1.84906, 2.23956, ...</td>\n",
       "      <td>76.595</td>\n",
       "      <td>4</td>\n",
       "      <td>0.595</td>\n",
       "      <td>Great Expectations</td>\n",
       "      <td>319733</td>\n",
       "      <td>TRCCZOW128F146A22D</td>\n",
       "      <td>1999</td>\n",
       "      <td>gb</td>\n",
       "    </tr>\n",
       "    <tr>\n",
       "      <th>2</th>\n",
       "      <td>22050</td>\n",
       "      <td>368022</td>\n",
       "      <td>0.635055</td>\n",
       "      <td>0.394375</td>\n",
       "      <td>AR0BO8O1187B992CC1</td>\n",
       "      <td>53.64746</td>\n",
       "      <td>Huddersfield, UK</td>\n",
       "      <td>-1.79723</td>\n",
       "      <td>5540499f-8ab5-404f-a781-e959b1dc2778</td>\n",
       "      <td>[thrash metal]</td>\n",
       "      <td>...</td>\n",
       "      <td>[0.263, 0.271, 0.247, 0.218, 0.194, 0.172, 0.1...</td>\n",
       "      <td>[0.02909, 0.17137, 0.3166, 0.46478, 0.60485, 0...</td>\n",
       "      <td>203.897</td>\n",
       "      <td>4</td>\n",
       "      <td>0.000</td>\n",
       "      <td>Now Demolition</td>\n",
       "      <td>7666264</td>\n",
       "      <td>TRCCZQN12903CF5F22</td>\n",
       "      <td>2009</td>\n",
       "      <td>gb</td>\n",
       "    </tr>\n",
       "    <tr>\n",
       "      <th>3</th>\n",
       "      <td>22050</td>\n",
       "      <td>11189</td>\n",
       "      <td>0.721520</td>\n",
       "      <td>0.503304</td>\n",
       "      <td>ARD8ODS1187FB4ADFA</td>\n",
       "      <td>54.97791</td>\n",
       "      <td>Newcastle - Engeland</td>\n",
       "      <td>-1.61237</td>\n",
       "      <td>92e634a7-6023-4be8-be15-ebba822f5b34</td>\n",
       "      <td>[british, uk, britannique, rock and indie, ind...</td>\n",
       "      <td>...</td>\n",
       "      <td>[1.0, 1.0, 0.92, 0.837, 0.787, 0.721, 0.672, 0...</td>\n",
       "      <td>[0.34004, 0.71788, 1.09756, 1.47535, 1.85315, ...</td>\n",
       "      <td>78.485</td>\n",
       "      <td>4</td>\n",
       "      <td>0.165</td>\n",
       "      <td>I Want You To Stay</td>\n",
       "      <td>2018189</td>\n",
       "      <td>TRCCZZR128F4239D6F</td>\n",
       "      <td>2005</td>\n",
       "      <td>gb</td>\n",
       "    </tr>\n",
       "    <tr>\n",
       "      <th>4</th>\n",
       "      <td>22050</td>\n",
       "      <td>167141</td>\n",
       "      <td>0.718250</td>\n",
       "      <td>0.478790</td>\n",
       "      <td>ARNCTJ91187B98D813</td>\n",
       "      <td>49.89942</td>\n",
       "      <td>Winnipeg, Manitoba, Canada</td>\n",
       "      <td>-97.14074</td>\n",
       "      <td>56abaa47-0101-463b-b37e-e961136fec39</td>\n",
       "      <td>[breakcore, gabber, idm, drill n bass, electro...</td>\n",
       "      <td>...</td>\n",
       "      <td>[0.712, 0.66, 0.626, 0.586, 0.555, 0.537, 0.50...</td>\n",
       "      <td>[0.12177, 0.30471, 0.48857, 0.66967, 0.85537, ...</td>\n",
       "      <td>109.294</td>\n",
       "      <td>5</td>\n",
       "      <td>0.976</td>\n",
       "      <td>Banana Seat Girl</td>\n",
       "      <td>2665622</td>\n",
       "      <td>TRCCZMW128F4240542</td>\n",
       "      <td>2002</td>\n",
       "      <td>ca</td>\n",
       "    </tr>\n",
       "  </tbody>\n",
       "</table>\n",
       "<p>5 rows × 55 columns</p>\n",
       "</div>"
      ],
      "text/plain": [
       "   analysis_sample_rate  artist_7digitalid  artist_familiarity  \\\n",
       "0                 22050              27724            0.559823   \n",
       "1                 22050                 79            0.783031   \n",
       "2                 22050             368022            0.635055   \n",
       "3                 22050              11189            0.721520   \n",
       "4                 22050             167141            0.718250   \n",
       "\n",
       "   artist_hotttnesss           artist_id  artist_latitude  \\\n",
       "0           0.391484  ARE93YV1187B9937CC          7.36529   \n",
       "1           0.478411  AR9FKRD1187B9B73D4         51.55503   \n",
       "2           0.394375  AR0BO8O1187B992CC1         53.64746   \n",
       "3           0.503304  ARD8ODS1187FB4ADFA         54.97791   \n",
       "4           0.478790  ARNCTJ91187B98D813         49.89942   \n",
       "\n",
       "              artist_location  artist_longitude  \\\n",
       "0                    Cameroon          12.34344   \n",
       "1  Hampstead, London, England          -0.17348   \n",
       "2            Huddersfield, UK          -1.79723   \n",
       "3        Newcastle - Engeland          -1.61237   \n",
       "4  Winnipeg, Manitoba, Canada         -97.14074   \n",
       "\n",
       "                            artist_mbid  \\\n",
       "0  bc30924c-1900-41c3-9a97-41a93433836f   \n",
       "1  14ed9dea-1bb0-4743-ba32-39674a71da89   \n",
       "2  5540499f-8ab5-404f-a781-e959b1dc2778   \n",
       "3  92e634a7-6023-4be8-be15-ebba822f5b34   \n",
       "4  56abaa47-0101-463b-b37e-e961136fec39   \n",
       "\n",
       "                                       artist_mbtags  ...  \\\n",
       "0                                      [world, folk]  ...   \n",
       "1                             [classic pop and rock]  ...   \n",
       "2                                     [thrash metal]  ...   \n",
       "3  [british, uk, britannique, rock and indie, ind...  ...   \n",
       "4  [breakcore, gabber, idm, drill n bass, electro...  ...   \n",
       "\n",
       "                                   tatums_confidence  \\\n",
       "0  [0.455, 0.435, 0.4, 0.375, 0.362, 0.354, 0.35,...   \n",
       "1  [0.613, 0.608, 0.57, 0.539, 0.516, 0.493, 0.47...   \n",
       "2  [0.263, 0.271, 0.247, 0.218, 0.194, 0.172, 0.1...   \n",
       "3  [1.0, 1.0, 0.92, 0.837, 0.787, 0.721, 0.672, 0...   \n",
       "4  [0.712, 0.66, 0.626, 0.586, 0.555, 0.537, 0.50...   \n",
       "\n",
       "                                        tatums_start    tempo time_signature  \\\n",
       "0  [0.20916, 0.42014, 0.63112, 0.84316, 1.05454, ...  139.092              4   \n",
       "1  [0.66188, 1.06217, 1.45659, 1.84906, 2.23956, ...   76.595              4   \n",
       "2  [0.02909, 0.17137, 0.3166, 0.46478, 0.60485, 0...  203.897              4   \n",
       "3  [0.34004, 0.71788, 1.09756, 1.47535, 1.85315, ...   78.485              4   \n",
       "4  [0.12177, 0.30471, 0.48857, 0.66967, 0.85537, ...  109.294              5   \n",
       "\n",
       "  time_signature_confidence                    title track_7digitalid  \\\n",
       "0                     0.000  Journey (Album Version)           412977   \n",
       "1                     0.595       Great Expectations           319733   \n",
       "2                     0.000           Now Demolition          7666264   \n",
       "3                     0.165       I Want You To Stay          2018189   \n",
       "4                     0.976         Banana Seat Girl          2665622   \n",
       "\n",
       "             track_id  year artist_country_code  \n",
       "0  TRCCCRP128F147BEFA  1995                  cm  \n",
       "1  TRCCZOW128F146A22D  1999                  gb  \n",
       "2  TRCCZQN12903CF5F22  2009                  gb  \n",
       "3  TRCCZZR128F4239D6F  2005                  gb  \n",
       "4  TRCCZMW128F4240542  2002                  ca  \n",
       "\n",
       "[5 rows x 55 columns]"
      ]
     },
     "execution_count": 3,
     "metadata": {},
     "output_type": "execute_result"
    }
   ],
   "source": [
    "df.head(5)"
   ]
  },
  {
   "cell_type": "markdown",
   "metadata": {},
   "source": [
    "### Transformando song_hotttnesss de valores contínuos para valores discretos"
   ]
  },
  {
   "cell_type": "code",
   "execution_count": 4,
   "metadata": {},
   "outputs": [],
   "source": [
    "hot_song_threshold = 0.623\n",
    "df['song_hotttnesss'] = (df['song_hotttnesss'] > hot_song_threshold).astype(int)"
   ]
  },
  {
   "cell_type": "markdown",
   "metadata": {},
   "source": [
    "### Fazendo label encoding para do artist id"
   ]
  },
  {
   "cell_type": "code",
   "execution_count": 5,
   "metadata": {},
   "outputs": [],
   "source": [
    "le = preprocessing.LabelEncoder()\n",
    "df['artist_id'] = le.fit_transform(df['artist_id'].astype('str'))"
   ]
  },
  {
   "cell_type": "markdown",
   "metadata": {},
   "source": [
    "### Fazendo label encoding (one hot) dos códigos de país"
   ]
  },
  {
   "cell_type": "code",
   "execution_count": 6,
   "metadata": {},
   "outputs": [],
   "source": [
    "# Pegar one hot encoding da coluna\n",
    "one_hot = pd.get_dummies(df['artist_country_code'], prefix=\"artist_country_code\")\n",
    "\n",
    "# Drop da coluna, uma vez que já está codificada\n",
    "data = df.drop('artist_country_code', axis = 1)\n",
    "\n",
    "# Join do dataframe codificado com o original\n",
    "data = data.join(one_hot)"
   ]
  },
  {
   "cell_type": "code",
   "execution_count": 7,
   "metadata": {},
   "outputs": [],
   "source": [
    "# Distribuição gráfica de músicas que são \"hot\"\n",
    "def freq(col):\n",
    "   g = sns.kdeplot(data[col][(data[\"song_hotttnesss\"] == 1)], color=\"Blue\", shade = True)\n",
    "   g.set_xlabel(col)\n",
    "   g.set_ylabel(\"Frequency\")\n",
    "   g = g.legend([\"1\"])\n",
    "   plt.show()"
   ]
  },
  {
   "cell_type": "code",
   "execution_count": 8,
   "metadata": {},
   "outputs": [
    {
     "data": {
      "image/png": "[encoded data removed]",
      "text/plain": [
       "<Figure size 432x288 with 1 Axes>"
      ]
     },
     "metadata": {
      "needs_background": "light"
     },
     "output_type": "display_data"
    }
   ],
   "source": [
    "freq(\"tempo\")"
   ]
  },
  {
   "cell_type": "code",
   "execution_count": 9,
   "metadata": {},
   "outputs": [
    {
     "data": {
      "image/png": "[encoded data removed]",
      "text/plain": [
       "<Figure size 432x288 with 1 Axes>"
      ]
     },
     "metadata": {
      "needs_background": "light"
     },
     "output_type": "display_data"
    }
   ],
   "source": [
    "freq(\"duration\")"
   ]
  },
  {
   "cell_type": "code",
   "execution_count": 10,
   "metadata": {},
   "outputs": [
    {
     "data": {
      "image/png": "[encoded data removed]",
      "text/plain": [
       "<Figure size 432x288 with 1 Axes>"
      ]
     },
     "metadata": {
      "needs_background": "light"
     },
     "output_type": "display_data"
    }
   ],
   "source": [
    "freq(\"start_of_fade_out\")"
   ]
  },
  {
   "cell_type": "code",
   "execution_count": 11,
   "metadata": {},
   "outputs": [
    {
     "data": {
      "image/png": "[encoded data removed]",
      "text/plain": [
       "<Figure size 432x288 with 1 Axes>"
      ]
     },
     "metadata": {
      "needs_background": "light"
     },
     "output_type": "display_data"
    }
   ],
   "source": [
    "freq(\"end_of_fade_in\")"
   ]
  },
  {
   "cell_type": "code",
   "execution_count": 12,
   "metadata": {},
   "outputs": [
    {
     "data": {
      "image/png": "[encoded data removed]",
      "text/plain": [
       "<Figure size 432x288 with 1 Axes>"
      ]
     },
     "metadata": {
      "needs_background": "light"
     },
     "output_type": "display_data"
    }
   ],
   "source": [
    "freq(\"mode_confidence\")"
   ]
  },
  {
   "cell_type": "code",
   "execution_count": 13,
   "metadata": {},
   "outputs": [
    {
     "name": "stdout",
     "output_type": "stream",
     "text": [
      "<class 'pandas.core.frame.DataFrame'>\n",
      "Int64Index: 19981 entries, 0 to 19999\n",
      "Columns: 110 entries, analysis_sample_rate to artist_country_code_za\n",
      "dtypes: float64(14), int32(9), int64(2), object(29), uint8(56)\n",
      "memory usage: 9.3+ MB\n"
     ]
    }
   ],
   "source": [
    "data.info()"
   ]
  },
  {
   "cell_type": "code",
   "execution_count": null,
   "metadata": {},
   "outputs": [],
   "source": [
    "# Se quisermos delimitar o tamanho do DF para rodar mais rápido\n",
    "# data = data[:10000]\n",
    "# data.info()"
   ]
  },
  {
   "cell_type": "code",
   "execution_count": 14,
   "metadata": {},
   "outputs": [
    {
     "data": {
      "text/plain": [
       "['analysis_sample_rate',\n",
       " 'artist_7digitalid',\n",
       " 'artist_latitude',\n",
       " 'artist_location',\n",
       " 'artist_longitude',\n",
       " 'artist_mbid',\n",
       " 'artist_mbtags',\n",
       " 'artist_mbtags_count',\n",
       " 'artist_name',\n",
       " 'artist_playmeid',\n",
       " 'artist_terms',\n",
       " 'artist_terms_freq',\n",
       " 'artist_terms_weight',\n",
       " 'audio_md5',\n",
       " 'bars_confidence',\n",
       " 'bars_start',\n",
       " 'beats_confidence',\n",
       " 'beats_start',\n",
       " 'danceability',\n",
       " 'energy',\n",
       " 'release',\n",
       " 'release_7digitalid',\n",
       " 'sections_confidence',\n",
       " 'sections_start',\n",
       " 'segments_confidence',\n",
       " 'segments_loudness_max',\n",
       " 'segments_loudness_max_time',\n",
       " 'segments_loudness_start',\n",
       " 'segments_pitches',\n",
       " 'segments_start',\n",
       " 'segments_timbre',\n",
       " 'similar_artists',\n",
       " 'song_id',\n",
       " 'tatums_confidence',\n",
       " 'tatums_start',\n",
       " 'title',\n",
       " 'track_7digitalid',\n",
       " 'track_id']"
      ]
     },
     "execution_count": 14,
     "metadata": {},
     "output_type": "execute_result"
    }
   ],
   "source": [
    "country_cols = [col for col in data.columns if 'artist_country_code' in col]\n",
    "interesting_cols = [\n",
    "    \"artist_familiarity\",\n",
    "    \"artist_hotttnesss\",\n",
    "    \"artist_id\",\n",
    "    \"year\",\n",
    "    \"time_signature\",\n",
    "    \"duration\",\n",
    "    \"key\",\n",
    "    \"tempo\",\n",
    "    \"mode\",\n",
    "    \"mode_confidence\",\n",
    "    \"time_signature_confidence\",\n",
    "    \"end_of_fade_in\",\n",
    "    \"loudness\",\n",
    "    \"start_of_fade_out\",\n",
    "    \"key_confidence\",\n",
    "    \"song_hotttnesss\",\n",
    "] + country_cols\n",
    "\n",
    "drop_list = [col for col in data.columns if col not in interesting_cols]\n",
    "drop_list"
   ]
  },
  {
   "cell_type": "code",
   "execution_count": 15,
   "metadata": {},
   "outputs": [],
   "source": [
    "train = data.drop(drop_list, axis=1)"
   ]
  },
  {
   "cell_type": "code",
   "execution_count": 16,
   "metadata": {},
   "outputs": [
    {
     "name": "stdout",
     "output_type": "stream",
     "text": [
      "<class 'pandas.core.frame.DataFrame'>\n",
      "Int64Index: 19981 entries, 0 to 19999\n",
      "Data columns (total 72 columns):\n",
      " #   Column                     Non-Null Count  Dtype  \n",
      "---  ------                     --------------  -----  \n",
      " 0   artist_familiarity         19981 non-null  float64\n",
      " 1   artist_hotttnesss          19981 non-null  float64\n",
      " 2   artist_id                  19981 non-null  int64  \n",
      " 3   duration                   19981 non-null  float64\n",
      " 4   end_of_fade_in             19981 non-null  float64\n",
      " 5   key                        19981 non-null  int32  \n",
      " 6   key_confidence             19981 non-null  float64\n",
      " 7   loudness                   19981 non-null  float64\n",
      " 8   mode                       19981 non-null  int32  \n",
      " 9   mode_confidence            19981 non-null  float64\n",
      " 10  song_hotttnesss            19981 non-null  int64  \n",
      " 11  start_of_fade_out          19981 non-null  float64\n",
      " 12  tempo                      19981 non-null  float64\n",
      " 13  time_signature             19981 non-null  int32  \n",
      " 14  time_signature_confidence  19981 non-null  float64\n",
      " 15  year                       19981 non-null  int32  \n",
      " 16  artist_country_code_ar     19981 non-null  uint8  \n",
      " 17  artist_country_code_at     19981 non-null  uint8  \n",
      " 18  artist_country_code_au     19981 non-null  uint8  \n",
      " 19  artist_country_code_bb     19981 non-null  uint8  \n",
      " 20  artist_country_code_be     19981 non-null  uint8  \n",
      " 21  artist_country_code_br     19981 non-null  uint8  \n",
      " 22  artist_country_code_ca     19981 non-null  uint8  \n",
      " 23  artist_country_code_ch     19981 non-null  uint8  \n",
      " 24  artist_country_code_cl     19981 non-null  uint8  \n",
      " 25  artist_country_code_cm     19981 non-null  uint8  \n",
      " 26  artist_country_code_cn     19981 non-null  uint8  \n",
      " 27  artist_country_code_co     19981 non-null  uint8  \n",
      " 28  artist_country_code_cu     19981 non-null  uint8  \n",
      " 29  artist_country_code_cz     19981 non-null  uint8  \n",
      " 30  artist_country_code_de     19981 non-null  uint8  \n",
      " 31  artist_country_code_dk     19981 non-null  uint8  \n",
      " 32  artist_country_code_do     19981 non-null  uint8  \n",
      " 33  artist_country_code_dz     19981 non-null  uint8  \n",
      " 34  artist_country_code_eg     19981 non-null  uint8  \n",
      " 35  artist_country_code_es     19981 non-null  uint8  \n",
      " 36  artist_country_code_fi     19981 non-null  uint8  \n",
      " 37  artist_country_code_fr     19981 non-null  uint8  \n",
      " 38  artist_country_code_gb     19981 non-null  uint8  \n",
      " 39  artist_country_code_gr     19981 non-null  uint8  \n",
      " 40  artist_country_code_gy     19981 non-null  uint8  \n",
      " 41  artist_country_code_id     19981 non-null  uint8  \n",
      " 42  artist_country_code_ie     19981 non-null  uint8  \n",
      " 43  artist_country_code_il     19981 non-null  uint8  \n",
      " 44  artist_country_code_im     19981 non-null  uint8  \n",
      " 45  artist_country_code_in     19981 non-null  uint8  \n",
      " 46  artist_country_code_ir     19981 non-null  uint8  \n",
      " 47  artist_country_code_is     19981 non-null  uint8  \n",
      " 48  artist_country_code_it     19981 non-null  uint8  \n",
      " 49  artist_country_code_jm     19981 non-null  uint8  \n",
      " 50  artist_country_code_jp     19981 non-null  uint8  \n",
      " 51  artist_country_code_lb     19981 non-null  uint8  \n",
      " 52  artist_country_code_lv     19981 non-null  uint8  \n",
      " 53  artist_country_code_ml     19981 non-null  uint8  \n",
      " 54  artist_country_code_mx     19981 non-null  uint8  \n",
      " 55  artist_country_code_ng     19981 non-null  uint8  \n",
      " 56  artist_country_code_nl     19981 non-null  uint8  \n",
      " 57  artist_country_code_no     19981 non-null  uint8  \n",
      " 58  artist_country_code_nz     19981 non-null  uint8  \n",
      " 59  artist_country_code_pl     19981 non-null  uint8  \n",
      " 60  artist_country_code_pt     19981 non-null  uint8  \n",
      " 61  artist_country_code_ru     19981 non-null  uint8  \n",
      " 62  artist_country_code_se     19981 non-null  uint8  \n",
      " 63  artist_country_code_si     19981 non-null  uint8  \n",
      " 64  artist_country_code_sn     19981 non-null  uint8  \n",
      " 65  artist_country_code_tn     19981 non-null  uint8  \n",
      " 66  artist_country_code_tr     19981 non-null  uint8  \n",
      " 67  artist_country_code_tt     19981 non-null  uint8  \n",
      " 68  artist_country_code_tz     19981 non-null  uint8  \n",
      " 69  artist_country_code_us     19981 non-null  uint8  \n",
      " 70  artist_country_code_ve     19981 non-null  uint8  \n",
      " 71  artist_country_code_za     19981 non-null  uint8  \n",
      "dtypes: float64(10), int32(4), int64(2), uint8(56)\n",
      "memory usage: 3.9 MB\n"
     ]
    }
   ],
   "source": [
    "train.info()"
   ]
  },
  {
   "cell_type": "code",
   "execution_count": 17,
   "metadata": {},
   "outputs": [
    {
     "data": {
      "text/plain": [
       "(19981,)"
      ]
     },
     "execution_count": 17,
     "metadata": {},
     "output_type": "execute_result"
    }
   ],
   "source": [
    "Y = copy.deepcopy(train.song_hotttnesss)\n",
    "Y.shape"
   ]
  },
  {
   "cell_type": "code",
   "execution_count": 18,
   "metadata": {},
   "outputs": [],
   "source": [
    "train[\"artist_familiarity\"] = train[\"artist_familiarity\"].fillna(train[\"artist_familiarity\"].median())"
   ]
  },
  {
   "cell_type": "code",
   "execution_count": 19,
   "metadata": {},
   "outputs": [],
   "source": [
    "train1 = train.drop(\"song_hotttnesss\", axis=1)"
   ]
  },
  {
   "cell_type": "code",
   "execution_count": 20,
   "metadata": {},
   "outputs": [],
   "source": [
    "X_train, X_test, y_train, y_test = train_test_split(train1, Y, test_size=0.30, random_state=7)"
   ]
  },
  {
   "cell_type": "code",
   "execution_count": 21,
   "metadata": {},
   "outputs": [
    {
     "name": "stdout",
     "output_type": "stream",
     "text": [
      "Accuracy: 83.14%\n"
     ]
    }
   ],
   "source": [
    "model = XGBClassifier()\n",
    "model.fit(X_train, y_train)\n",
    "\n",
    "# Fazer previsões para os dados de teste\n",
    "y_pred = model.predict(X_test)\n",
    "accuracy = model.score(X_test, y_test)\n",
    "print(f\"Accuracy: {round(accuracy * 100, 2,)}%\")\n"
   ]
  },
  {
   "cell_type": "code",
   "execution_count": 22,
   "metadata": {},
   "outputs": [],
   "source": [
    "# Função para avaliar o modelo com Cross validation\n",
    "from sklearn.model_selection import cross_val_score\n",
    "def testingModel(model, X_train, Y_train):\n",
    "    scores = cross_val_score(model, X_train, Y_train, cv=10)\n",
    "    print(\"Scores:\", scores)\n",
    "    print(\"Mean:\", scores.mean())\n",
    "    print(\"Standard Deviation:\", scores.std())\n",
    "    return scores.mean()"
   ]
  },
  {
   "cell_type": "code",
   "execution_count": 32,
   "metadata": {},
   "outputs": [
    {
     "name": "stderr",
     "output_type": "stream",
     "text": [
      "/home/ylaguardia/code/puc-ai-ml/venv/lib/python3.10/site-packages/sklearn/utils/validation.py:1858: FutureWarning: Feature names only support names that are all strings. Got feature names with dtypes: ['str', 'str_']. An error will be raised in 1.2.\n",
      "  warnings.warn(\n",
      "/home/ylaguardia/code/puc-ai-ml/venv/lib/python3.10/site-packages/sklearn/utils/validation.py:1858: FutureWarning: Feature names only support names that are all strings. Got feature names with dtypes: ['str', 'str_']. An error will be raised in 1.2.\n",
      "  warnings.warn(\n",
      "/home/ylaguardia/code/puc-ai-ml/venv/lib/python3.10/site-packages/sklearn/utils/validation.py:1858: FutureWarning: Feature names only support names that are all strings. Got feature names with dtypes: ['str', 'str_']. An error will be raised in 1.2.\n",
      "  warnings.warn(\n",
      "/home/ylaguardia/code/puc-ai-ml/venv/lib/python3.10/site-packages/sklearn/utils/validation.py:1858: FutureWarning: Feature names only support names that are all strings. Got feature names with dtypes: ['str', 'str_']. An error will be raised in 1.2.\n",
      "  warnings.warn(\n",
      "/home/ylaguardia/code/puc-ai-ml/venv/lib/python3.10/site-packages/sklearn/utils/validation.py:1858: FutureWarning: Feature names only support names that are all strings. Got feature names with dtypes: ['str', 'str_']. An error will be raised in 1.2.\n",
      "  warnings.warn(\n",
      "/home/ylaguardia/code/puc-ai-ml/venv/lib/python3.10/site-packages/sklearn/utils/validation.py:1858: FutureWarning: Feature names only support names that are all strings. Got feature names with dtypes: ['str', 'str_']. An error will be raised in 1.2.\n",
      "  warnings.warn(\n",
      "/home/ylaguardia/code/puc-ai-ml/venv/lib/python3.10/site-packages/sklearn/utils/validation.py:1858: FutureWarning: Feature names only support names that are all strings. Got feature names with dtypes: ['str', 'str_']. An error will be raised in 1.2.\n",
      "  warnings.warn(\n",
      "/home/ylaguardia/code/puc-ai-ml/venv/lib/python3.10/site-packages/sklearn/utils/validation.py:1858: FutureWarning: Feature names only support names that are all strings. Got feature names with dtypes: ['str', 'str_']. An error will be raised in 1.2.\n",
      "  warnings.warn(\n",
      "/home/ylaguardia/code/puc-ai-ml/venv/lib/python3.10/site-packages/sklearn/utils/validation.py:1858: FutureWarning: Feature names only support names that are all strings. Got feature names with dtypes: ['str', 'str_']. An error will be raised in 1.2.\n",
      "  warnings.warn(\n",
      "/home/ylaguardia/code/puc-ai-ml/venv/lib/python3.10/site-packages/sklearn/utils/validation.py:1858: FutureWarning: Feature names only support names that are all strings. Got feature names with dtypes: ['str', 'str_']. An error will be raised in 1.2.\n",
      "  warnings.warn(\n",
      "/home/ylaguardia/code/puc-ai-ml/venv/lib/python3.10/site-packages/sklearn/utils/validation.py:1858: FutureWarning: Feature names only support names that are all strings. Got feature names with dtypes: ['str', 'str_']. An error will be raised in 1.2.\n",
      "  warnings.warn(\n",
      "/home/ylaguardia/code/puc-ai-ml/venv/lib/python3.10/site-packages/sklearn/utils/validation.py:1858: FutureWarning: Feature names only support names that are all strings. Got feature names with dtypes: ['str', 'str_']. An error will be raised in 1.2.\n",
      "  warnings.warn(\n",
      "/home/ylaguardia/code/puc-ai-ml/venv/lib/python3.10/site-packages/sklearn/utils/validation.py:1858: FutureWarning: Feature names only support names that are all strings. Got feature names with dtypes: ['str', 'str_']. An error will be raised in 1.2.\n",
      "  warnings.warn(\n",
      "/home/ylaguardia/code/puc-ai-ml/venv/lib/python3.10/site-packages/sklearn/utils/validation.py:1858: FutureWarning: Feature names only support names that are all strings. Got feature names with dtypes: ['str', 'str_']. An error will be raised in 1.2.\n",
      "  warnings.warn(\n",
      "/home/ylaguardia/code/puc-ai-ml/venv/lib/python3.10/site-packages/sklearn/utils/validation.py:1858: FutureWarning: Feature names only support names that are all strings. Got feature names with dtypes: ['str', 'str_']. An error will be raised in 1.2.\n",
      "  warnings.warn(\n",
      "/home/ylaguardia/code/puc-ai-ml/venv/lib/python3.10/site-packages/sklearn/utils/validation.py:1858: FutureWarning: Feature names only support names that are all strings. Got feature names with dtypes: ['str', 'str_']. An error will be raised in 1.2.\n",
      "  warnings.warn(\n",
      "/home/ylaguardia/code/puc-ai-ml/venv/lib/python3.10/site-packages/sklearn/utils/validation.py:1858: FutureWarning: Feature names only support names that are all strings. Got feature names with dtypes: ['str', 'str_']. An error will be raised in 1.2.\n",
      "  warnings.warn(\n",
      "/home/ylaguardia/code/puc-ai-ml/venv/lib/python3.10/site-packages/sklearn/utils/validation.py:1858: FutureWarning: Feature names only support names that are all strings. Got feature names with dtypes: ['str', 'str_']. An error will be raised in 1.2.\n",
      "  warnings.warn(\n",
      "/home/ylaguardia/code/puc-ai-ml/venv/lib/python3.10/site-packages/sklearn/utils/validation.py:1858: FutureWarning: Feature names only support names that are all strings. Got feature names with dtypes: ['str', 'str_']. An error will be raised in 1.2.\n",
      "  warnings.warn(\n",
      "/home/ylaguardia/code/puc-ai-ml/venv/lib/python3.10/site-packages/sklearn/utils/validation.py:1858: FutureWarning: Feature names only support names that are all strings. Got feature names with dtypes: ['str', 'str_']. An error will be raised in 1.2.\n",
      "  warnings.warn(\n"
     ]
    },
    {
     "name": "stdout",
     "output_type": "stream",
     "text": [
      "Scores: [0.81690845 0.81781782 0.82082082 0.82232232 0.82282282 0.81631632\n",
      " 0.82082082 0.82032032 0.81481481 0.82832833]\n",
      "Mean: 0.8201292838611499\n",
      "Standard Deviation: 0.0037253290218487826\n",
      "Accuracy: 82.01%\n"
     ]
    },
    {
     "name": "stderr",
     "output_type": "stream",
     "text": [
      "/home/ylaguardia/code/puc-ai-ml/venv/lib/python3.10/site-packages/sklearn/utils/validation.py:1858: FutureWarning: Feature names only support names that are all strings. Got feature names with dtypes: ['str', 'str_']. An error will be raised in 1.2.\n",
      "  warnings.warn(\n"
     ]
    }
   ],
   "source": [
    "# 82.01%\n",
    "rf = RandomForestClassifier(n_estimators=100, oob_score=True)\n",
    "rf.fit(train1, Y)\n",
    "acc_random_forest = testingModel(rf, train1, Y)\n",
    "print(f\"Accuracy: {round(acc_random_forest*100,2,)}%\")\n"
   ]
  },
  {
   "cell_type": "code",
   "execution_count": 33,
   "metadata": {},
   "outputs": [
    {
     "name": "stdout",
     "output_type": "stream",
     "text": [
      "Scores: [0.8154077  0.81781782 0.81931932 0.82232232 0.81931932 0.82082082\n",
      " 0.82282282 0.81831832 0.80580581 0.83383383]\n",
      "Mean: 0.8195788084232307\n",
      "Standard Deviation: 0.006593308342883414\n",
      "Accuracy: 81.96%\n"
     ]
    }
   ],
   "source": [
    "# 81.96%\n",
    "xgb1 = XGBClassifier(\n",
    "    learning_rate=0.1,\n",
    "    n_estimators=100,\n",
    "    max_depth=5,\n",
    "    min_child_weight=1,\n",
    "    gamma=0,\n",
    "    subsample=0.8,\n",
    "    colsample_bytree=0.8,\n",
    "    objective=\"binary:logistic\",\n",
    "    nthread=4,\n",
    "    scale_pos_weight=1,\n",
    "    seed=27,\n",
    ")\n",
    "xgb1.fit(train1, Y)\n",
    "acc_xgb = testingModel(xgb1, train1, Y)\n",
    "\n",
    "print(f\"Accuracy: {round(acc_xgb * 100,2,)}%\")"
   ]
  },
  {
   "cell_type": "code",
   "execution_count": 25,
   "metadata": {},
   "outputs": [
    {
     "name": "stderr",
     "output_type": "stream",
     "text": [
      "/home/ylaguardia/code/puc-ai-ml/venv/lib/python3.10/site-packages/sklearn/utils/validation.py:1858: FutureWarning: Feature names only support names that are all strings. Got feature names with dtypes: ['str', 'str_']. An error will be raised in 1.2.\n",
      "  warnings.warn(\n",
      "/home/ylaguardia/code/puc-ai-ml/venv/lib/python3.10/site-packages/sklearn/linear_model/_logistic.py:444: ConvergenceWarning: lbfgs failed to converge (status=1):\n",
      "STOP: TOTAL NO. of ITERATIONS REACHED LIMIT.\n",
      "\n",
      "Increase the number of iterations (max_iter) or scale the data as shown in:\n",
      "    https://scikit-learn.org/stable/modules/preprocessing.html\n",
      "Please also refer to the documentation for alternative solver options:\n",
      "    https://scikit-learn.org/stable/modules/linear_model.html#logistic-regression\n",
      "  n_iter_i = _check_optimize_result(\n",
      "/home/ylaguardia/code/puc-ai-ml/venv/lib/python3.10/site-packages/sklearn/utils/validation.py:1858: FutureWarning: Feature names only support names that are all strings. Got feature names with dtypes: ['str', 'str_']. An error will be raised in 1.2.\n",
      "  warnings.warn(\n",
      "/home/ylaguardia/code/puc-ai-ml/venv/lib/python3.10/site-packages/sklearn/linear_model/_logistic.py:444: ConvergenceWarning: lbfgs failed to converge (status=1):\n",
      "STOP: TOTAL NO. of ITERATIONS REACHED LIMIT.\n",
      "\n",
      "Increase the number of iterations (max_iter) or scale the data as shown in:\n",
      "    https://scikit-learn.org/stable/modules/preprocessing.html\n",
      "Please also refer to the documentation for alternative solver options:\n",
      "    https://scikit-learn.org/stable/modules/linear_model.html#logistic-regression\n",
      "  n_iter_i = _check_optimize_result(\n",
      "/home/ylaguardia/code/puc-ai-ml/venv/lib/python3.10/site-packages/sklearn/utils/validation.py:1858: FutureWarning: Feature names only support names that are all strings. Got feature names with dtypes: ['str', 'str_']. An error will be raised in 1.2.\n",
      "  warnings.warn(\n",
      "/home/ylaguardia/code/puc-ai-ml/venv/lib/python3.10/site-packages/sklearn/utils/validation.py:1858: FutureWarning: Feature names only support names that are all strings. Got feature names with dtypes: ['str', 'str_']. An error will be raised in 1.2.\n",
      "  warnings.warn(\n",
      "/home/ylaguardia/code/puc-ai-ml/venv/lib/python3.10/site-packages/sklearn/linear_model/_logistic.py:444: ConvergenceWarning: lbfgs failed to converge (status=1):\n",
      "STOP: TOTAL NO. of ITERATIONS REACHED LIMIT.\n",
      "\n",
      "Increase the number of iterations (max_iter) or scale the data as shown in:\n",
      "    https://scikit-learn.org/stable/modules/preprocessing.html\n",
      "Please also refer to the documentation for alternative solver options:\n",
      "    https://scikit-learn.org/stable/modules/linear_model.html#logistic-regression\n",
      "  n_iter_i = _check_optimize_result(\n",
      "/home/ylaguardia/code/puc-ai-ml/venv/lib/python3.10/site-packages/sklearn/utils/validation.py:1858: FutureWarning: Feature names only support names that are all strings. Got feature names with dtypes: ['str', 'str_']. An error will be raised in 1.2.\n",
      "  warnings.warn(\n",
      "/home/ylaguardia/code/puc-ai-ml/venv/lib/python3.10/site-packages/sklearn/utils/validation.py:1858: FutureWarning: Feature names only support names that are all strings. Got feature names with dtypes: ['str', 'str_']. An error will be raised in 1.2.\n",
      "  warnings.warn(\n",
      "/home/ylaguardia/code/puc-ai-ml/venv/lib/python3.10/site-packages/sklearn/linear_model/_logistic.py:444: ConvergenceWarning: lbfgs failed to converge (status=1):\n",
      "STOP: TOTAL NO. of ITERATIONS REACHED LIMIT.\n",
      "\n",
      "Increase the number of iterations (max_iter) or scale the data as shown in:\n",
      "    https://scikit-learn.org/stable/modules/preprocessing.html\n",
      "Please also refer to the documentation for alternative solver options:\n",
      "    https://scikit-learn.org/stable/modules/linear_model.html#logistic-regression\n",
      "  n_iter_i = _check_optimize_result(\n",
      "/home/ylaguardia/code/puc-ai-ml/venv/lib/python3.10/site-packages/sklearn/utils/validation.py:1858: FutureWarning: Feature names only support names that are all strings. Got feature names with dtypes: ['str', 'str_']. An error will be raised in 1.2.\n",
      "  warnings.warn(\n",
      "/home/ylaguardia/code/puc-ai-ml/venv/lib/python3.10/site-packages/sklearn/utils/validation.py:1858: FutureWarning: Feature names only support names that are all strings. Got feature names with dtypes: ['str', 'str_']. An error will be raised in 1.2.\n",
      "  warnings.warn(\n",
      "/home/ylaguardia/code/puc-ai-ml/venv/lib/python3.10/site-packages/sklearn/linear_model/_logistic.py:444: ConvergenceWarning: lbfgs failed to converge (status=1):\n",
      "STOP: TOTAL NO. of ITERATIONS REACHED LIMIT.\n",
      "\n",
      "Increase the number of iterations (max_iter) or scale the data as shown in:\n",
      "    https://scikit-learn.org/stable/modules/preprocessing.html\n",
      "Please also refer to the documentation for alternative solver options:\n",
      "    https://scikit-learn.org/stable/modules/linear_model.html#logistic-regression\n",
      "  n_iter_i = _check_optimize_result(\n",
      "/home/ylaguardia/code/puc-ai-ml/venv/lib/python3.10/site-packages/sklearn/utils/validation.py:1858: FutureWarning: Feature names only support names that are all strings. Got feature names with dtypes: ['str', 'str_']. An error will be raised in 1.2.\n",
      "  warnings.warn(\n",
      "/home/ylaguardia/code/puc-ai-ml/venv/lib/python3.10/site-packages/sklearn/utils/validation.py:1858: FutureWarning: Feature names only support names that are all strings. Got feature names with dtypes: ['str', 'str_']. An error will be raised in 1.2.\n",
      "  warnings.warn(\n",
      "/home/ylaguardia/code/puc-ai-ml/venv/lib/python3.10/site-packages/sklearn/linear_model/_logistic.py:444: ConvergenceWarning: lbfgs failed to converge (status=1):\n",
      "STOP: TOTAL NO. of ITERATIONS REACHED LIMIT.\n",
      "\n",
      "Increase the number of iterations (max_iter) or scale the data as shown in:\n",
      "    https://scikit-learn.org/stable/modules/preprocessing.html\n",
      "Please also refer to the documentation for alternative solver options:\n",
      "    https://scikit-learn.org/stable/modules/linear_model.html#logistic-regression\n",
      "  n_iter_i = _check_optimize_result(\n",
      "/home/ylaguardia/code/puc-ai-ml/venv/lib/python3.10/site-packages/sklearn/utils/validation.py:1858: FutureWarning: Feature names only support names that are all strings. Got feature names with dtypes: ['str', 'str_']. An error will be raised in 1.2.\n",
      "  warnings.warn(\n",
      "/home/ylaguardia/code/puc-ai-ml/venv/lib/python3.10/site-packages/sklearn/utils/validation.py:1858: FutureWarning: Feature names only support names that are all strings. Got feature names with dtypes: ['str', 'str_']. An error will be raised in 1.2.\n",
      "  warnings.warn(\n",
      "/home/ylaguardia/code/puc-ai-ml/venv/lib/python3.10/site-packages/sklearn/linear_model/_logistic.py:444: ConvergenceWarning: lbfgs failed to converge (status=1):\n",
      "STOP: TOTAL NO. of ITERATIONS REACHED LIMIT.\n",
      "\n",
      "Increase the number of iterations (max_iter) or scale the data as shown in:\n",
      "    https://scikit-learn.org/stable/modules/preprocessing.html\n",
      "Please also refer to the documentation for alternative solver options:\n",
      "    https://scikit-learn.org/stable/modules/linear_model.html#logistic-regression\n",
      "  n_iter_i = _check_optimize_result(\n",
      "/home/ylaguardia/code/puc-ai-ml/venv/lib/python3.10/site-packages/sklearn/utils/validation.py:1858: FutureWarning: Feature names only support names that are all strings. Got feature names with dtypes: ['str', 'str_']. An error will be raised in 1.2.\n",
      "  warnings.warn(\n",
      "/home/ylaguardia/code/puc-ai-ml/venv/lib/python3.10/site-packages/sklearn/utils/validation.py:1858: FutureWarning: Feature names only support names that are all strings. Got feature names with dtypes: ['str', 'str_']. An error will be raised in 1.2.\n",
      "  warnings.warn(\n",
      "/home/ylaguardia/code/puc-ai-ml/venv/lib/python3.10/site-packages/sklearn/linear_model/_logistic.py:444: ConvergenceWarning: lbfgs failed to converge (status=1):\n",
      "STOP: TOTAL NO. of ITERATIONS REACHED LIMIT.\n",
      "\n",
      "Increase the number of iterations (max_iter) or scale the data as shown in:\n",
      "    https://scikit-learn.org/stable/modules/preprocessing.html\n",
      "Please also refer to the documentation for alternative solver options:\n",
      "    https://scikit-learn.org/stable/modules/linear_model.html#logistic-regression\n",
      "  n_iter_i = _check_optimize_result(\n",
      "/home/ylaguardia/code/puc-ai-ml/venv/lib/python3.10/site-packages/sklearn/utils/validation.py:1858: FutureWarning: Feature names only support names that are all strings. Got feature names with dtypes: ['str', 'str_']. An error will be raised in 1.2.\n",
      "  warnings.warn(\n",
      "/home/ylaguardia/code/puc-ai-ml/venv/lib/python3.10/site-packages/sklearn/utils/validation.py:1858: FutureWarning: Feature names only support names that are all strings. Got feature names with dtypes: ['str', 'str_']. An error will be raised in 1.2.\n",
      "  warnings.warn(\n",
      "/home/ylaguardia/code/puc-ai-ml/venv/lib/python3.10/site-packages/sklearn/linear_model/_logistic.py:444: ConvergenceWarning: lbfgs failed to converge (status=1):\n",
      "STOP: TOTAL NO. of ITERATIONS REACHED LIMIT.\n",
      "\n",
      "Increase the number of iterations (max_iter) or scale the data as shown in:\n",
      "    https://scikit-learn.org/stable/modules/preprocessing.html\n",
      "Please also refer to the documentation for alternative solver options:\n",
      "    https://scikit-learn.org/stable/modules/linear_model.html#logistic-regression\n",
      "  n_iter_i = _check_optimize_result(\n",
      "/home/ylaguardia/code/puc-ai-ml/venv/lib/python3.10/site-packages/sklearn/utils/validation.py:1858: FutureWarning: Feature names only support names that are all strings. Got feature names with dtypes: ['str', 'str_']. An error will be raised in 1.2.\n",
      "  warnings.warn(\n",
      "/home/ylaguardia/code/puc-ai-ml/venv/lib/python3.10/site-packages/sklearn/utils/validation.py:1858: FutureWarning: Feature names only support names that are all strings. Got feature names with dtypes: ['str', 'str_']. An error will be raised in 1.2.\n",
      "  warnings.warn(\n",
      "/home/ylaguardia/code/puc-ai-ml/venv/lib/python3.10/site-packages/sklearn/linear_model/_logistic.py:444: ConvergenceWarning: lbfgs failed to converge (status=1):\n",
      "STOP: TOTAL NO. of ITERATIONS REACHED LIMIT.\n",
      "\n",
      "Increase the number of iterations (max_iter) or scale the data as shown in:\n",
      "    https://scikit-learn.org/stable/modules/preprocessing.html\n",
      "Please also refer to the documentation for alternative solver options:\n",
      "    https://scikit-learn.org/stable/modules/linear_model.html#logistic-regression\n",
      "  n_iter_i = _check_optimize_result(\n",
      "/home/ylaguardia/code/puc-ai-ml/venv/lib/python3.10/site-packages/sklearn/utils/validation.py:1858: FutureWarning: Feature names only support names that are all strings. Got feature names with dtypes: ['str', 'str_']. An error will be raised in 1.2.\n",
      "  warnings.warn(\n",
      "/home/ylaguardia/code/puc-ai-ml/venv/lib/python3.10/site-packages/sklearn/utils/validation.py:1858: FutureWarning: Feature names only support names that are all strings. Got feature names with dtypes: ['str', 'str_']. An error will be raised in 1.2.\n",
      "  warnings.warn(\n"
     ]
    },
    {
     "name": "stdout",
     "output_type": "stream",
     "text": [
      "Scores: [0.76888444 0.77077077 0.77127127 0.77127127 0.77177177 0.77027027\n",
      " 0.77127127 0.77127127 0.77177177 0.77177177]\n",
      "Mean: 0.7710325883662552\n",
      "Standard Deviation: 0.0008444680947929478\n",
      "Accuracy: 77.1%\n"
     ]
    },
    {
     "name": "stderr",
     "output_type": "stream",
     "text": [
      "/home/ylaguardia/code/puc-ai-ml/venv/lib/python3.10/site-packages/sklearn/linear_model/_logistic.py:444: ConvergenceWarning: lbfgs failed to converge (status=1):\n",
      "STOP: TOTAL NO. of ITERATIONS REACHED LIMIT.\n",
      "\n",
      "Increase the number of iterations (max_iter) or scale the data as shown in:\n",
      "    https://scikit-learn.org/stable/modules/preprocessing.html\n",
      "Please also refer to the documentation for alternative solver options:\n",
      "    https://scikit-learn.org/stable/modules/linear_model.html#logistic-regression\n",
      "  n_iter_i = _check_optimize_result(\n",
      "/home/ylaguardia/code/puc-ai-ml/venv/lib/python3.10/site-packages/sklearn/utils/validation.py:1858: FutureWarning: Feature names only support names that are all strings. Got feature names with dtypes: ['str', 'str_']. An error will be raised in 1.2.\n",
      "  warnings.warn(\n"
     ]
    }
   ],
   "source": [
    "# 77.1%\n",
    "logreg = LogisticRegression()\n",
    "\n",
    "logreg.fit(train1, Y)\n",
    "\n",
    "acc_log = testingModel(logreg, train1, Y)\n",
    "\n",
    "print(f\"Accuracy: {round(acc_log*100,2,)}%\")"
   ]
  },
  {
   "cell_type": "code",
   "execution_count": 26,
   "metadata": {},
   "outputs": [
    {
     "name": "stderr",
     "output_type": "stream",
     "text": [
      "/home/ylaguardia/code/puc-ai-ml/venv/lib/python3.10/site-packages/sklearn/utils/validation.py:1858: FutureWarning: Feature names only support names that are all strings. Got feature names with dtypes: ['str', 'str_']. An error will be raised in 1.2.\n",
      "  warnings.warn(\n",
      "/home/ylaguardia/code/puc-ai-ml/venv/lib/python3.10/site-packages/sklearn/utils/validation.py:1858: FutureWarning: Feature names only support names that are all strings. Got feature names with dtypes: ['str', 'str_']. An error will be raised in 1.2.\n",
      "  warnings.warn(\n",
      "/home/ylaguardia/code/puc-ai-ml/venv/lib/python3.10/site-packages/sklearn/utils/validation.py:1858: FutureWarning: Feature names only support names that are all strings. Got feature names with dtypes: ['str', 'str_']. An error will be raised in 1.2.\n",
      "  warnings.warn(\n",
      "/home/ylaguardia/code/puc-ai-ml/venv/lib/python3.10/site-packages/sklearn/utils/validation.py:1858: FutureWarning: Feature names only support names that are all strings. Got feature names with dtypes: ['str', 'str_']. An error will be raised in 1.2.\n",
      "  warnings.warn(\n",
      "/home/ylaguardia/code/puc-ai-ml/venv/lib/python3.10/site-packages/sklearn/utils/validation.py:1858: FutureWarning: Feature names only support names that are all strings. Got feature names with dtypes: ['str', 'str_']. An error will be raised in 1.2.\n",
      "  warnings.warn(\n",
      "/home/ylaguardia/code/puc-ai-ml/venv/lib/python3.10/site-packages/sklearn/utils/validation.py:1858: FutureWarning: Feature names only support names that are all strings. Got feature names with dtypes: ['str', 'str_']. An error will be raised in 1.2.\n",
      "  warnings.warn(\n",
      "/home/ylaguardia/code/puc-ai-ml/venv/lib/python3.10/site-packages/sklearn/utils/validation.py:1858: FutureWarning: Feature names only support names that are all strings. Got feature names with dtypes: ['str', 'str_']. An error will be raised in 1.2.\n",
      "  warnings.warn(\n",
      "/home/ylaguardia/code/puc-ai-ml/venv/lib/python3.10/site-packages/sklearn/utils/validation.py:1858: FutureWarning: Feature names only support names that are all strings. Got feature names with dtypes: ['str', 'str_']. An error will be raised in 1.2.\n",
      "  warnings.warn(\n",
      "/home/ylaguardia/code/puc-ai-ml/venv/lib/python3.10/site-packages/sklearn/utils/validation.py:1858: FutureWarning: Feature names only support names that are all strings. Got feature names with dtypes: ['str', 'str_']. An error will be raised in 1.2.\n",
      "  warnings.warn(\n",
      "/home/ylaguardia/code/puc-ai-ml/venv/lib/python3.10/site-packages/sklearn/utils/validation.py:1858: FutureWarning: Feature names only support names that are all strings. Got feature names with dtypes: ['str', 'str_']. An error will be raised in 1.2.\n",
      "  warnings.warn(\n",
      "/home/ylaguardia/code/puc-ai-ml/venv/lib/python3.10/site-packages/sklearn/utils/validation.py:1858: FutureWarning: Feature names only support names that are all strings. Got feature names with dtypes: ['str', 'str_']. An error will be raised in 1.2.\n",
      "  warnings.warn(\n",
      "/home/ylaguardia/code/puc-ai-ml/venv/lib/python3.10/site-packages/sklearn/utils/validation.py:1858: FutureWarning: Feature names only support names that are all strings. Got feature names with dtypes: ['str', 'str_']. An error will be raised in 1.2.\n",
      "  warnings.warn(\n",
      "/home/ylaguardia/code/puc-ai-ml/venv/lib/python3.10/site-packages/sklearn/utils/validation.py:1858: FutureWarning: Feature names only support names that are all strings. Got feature names with dtypes: ['str', 'str_']. An error will be raised in 1.2.\n",
      "  warnings.warn(\n",
      "/home/ylaguardia/code/puc-ai-ml/venv/lib/python3.10/site-packages/sklearn/utils/validation.py:1858: FutureWarning: Feature names only support names that are all strings. Got feature names with dtypes: ['str', 'str_']. An error will be raised in 1.2.\n",
      "  warnings.warn(\n",
      "/home/ylaguardia/code/puc-ai-ml/venv/lib/python3.10/site-packages/sklearn/utils/validation.py:1858: FutureWarning: Feature names only support names that are all strings. Got feature names with dtypes: ['str', 'str_']. An error will be raised in 1.2.\n",
      "  warnings.warn(\n",
      "/home/ylaguardia/code/puc-ai-ml/venv/lib/python3.10/site-packages/sklearn/utils/validation.py:1858: FutureWarning: Feature names only support names that are all strings. Got feature names with dtypes: ['str', 'str_']. An error will be raised in 1.2.\n",
      "  warnings.warn(\n",
      "/home/ylaguardia/code/puc-ai-ml/venv/lib/python3.10/site-packages/sklearn/utils/validation.py:1858: FutureWarning: Feature names only support names that are all strings. Got feature names with dtypes: ['str', 'str_']. An error will be raised in 1.2.\n",
      "  warnings.warn(\n",
      "/home/ylaguardia/code/puc-ai-ml/venv/lib/python3.10/site-packages/sklearn/utils/validation.py:1858: FutureWarning: Feature names only support names that are all strings. Got feature names with dtypes: ['str', 'str_']. An error will be raised in 1.2.\n",
      "  warnings.warn(\n",
      "/home/ylaguardia/code/puc-ai-ml/venv/lib/python3.10/site-packages/sklearn/utils/validation.py:1858: FutureWarning: Feature names only support names that are all strings. Got feature names with dtypes: ['str', 'str_']. An error will be raised in 1.2.\n",
      "  warnings.warn(\n"
     ]
    },
    {
     "name": "stdout",
     "output_type": "stream",
     "text": [
      "Scores: [0.72086043 0.72672673 0.7012012  0.71571572 0.71971972 0.73573574\n",
      " 0.70920921 0.71271271 0.72372372 0.72622623]\n",
      "Mean: 0.7191831401186078\n",
      "Standard Deviation: 0.009385820100174535\n",
      "Accuracy: 71.92%\n"
     ]
    },
    {
     "name": "stderr",
     "output_type": "stream",
     "text": [
      "/home/ylaguardia/code/puc-ai-ml/venv/lib/python3.10/site-packages/sklearn/utils/validation.py:1858: FutureWarning: Feature names only support names that are all strings. Got feature names with dtypes: ['str', 'str_']. An error will be raised in 1.2.\n",
      "  warnings.warn(\n",
      "/home/ylaguardia/code/puc-ai-ml/venv/lib/python3.10/site-packages/sklearn/utils/validation.py:1858: FutureWarning: Feature names only support names that are all strings. Got feature names with dtypes: ['str', 'str_']. An error will be raised in 1.2.\n",
      "  warnings.warn(\n"
     ]
    }
   ],
   "source": [
    "# 71.92%\n",
    "knn = KNeighborsClassifier(n_neighbors=3)\n",
    "\n",
    "knn.fit(train1, Y)\n",
    "\n",
    "acc_knn = testingModel(knn, train1, Y)\n",
    "\n",
    "print(f\"Accuracy: {round(acc_knn*100,2,)}%\")"
   ]
  },
  {
   "cell_type": "code",
   "execution_count": 27,
   "metadata": {},
   "outputs": [
    {
     "name": "stderr",
     "output_type": "stream",
     "text": [
      "/home/ylaguardia/code/puc-ai-ml/venv/lib/python3.10/site-packages/sklearn/utils/validation.py:1858: FutureWarning: Feature names only support names that are all strings. Got feature names with dtypes: ['str', 'str_']. An error will be raised in 1.2.\n",
      "  warnings.warn(\n",
      "/home/ylaguardia/code/puc-ai-ml/venv/lib/python3.10/site-packages/sklearn/svm/_base.py:1225: ConvergenceWarning: Liblinear failed to converge, increase the number of iterations.\n",
      "  warnings.warn(\n",
      "/home/ylaguardia/code/puc-ai-ml/venv/lib/python3.10/site-packages/sklearn/utils/validation.py:1858: FutureWarning: Feature names only support names that are all strings. Got feature names with dtypes: ['str', 'str_']. An error will be raised in 1.2.\n",
      "  warnings.warn(\n",
      "/home/ylaguardia/code/puc-ai-ml/venv/lib/python3.10/site-packages/sklearn/svm/_base.py:1225: ConvergenceWarning: Liblinear failed to converge, increase the number of iterations.\n",
      "  warnings.warn(\n",
      "/home/ylaguardia/code/puc-ai-ml/venv/lib/python3.10/site-packages/sklearn/utils/validation.py:1858: FutureWarning: Feature names only support names that are all strings. Got feature names with dtypes: ['str', 'str_']. An error will be raised in 1.2.\n",
      "  warnings.warn(\n",
      "/home/ylaguardia/code/puc-ai-ml/venv/lib/python3.10/site-packages/sklearn/utils/validation.py:1858: FutureWarning: Feature names only support names that are all strings. Got feature names with dtypes: ['str', 'str_']. An error will be raised in 1.2.\n",
      "  warnings.warn(\n",
      "/home/ylaguardia/code/puc-ai-ml/venv/lib/python3.10/site-packages/sklearn/svm/_base.py:1225: ConvergenceWarning: Liblinear failed to converge, increase the number of iterations.\n",
      "  warnings.warn(\n",
      "/home/ylaguardia/code/puc-ai-ml/venv/lib/python3.10/site-packages/sklearn/utils/validation.py:1858: FutureWarning: Feature names only support names that are all strings. Got feature names with dtypes: ['str', 'str_']. An error will be raised in 1.2.\n",
      "  warnings.warn(\n",
      "/home/ylaguardia/code/puc-ai-ml/venv/lib/python3.10/site-packages/sklearn/utils/validation.py:1858: FutureWarning: Feature names only support names that are all strings. Got feature names with dtypes: ['str', 'str_']. An error will be raised in 1.2.\n",
      "  warnings.warn(\n",
      "/home/ylaguardia/code/puc-ai-ml/venv/lib/python3.10/site-packages/sklearn/svm/_base.py:1225: ConvergenceWarning: Liblinear failed to converge, increase the number of iterations.\n",
      "  warnings.warn(\n",
      "/home/ylaguardia/code/puc-ai-ml/venv/lib/python3.10/site-packages/sklearn/utils/validation.py:1858: FutureWarning: Feature names only support names that are all strings. Got feature names with dtypes: ['str', 'str_']. An error will be raised in 1.2.\n",
      "  warnings.warn(\n",
      "/home/ylaguardia/code/puc-ai-ml/venv/lib/python3.10/site-packages/sklearn/utils/validation.py:1858: FutureWarning: Feature names only support names that are all strings. Got feature names with dtypes: ['str', 'str_']. An error will be raised in 1.2.\n",
      "  warnings.warn(\n",
      "/home/ylaguardia/code/puc-ai-ml/venv/lib/python3.10/site-packages/sklearn/svm/_base.py:1225: ConvergenceWarning: Liblinear failed to converge, increase the number of iterations.\n",
      "  warnings.warn(\n",
      "/home/ylaguardia/code/puc-ai-ml/venv/lib/python3.10/site-packages/sklearn/utils/validation.py:1858: FutureWarning: Feature names only support names that are all strings. Got feature names with dtypes: ['str', 'str_']. An error will be raised in 1.2.\n",
      "  warnings.warn(\n",
      "/home/ylaguardia/code/puc-ai-ml/venv/lib/python3.10/site-packages/sklearn/utils/validation.py:1858: FutureWarning: Feature names only support names that are all strings. Got feature names with dtypes: ['str', 'str_']. An error will be raised in 1.2.\n",
      "  warnings.warn(\n",
      "/home/ylaguardia/code/puc-ai-ml/venv/lib/python3.10/site-packages/sklearn/svm/_base.py:1225: ConvergenceWarning: Liblinear failed to converge, increase the number of iterations.\n",
      "  warnings.warn(\n",
      "/home/ylaguardia/code/puc-ai-ml/venv/lib/python3.10/site-packages/sklearn/utils/validation.py:1858: FutureWarning: Feature names only support names that are all strings. Got feature names with dtypes: ['str', 'str_']. An error will be raised in 1.2.\n",
      "  warnings.warn(\n",
      "/home/ylaguardia/code/puc-ai-ml/venv/lib/python3.10/site-packages/sklearn/utils/validation.py:1858: FutureWarning: Feature names only support names that are all strings. Got feature names with dtypes: ['str', 'str_']. An error will be raised in 1.2.\n",
      "  warnings.warn(\n",
      "/home/ylaguardia/code/puc-ai-ml/venv/lib/python3.10/site-packages/sklearn/svm/_base.py:1225: ConvergenceWarning: Liblinear failed to converge, increase the number of iterations.\n",
      "  warnings.warn(\n",
      "/home/ylaguardia/code/puc-ai-ml/venv/lib/python3.10/site-packages/sklearn/utils/validation.py:1858: FutureWarning: Feature names only support names that are all strings. Got feature names with dtypes: ['str', 'str_']. An error will be raised in 1.2.\n",
      "  warnings.warn(\n",
      "/home/ylaguardia/code/puc-ai-ml/venv/lib/python3.10/site-packages/sklearn/utils/validation.py:1858: FutureWarning: Feature names only support names that are all strings. Got feature names with dtypes: ['str', 'str_']. An error will be raised in 1.2.\n",
      "  warnings.warn(\n",
      "/home/ylaguardia/code/puc-ai-ml/venv/lib/python3.10/site-packages/sklearn/svm/_base.py:1225: ConvergenceWarning: Liblinear failed to converge, increase the number of iterations.\n",
      "  warnings.warn(\n",
      "/home/ylaguardia/code/puc-ai-ml/venv/lib/python3.10/site-packages/sklearn/utils/validation.py:1858: FutureWarning: Feature names only support names that are all strings. Got feature names with dtypes: ['str', 'str_']. An error will be raised in 1.2.\n",
      "  warnings.warn(\n",
      "/home/ylaguardia/code/puc-ai-ml/venv/lib/python3.10/site-packages/sklearn/utils/validation.py:1858: FutureWarning: Feature names only support names that are all strings. Got feature names with dtypes: ['str', 'str_']. An error will be raised in 1.2.\n",
      "  warnings.warn(\n",
      "/home/ylaguardia/code/puc-ai-ml/venv/lib/python3.10/site-packages/sklearn/svm/_base.py:1225: ConvergenceWarning: Liblinear failed to converge, increase the number of iterations.\n",
      "  warnings.warn(\n",
      "/home/ylaguardia/code/puc-ai-ml/venv/lib/python3.10/site-packages/sklearn/utils/validation.py:1858: FutureWarning: Feature names only support names that are all strings. Got feature names with dtypes: ['str', 'str_']. An error will be raised in 1.2.\n",
      "  warnings.warn(\n",
      "/home/ylaguardia/code/puc-ai-ml/venv/lib/python3.10/site-packages/sklearn/utils/validation.py:1858: FutureWarning: Feature names only support names that are all strings. Got feature names with dtypes: ['str', 'str_']. An error will be raised in 1.2.\n",
      "  warnings.warn(\n",
      "/home/ylaguardia/code/puc-ai-ml/venv/lib/python3.10/site-packages/sklearn/svm/_base.py:1225: ConvergenceWarning: Liblinear failed to converge, increase the number of iterations.\n",
      "  warnings.warn(\n",
      "/home/ylaguardia/code/puc-ai-ml/venv/lib/python3.10/site-packages/sklearn/utils/validation.py:1858: FutureWarning: Feature names only support names that are all strings. Got feature names with dtypes: ['str', 'str_']. An error will be raised in 1.2.\n",
      "  warnings.warn(\n",
      "/home/ylaguardia/code/puc-ai-ml/venv/lib/python3.10/site-packages/sklearn/utils/validation.py:1858: FutureWarning: Feature names only support names that are all strings. Got feature names with dtypes: ['str', 'str_']. An error will be raised in 1.2.\n",
      "  warnings.warn(\n"
     ]
    },
    {
     "name": "stdout",
     "output_type": "stream",
     "text": [
      "Scores: [0.77088544 0.77127127 0.77127127 0.77127127 0.22922923 0.77127127\n",
      " 0.77127127 0.63713714 0.77127127 0.77127127]\n",
      "Mean: 0.7036150707986625\n",
      "Standard Deviation: 0.16310367117903649\n",
      "Accuracy: 70.36%\n"
     ]
    },
    {
     "name": "stderr",
     "output_type": "stream",
     "text": [
      "/home/ylaguardia/code/puc-ai-ml/venv/lib/python3.10/site-packages/sklearn/svm/_base.py:1225: ConvergenceWarning: Liblinear failed to converge, increase the number of iterations.\n",
      "  warnings.warn(\n",
      "/home/ylaguardia/code/puc-ai-ml/venv/lib/python3.10/site-packages/sklearn/utils/validation.py:1858: FutureWarning: Feature names only support names that are all strings. Got feature names with dtypes: ['str', 'str_']. An error will be raised in 1.2.\n",
      "  warnings.warn(\n"
     ]
    }
   ],
   "source": [
    "# 70.36%\n",
    "linear_svc = LinearSVC()\n",
    "linear_svc.fit(train1, Y)\n",
    "\n",
    "acc_linear_svc = testingModel(linear_svc, train1, Y)\n",
    "\n",
    "print(f\"Accuracy: {round(acc_linear_svc*100,2,)}%\")"
   ]
  },
  {
   "cell_type": "code",
   "execution_count": 28,
   "metadata": {},
   "outputs": [
    {
     "name": "stderr",
     "output_type": "stream",
     "text": [
      "/home/ylaguardia/code/puc-ai-ml/venv/lib/python3.10/site-packages/sklearn/utils/validation.py:1858: FutureWarning: Feature names only support names that are all strings. Got feature names with dtypes: ['str', 'str_']. An error will be raised in 1.2.\n",
      "  warnings.warn(\n",
      "/home/ylaguardia/code/puc-ai-ml/venv/lib/python3.10/site-packages/sklearn/utils/validation.py:1858: FutureWarning: Feature names only support names that are all strings. Got feature names with dtypes: ['str', 'str_']. An error will be raised in 1.2.\n",
      "  warnings.warn(\n",
      "/home/ylaguardia/code/puc-ai-ml/venv/lib/python3.10/site-packages/sklearn/utils/validation.py:1858: FutureWarning: Feature names only support names that are all strings. Got feature names with dtypes: ['str', 'str_']. An error will be raised in 1.2.\n",
      "  warnings.warn(\n",
      "/home/ylaguardia/code/puc-ai-ml/venv/lib/python3.10/site-packages/sklearn/utils/validation.py:1858: FutureWarning: Feature names only support names that are all strings. Got feature names with dtypes: ['str', 'str_']. An error will be raised in 1.2.\n",
      "  warnings.warn(\n",
      "/home/ylaguardia/code/puc-ai-ml/venv/lib/python3.10/site-packages/sklearn/utils/validation.py:1858: FutureWarning: Feature names only support names that are all strings. Got feature names with dtypes: ['str', 'str_']. An error will be raised in 1.2.\n",
      "  warnings.warn(\n",
      "/home/ylaguardia/code/puc-ai-ml/venv/lib/python3.10/site-packages/sklearn/utils/validation.py:1858: FutureWarning: Feature names only support names that are all strings. Got feature names with dtypes: ['str', 'str_']. An error will be raised in 1.2.\n",
      "  warnings.warn(\n",
      "/home/ylaguardia/code/puc-ai-ml/venv/lib/python3.10/site-packages/sklearn/utils/validation.py:1858: FutureWarning: Feature names only support names that are all strings. Got feature names with dtypes: ['str', 'str_']. An error will be raised in 1.2.\n",
      "  warnings.warn(\n",
      "/home/ylaguardia/code/puc-ai-ml/venv/lib/python3.10/site-packages/sklearn/utils/validation.py:1858: FutureWarning: Feature names only support names that are all strings. Got feature names with dtypes: ['str', 'str_']. An error will be raised in 1.2.\n",
      "  warnings.warn(\n",
      "/home/ylaguardia/code/puc-ai-ml/venv/lib/python3.10/site-packages/sklearn/utils/validation.py:1858: FutureWarning: Feature names only support names that are all strings. Got feature names with dtypes: ['str', 'str_']. An error will be raised in 1.2.\n",
      "  warnings.warn(\n",
      "/home/ylaguardia/code/puc-ai-ml/venv/lib/python3.10/site-packages/sklearn/utils/validation.py:1858: FutureWarning: Feature names only support names that are all strings. Got feature names with dtypes: ['str', 'str_']. An error will be raised in 1.2.\n",
      "  warnings.warn(\n",
      "/home/ylaguardia/code/puc-ai-ml/venv/lib/python3.10/site-packages/sklearn/utils/validation.py:1858: FutureWarning: Feature names only support names that are all strings. Got feature names with dtypes: ['str', 'str_']. An error will be raised in 1.2.\n",
      "  warnings.warn(\n",
      "/home/ylaguardia/code/puc-ai-ml/venv/lib/python3.10/site-packages/sklearn/utils/validation.py:1858: FutureWarning: Feature names only support names that are all strings. Got feature names with dtypes: ['str', 'str_']. An error will be raised in 1.2.\n",
      "  warnings.warn(\n",
      "/home/ylaguardia/code/puc-ai-ml/venv/lib/python3.10/site-packages/sklearn/utils/validation.py:1858: FutureWarning: Feature names only support names that are all strings. Got feature names with dtypes: ['str', 'str_']. An error will be raised in 1.2.\n",
      "  warnings.warn(\n",
      "/home/ylaguardia/code/puc-ai-ml/venv/lib/python3.10/site-packages/sklearn/utils/validation.py:1858: FutureWarning: Feature names only support names that are all strings. Got feature names with dtypes: ['str', 'str_']. An error will be raised in 1.2.\n",
      "  warnings.warn(\n",
      "/home/ylaguardia/code/puc-ai-ml/venv/lib/python3.10/site-packages/sklearn/utils/validation.py:1858: FutureWarning: Feature names only support names that are all strings. Got feature names with dtypes: ['str', 'str_']. An error will be raised in 1.2.\n",
      "  warnings.warn(\n",
      "/home/ylaguardia/code/puc-ai-ml/venv/lib/python3.10/site-packages/sklearn/utils/validation.py:1858: FutureWarning: Feature names only support names that are all strings. Got feature names with dtypes: ['str', 'str_']. An error will be raised in 1.2.\n",
      "  warnings.warn(\n",
      "/home/ylaguardia/code/puc-ai-ml/venv/lib/python3.10/site-packages/sklearn/utils/validation.py:1858: FutureWarning: Feature names only support names that are all strings. Got feature names with dtypes: ['str', 'str_']. An error will be raised in 1.2.\n",
      "  warnings.warn(\n",
      "/home/ylaguardia/code/puc-ai-ml/venv/lib/python3.10/site-packages/sklearn/utils/validation.py:1858: FutureWarning: Feature names only support names that are all strings. Got feature names with dtypes: ['str', 'str_']. An error will be raised in 1.2.\n",
      "  warnings.warn(\n",
      "/home/ylaguardia/code/puc-ai-ml/venv/lib/python3.10/site-packages/sklearn/utils/validation.py:1858: FutureWarning: Feature names only support names that are all strings. Got feature names with dtypes: ['str', 'str_']. An error will be raised in 1.2.\n",
      "  warnings.warn(\n",
      "/home/ylaguardia/code/puc-ai-ml/venv/lib/python3.10/site-packages/sklearn/utils/validation.py:1858: FutureWarning: Feature names only support names that are all strings. Got feature names with dtypes: ['str', 'str_']. An error will be raised in 1.2.\n",
      "  warnings.warn(\n"
     ]
    },
    {
     "name": "stdout",
     "output_type": "stream",
     "text": [
      "Scores: [0.77938969 0.77127127 0.76726727 0.76126126 0.78178178 0.77827828\n",
      " 0.78728729 0.76726727 0.76426426 0.77777778]\n",
      "Mean: 0.7735846151303881\n",
      "Standard Deviation: 0.008075717437564862\n",
      "Accuracy: 77.36%\n"
     ]
    },
    {
     "name": "stderr",
     "output_type": "stream",
     "text": [
      "/home/ylaguardia/code/puc-ai-ml/venv/lib/python3.10/site-packages/sklearn/utils/validation.py:1858: FutureWarning: Feature names only support names that are all strings. Got feature names with dtypes: ['str', 'str_']. An error will be raised in 1.2.\n",
      "  warnings.warn(\n"
     ]
    }
   ],
   "source": [
    "# 77.36%\n",
    "decision_tree = DecisionTreeClassifier()\n",
    "decision_tree.fit(train1, Y)\n",
    "\n",
    "acc_decision_tree = testingModel(decision_tree, train1, Y)\n",
    "\n",
    "print(f\"Accuracy: {round(acc_decision_tree*100,2,)}%\")"
   ]
  },
  {
   "cell_type": "code",
   "execution_count": 30,
   "metadata": {},
   "outputs": [
    {
     "name": "stderr",
     "output_type": "stream",
     "text": [
      "/home/ylaguardia/code/puc-ai-ml/venv/lib/python3.10/site-packages/sklearn/utils/validation.py:1858: FutureWarning: Feature names only support names that are all strings. Got feature names with dtypes: ['str', 'str_']. An error will be raised in 1.2.\n",
      "  warnings.warn(\n",
      "/home/ylaguardia/code/puc-ai-ml/venv/lib/python3.10/site-packages/sklearn/utils/validation.py:1858: FutureWarning: Feature names only support names that are all strings. Got feature names with dtypes: ['str', 'str_']. An error will be raised in 1.2.\n",
      "  warnings.warn(\n",
      "/home/ylaguardia/code/puc-ai-ml/venv/lib/python3.10/site-packages/sklearn/utils/validation.py:1858: FutureWarning: Feature names only support names that are all strings. Got feature names with dtypes: ['str', 'str_']. An error will be raised in 1.2.\n",
      "  warnings.warn(\n",
      "/home/ylaguardia/code/puc-ai-ml/venv/lib/python3.10/site-packages/sklearn/utils/validation.py:1858: FutureWarning: Feature names only support names that are all strings. Got feature names with dtypes: ['str', 'str_']. An error will be raised in 1.2.\n",
      "  warnings.warn(\n",
      "/home/ylaguardia/code/puc-ai-ml/venv/lib/python3.10/site-packages/sklearn/utils/validation.py:1858: FutureWarning: Feature names only support names that are all strings. Got feature names with dtypes: ['str', 'str_']. An error will be raised in 1.2.\n",
      "  warnings.warn(\n",
      "/home/ylaguardia/code/puc-ai-ml/venv/lib/python3.10/site-packages/sklearn/utils/validation.py:1858: FutureWarning: Feature names only support names that are all strings. Got feature names with dtypes: ['str', 'str_']. An error will be raised in 1.2.\n",
      "  warnings.warn(\n",
      "/home/ylaguardia/code/puc-ai-ml/venv/lib/python3.10/site-packages/sklearn/utils/validation.py:1858: FutureWarning: Feature names only support names that are all strings. Got feature names with dtypes: ['str', 'str_']. An error will be raised in 1.2.\n",
      "  warnings.warn(\n",
      "/home/ylaguardia/code/puc-ai-ml/venv/lib/python3.10/site-packages/sklearn/utils/validation.py:1858: FutureWarning: Feature names only support names that are all strings. Got feature names with dtypes: ['str', 'str_']. An error will be raised in 1.2.\n",
      "  warnings.warn(\n",
      "/home/ylaguardia/code/puc-ai-ml/venv/lib/python3.10/site-packages/sklearn/utils/validation.py:1858: FutureWarning: Feature names only support names that are all strings. Got feature names with dtypes: ['str', 'str_']. An error will be raised in 1.2.\n",
      "  warnings.warn(\n",
      "/home/ylaguardia/code/puc-ai-ml/venv/lib/python3.10/site-packages/sklearn/utils/validation.py:1858: FutureWarning: Feature names only support names that are all strings. Got feature names with dtypes: ['str', 'str_']. An error will be raised in 1.2.\n",
      "  warnings.warn(\n",
      "/home/ylaguardia/code/puc-ai-ml/venv/lib/python3.10/site-packages/sklearn/utils/validation.py:1858: FutureWarning: Feature names only support names that are all strings. Got feature names with dtypes: ['str', 'str_']. An error will be raised in 1.2.\n",
      "  warnings.warn(\n",
      "/home/ylaguardia/code/puc-ai-ml/venv/lib/python3.10/site-packages/sklearn/utils/validation.py:1858: FutureWarning: Feature names only support names that are all strings. Got feature names with dtypes: ['str', 'str_']. An error will be raised in 1.2.\n",
      "  warnings.warn(\n",
      "/home/ylaguardia/code/puc-ai-ml/venv/lib/python3.10/site-packages/sklearn/utils/validation.py:1858: FutureWarning: Feature names only support names that are all strings. Got feature names with dtypes: ['str', 'str_']. An error will be raised in 1.2.\n",
      "  warnings.warn(\n",
      "/home/ylaguardia/code/puc-ai-ml/venv/lib/python3.10/site-packages/sklearn/utils/validation.py:1858: FutureWarning: Feature names only support names that are all strings. Got feature names with dtypes: ['str', 'str_']. An error will be raised in 1.2.\n",
      "  warnings.warn(\n",
      "/home/ylaguardia/code/puc-ai-ml/venv/lib/python3.10/site-packages/sklearn/utils/validation.py:1858: FutureWarning: Feature names only support names that are all strings. Got feature names with dtypes: ['str', 'str_']. An error will be raised in 1.2.\n",
      "  warnings.warn(\n",
      "/home/ylaguardia/code/puc-ai-ml/venv/lib/python3.10/site-packages/sklearn/utils/validation.py:1858: FutureWarning: Feature names only support names that are all strings. Got feature names with dtypes: ['str', 'str_']. An error will be raised in 1.2.\n",
      "  warnings.warn(\n",
      "/home/ylaguardia/code/puc-ai-ml/venv/lib/python3.10/site-packages/sklearn/utils/validation.py:1858: FutureWarning: Feature names only support names that are all strings. Got feature names with dtypes: ['str', 'str_']. An error will be raised in 1.2.\n",
      "  warnings.warn(\n"
     ]
    },
    {
     "name": "stdout",
     "output_type": "stream",
     "text": [
      "Scores: [0.73336668 0.22872873 0.62812813 0.67067067 0.77127127 0.22872873\n",
      " 0.77127127 0.77127127 0.77177177 0.77127127]\n",
      "Mean: 0.6346479796454785\n",
      "Standard Deviation: 0.20834899360144565\n",
      "Accuracy: 63.46%\n"
     ]
    },
    {
     "name": "stderr",
     "output_type": "stream",
     "text": [
      "/home/ylaguardia/code/puc-ai-ml/venv/lib/python3.10/site-packages/sklearn/utils/validation.py:1858: FutureWarning: Feature names only support names that are all strings. Got feature names with dtypes: ['str', 'str_']. An error will be raised in 1.2.\n",
      "  warnings.warn(\n",
      "/home/ylaguardia/code/puc-ai-ml/venv/lib/python3.10/site-packages/sklearn/utils/validation.py:1858: FutureWarning: Feature names only support names that are all strings. Got feature names with dtypes: ['str', 'str_']. An error will be raised in 1.2.\n",
      "  warnings.warn(\n",
      "/home/ylaguardia/code/puc-ai-ml/venv/lib/python3.10/site-packages/sklearn/utils/validation.py:1858: FutureWarning: Feature names only support names that are all strings. Got feature names with dtypes: ['str', 'str_']. An error will be raised in 1.2.\n",
      "  warnings.warn(\n"
     ]
    }
   ],
   "source": [
    "# 63.46%\n",
    "sgd = linear_model.SGDClassifier(max_iter=5, tol=None)\n",
    "acc_sgd = testingModel(sgd, train1, Y)  \n",
    "\n",
    "print(f\"Accuracy: {round(acc_sgd*100,2,)}%\")"
   ]
  },
  {
   "cell_type": "code",
   "execution_count": 34,
   "metadata": {},
   "outputs": [
    {
     "data": {
      "text/html": [
       "<div>\n",
       "<style scoped>\n",
       "    .dataframe tbody tr th:only-of-type {\n",
       "        vertical-align: middle;\n",
       "    }\n",
       "\n",
       "    .dataframe tbody tr th {\n",
       "        vertical-align: top;\n",
       "    }\n",
       "\n",
       "    .dataframe thead th {\n",
       "        text-align: right;\n",
       "    }\n",
       "</style>\n",
       "<table border=\"1\" class=\"dataframe\">\n",
       "  <thead>\n",
       "    <tr style=\"text-align: right;\">\n",
       "      <th></th>\n",
       "      <th>Model</th>\n",
       "    </tr>\n",
       "    <tr>\n",
       "      <th>Score</th>\n",
       "      <th></th>\n",
       "    </tr>\n",
       "  </thead>\n",
       "  <tbody>\n",
       "    <tr>\n",
       "      <th>0.820129</th>\n",
       "      <td>Random Forest</td>\n",
       "    </tr>\n",
       "    <tr>\n",
       "      <th>0.819579</th>\n",
       "      <td>XGB</td>\n",
       "    </tr>\n",
       "    <tr>\n",
       "      <th>0.773585</th>\n",
       "      <td>Decision Tree</td>\n",
       "    </tr>\n",
       "    <tr>\n",
       "      <th>0.771033</th>\n",
       "      <td>Logistic Regression</td>\n",
       "    </tr>\n",
       "    <tr>\n",
       "      <th>0.719183</th>\n",
       "      <td>KNN</td>\n",
       "    </tr>\n",
       "    <tr>\n",
       "      <th>0.703615</th>\n",
       "      <td>Support Vector Machines</td>\n",
       "    </tr>\n",
       "    <tr>\n",
       "      <th>0.634648</th>\n",
       "      <td>Stochastic Gradient Descent</td>\n",
       "    </tr>\n",
       "  </tbody>\n",
       "</table>\n",
       "</div>"
      ],
      "text/plain": [
       "                                Model\n",
       "Score                                \n",
       "0.820129                Random Forest\n",
       "0.819579                          XGB\n",
       "0.773585                Decision Tree\n",
       "0.771033          Logistic Regression\n",
       "0.719183                          KNN\n",
       "0.703615      Support Vector Machines\n",
       "0.634648  Stochastic Gradient Descent"
      ]
     },
     "execution_count": 34,
     "metadata": {},
     "output_type": "execute_result"
    }
   ],
   "source": [
    "results = pd.DataFrame({\n",
    "    'Model': ['Support Vector Machines', 'KNN', 'Logistic Regression', \n",
    "              'Random Forest', 'XGB', \n",
    "              'Decision Tree', \"Stochastic Gradient Descent\"],\n",
    "    'Score': [acc_linear_svc, acc_knn, acc_log, \n",
    "              acc_random_forest, acc_xgb, \n",
    "             acc_decision_tree, acc_sgd]})\n",
    "result_df = results.sort_values(by='Score', ascending=False)\n",
    "result_df = result_df.set_index('Score')\n",
    "result_df.head(7)"
   ]
  }
 ],
 "metadata": {
  "kernelspec": {
   "display_name": "Python 3.10.0 ('venv': venv)",
   "language": "python",
   "name": "python3"
  },
  "language_info": {
   "codemirror_mode": {
    "name": "ipython",
    "version": 3
   },
   "file_extension": ".py",
   "mimetype": "text/x-python",
   "name": "python",
   "nbconvert_exporter": "python",
   "pygments_lexer": "ipython3",
   "version": "3.10.0"
  },
  "vscode": {
   "interpreter": {
    "hash": "bb068e2a9ebf9c6272085a57852a55431db6de48169afa30eaa3e89b8194a7bd"
   }
  }
 },
 "nbformat": 4,
 "nbformat_minor": 2
}
