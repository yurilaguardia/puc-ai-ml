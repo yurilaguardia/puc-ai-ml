{
 "cells": [
  {
   "cell_type": "code",
   "execution_count": 2,
   "metadata": {},
   "outputs": [],
   "source": [
    "import pandas as pd\n",
    "from sklearn.metrics import roc_auc_score\n",
    "import numpy as np\n",
    "import seaborn as sns\n",
    "import matplotlib\n",
    "from sklearn import metrics\n",
    "from sklearn.metrics import accuracy_score\n",
    "from sklearn.model_selection import cross_val_score, GridSearchCV\n",
    "import matplotlib.pyplot as plt\n",
    "import xgboost as xgb\n",
    "from xgboost.sklearn import XGBRegressor\n",
    "from xgboost.sklearn import XGBClassifier\n",
    "from sklearn.model_selection import KFold\n",
    "from sklearn.ensemble import RandomForestClassifier\n",
    "import copy\n",
    "from sklearn.model_selection import train_test_split\n",
    "from sklearn import svm\n",
    "from sklearn import preprocessing\n",
    "from sklearn.ensemble import RandomForestClassifier\n",
    "from sklearn.linear_model import LogisticRegression\n",
    "from sklearn.neighbors import KNeighborsClassifier\n",
    "from sklearn.svm import SVC, LinearSVC\n",
    "from sklearn.tree import DecisionTreeClassifier\n",
    "from sklearn import linear_model\n"
   ]
  },
  {
   "cell_type": "markdown",
   "metadata": {},
   "source": [
    "## Carregando os dados já com os códigos de países inclusos\n",
    "(utilizamos o caderno `coords_to_country.ipynb` para gerar os códigos)\n"
   ]
  },
  {
   "cell_type": "code",
   "execution_count": 3,
   "metadata": {},
   "outputs": [],
   "source": [
    "df = pd.read_pickle(\"../datasets/20kSongs_with_countries.pickle\")"
   ]
  },
  {
   "cell_type": "code",
   "execution_count": 4,
   "metadata": {},
   "outputs": [
    {
     "data": {
      "text/html": [
       "<div>\n",
       "<style scoped>\n",
       "    .dataframe tbody tr th:only-of-type {\n",
       "        vertical-align: middle;\n",
       "    }\n",
       "\n",
       "    .dataframe tbody tr th {\n",
       "        vertical-align: top;\n",
       "    }\n",
       "\n",
       "    .dataframe thead th {\n",
       "        text-align: right;\n",
       "    }\n",
       "</style>\n",
       "<table border=\"1\" class=\"dataframe\">\n",
       "  <thead>\n",
       "    <tr style=\"text-align: right;\">\n",
       "      <th></th>\n",
       "      <th>analysis_sample_rate</th>\n",
       "      <th>artist_7digitalid</th>\n",
       "      <th>artist_familiarity</th>\n",
       "      <th>artist_hotttnesss</th>\n",
       "      <th>artist_id</th>\n",
       "      <th>artist_latitude</th>\n",
       "      <th>artist_location</th>\n",
       "      <th>artist_longitude</th>\n",
       "      <th>artist_mbid</th>\n",
       "      <th>artist_mbtags</th>\n",
       "      <th>...</th>\n",
       "      <th>tatums_confidence</th>\n",
       "      <th>tatums_start</th>\n",
       "      <th>tempo</th>\n",
       "      <th>time_signature</th>\n",
       "      <th>time_signature_confidence</th>\n",
       "      <th>title</th>\n",
       "      <th>track_7digitalid</th>\n",
       "      <th>track_id</th>\n",
       "      <th>year</th>\n",
       "      <th>artist_country_code</th>\n",
       "    </tr>\n",
       "  </thead>\n",
       "  <tbody>\n",
       "    <tr>\n",
       "      <th>0</th>\n",
       "      <td>22050</td>\n",
       "      <td>27724</td>\n",
       "      <td>0.559823</td>\n",
       "      <td>0.391484</td>\n",
       "      <td>ARE93YV1187B9937CC</td>\n",
       "      <td>7.36529</td>\n",
       "      <td>Cameroon</td>\n",
       "      <td>12.34344</td>\n",
       "      <td>bc30924c-1900-41c3-9a97-41a93433836f</td>\n",
       "      <td>[world, folk]</td>\n",
       "      <td>...</td>\n",
       "      <td>[0.455, 0.435, 0.4, 0.375, 0.362, 0.354, 0.35,...</td>\n",
       "      <td>[0.20916, 0.42014, 0.63112, 0.84316, 1.05454, ...</td>\n",
       "      <td>139.092</td>\n",
       "      <td>4</td>\n",
       "      <td>0.000</td>\n",
       "      <td>Journey (Album Version)</td>\n",
       "      <td>412977</td>\n",
       "      <td>TRCCCRP128F147BEFA</td>\n",
       "      <td>1995</td>\n",
       "      <td>cm</td>\n",
       "    </tr>\n",
       "    <tr>\n",
       "      <th>1</th>\n",
       "      <td>22050</td>\n",
       "      <td>79</td>\n",
       "      <td>0.783031</td>\n",
       "      <td>0.478411</td>\n",
       "      <td>AR9FKRD1187B9B73D4</td>\n",
       "      <td>51.55503</td>\n",
       "      <td>Hampstead, London, England</td>\n",
       "      <td>-0.17348</td>\n",
       "      <td>14ed9dea-1bb0-4743-ba32-39674a71da89</td>\n",
       "      <td>[classic pop and rock]</td>\n",
       "      <td>...</td>\n",
       "      <td>[0.613, 0.608, 0.57, 0.539, 0.516, 0.493, 0.47...</td>\n",
       "      <td>[0.66188, 1.06217, 1.45659, 1.84906, 2.23956, ...</td>\n",
       "      <td>76.595</td>\n",
       "      <td>4</td>\n",
       "      <td>0.595</td>\n",
       "      <td>Great Expectations</td>\n",
       "      <td>319733</td>\n",
       "      <td>TRCCZOW128F146A22D</td>\n",
       "      <td>1999</td>\n",
       "      <td>gb</td>\n",
       "    </tr>\n",
       "    <tr>\n",
       "      <th>2</th>\n",
       "      <td>22050</td>\n",
       "      <td>368022</td>\n",
       "      <td>0.635055</td>\n",
       "      <td>0.394375</td>\n",
       "      <td>AR0BO8O1187B992CC1</td>\n",
       "      <td>53.64746</td>\n",
       "      <td>Huddersfield, UK</td>\n",
       "      <td>-1.79723</td>\n",
       "      <td>5540499f-8ab5-404f-a781-e959b1dc2778</td>\n",
       "      <td>[thrash metal]</td>\n",
       "      <td>...</td>\n",
       "      <td>[0.263, 0.271, 0.247, 0.218, 0.194, 0.172, 0.1...</td>\n",
       "      <td>[0.02909, 0.17137, 0.3166, 0.46478, 0.60485, 0...</td>\n",
       "      <td>203.897</td>\n",
       "      <td>4</td>\n",
       "      <td>0.000</td>\n",
       "      <td>Now Demolition</td>\n",
       "      <td>7666264</td>\n",
       "      <td>TRCCZQN12903CF5F22</td>\n",
       "      <td>2009</td>\n",
       "      <td>gb</td>\n",
       "    </tr>\n",
       "    <tr>\n",
       "      <th>3</th>\n",
       "      <td>22050</td>\n",
       "      <td>11189</td>\n",
       "      <td>0.721520</td>\n",
       "      <td>0.503304</td>\n",
       "      <td>ARD8ODS1187FB4ADFA</td>\n",
       "      <td>54.97791</td>\n",
       "      <td>Newcastle - Engeland</td>\n",
       "      <td>-1.61237</td>\n",
       "      <td>92e634a7-6023-4be8-be15-ebba822f5b34</td>\n",
       "      <td>[british, uk, britannique, rock and indie, ind...</td>\n",
       "      <td>...</td>\n",
       "      <td>[1.0, 1.0, 0.92, 0.837, 0.787, 0.721, 0.672, 0...</td>\n",
       "      <td>[0.34004, 0.71788, 1.09756, 1.47535, 1.85315, ...</td>\n",
       "      <td>78.485</td>\n",
       "      <td>4</td>\n",
       "      <td>0.165</td>\n",
       "      <td>I Want You To Stay</td>\n",
       "      <td>2018189</td>\n",
       "      <td>TRCCZZR128F4239D6F</td>\n",
       "      <td>2005</td>\n",
       "      <td>gb</td>\n",
       "    </tr>\n",
       "    <tr>\n",
       "      <th>4</th>\n",
       "      <td>22050</td>\n",
       "      <td>167141</td>\n",
       "      <td>0.718250</td>\n",
       "      <td>0.478790</td>\n",
       "      <td>ARNCTJ91187B98D813</td>\n",
       "      <td>49.89942</td>\n",
       "      <td>Winnipeg, Manitoba, Canada</td>\n",
       "      <td>-97.14074</td>\n",
       "      <td>56abaa47-0101-463b-b37e-e961136fec39</td>\n",
       "      <td>[breakcore, gabber, idm, drill n bass, electro...</td>\n",
       "      <td>...</td>\n",
       "      <td>[0.712, 0.66, 0.626, 0.586, 0.555, 0.537, 0.50...</td>\n",
       "      <td>[0.12177, 0.30471, 0.48857, 0.66967, 0.85537, ...</td>\n",
       "      <td>109.294</td>\n",
       "      <td>5</td>\n",
       "      <td>0.976</td>\n",
       "      <td>Banana Seat Girl</td>\n",
       "      <td>2665622</td>\n",
       "      <td>TRCCZMW128F4240542</td>\n",
       "      <td>2002</td>\n",
       "      <td>ca</td>\n",
       "    </tr>\n",
       "  </tbody>\n",
       "</table>\n",
       "<p>5 rows × 55 columns</p>\n",
       "</div>"
      ],
      "text/plain": [
       "   analysis_sample_rate  artist_7digitalid  artist_familiarity  \\\n",
       "0                 22050              27724            0.559823   \n",
       "1                 22050                 79            0.783031   \n",
       "2                 22050             368022            0.635055   \n",
       "3                 22050              11189            0.721520   \n",
       "4                 22050             167141            0.718250   \n",
       "\n",
       "   artist_hotttnesss           artist_id  artist_latitude  \\\n",
       "0           0.391484  ARE93YV1187B9937CC          7.36529   \n",
       "1           0.478411  AR9FKRD1187B9B73D4         51.55503   \n",
       "2           0.394375  AR0BO8O1187B992CC1         53.64746   \n",
       "3           0.503304  ARD8ODS1187FB4ADFA         54.97791   \n",
       "4           0.478790  ARNCTJ91187B98D813         49.89942   \n",
       "\n",
       "              artist_location  artist_longitude  \\\n",
       "0                    Cameroon          12.34344   \n",
       "1  Hampstead, London, England          -0.17348   \n",
       "2            Huddersfield, UK          -1.79723   \n",
       "3        Newcastle - Engeland          -1.61237   \n",
       "4  Winnipeg, Manitoba, Canada         -97.14074   \n",
       "\n",
       "                            artist_mbid  \\\n",
       "0  bc30924c-1900-41c3-9a97-41a93433836f   \n",
       "1  14ed9dea-1bb0-4743-ba32-39674a71da89   \n",
       "2  5540499f-8ab5-404f-a781-e959b1dc2778   \n",
       "3  92e634a7-6023-4be8-be15-ebba822f5b34   \n",
       "4  56abaa47-0101-463b-b37e-e961136fec39   \n",
       "\n",
       "                                       artist_mbtags  ...  \\\n",
       "0                                      [world, folk]  ...   \n",
       "1                             [classic pop and rock]  ...   \n",
       "2                                     [thrash metal]  ...   \n",
       "3  [british, uk, britannique, rock and indie, ind...  ...   \n",
       "4  [breakcore, gabber, idm, drill n bass, electro...  ...   \n",
       "\n",
       "                                   tatums_confidence  \\\n",
       "0  [0.455, 0.435, 0.4, 0.375, 0.362, 0.354, 0.35,...   \n",
       "1  [0.613, 0.608, 0.57, 0.539, 0.516, 0.493, 0.47...   \n",
       "2  [0.263, 0.271, 0.247, 0.218, 0.194, 0.172, 0.1...   \n",
       "3  [1.0, 1.0, 0.92, 0.837, 0.787, 0.721, 0.672, 0...   \n",
       "4  [0.712, 0.66, 0.626, 0.586, 0.555, 0.537, 0.50...   \n",
       "\n",
       "                                        tatums_start    tempo time_signature  \\\n",
       "0  [0.20916, 0.42014, 0.63112, 0.84316, 1.05454, ...  139.092              4   \n",
       "1  [0.66188, 1.06217, 1.45659, 1.84906, 2.23956, ...   76.595              4   \n",
       "2  [0.02909, 0.17137, 0.3166, 0.46478, 0.60485, 0...  203.897              4   \n",
       "3  [0.34004, 0.71788, 1.09756, 1.47535, 1.85315, ...   78.485              4   \n",
       "4  [0.12177, 0.30471, 0.48857, 0.66967, 0.85537, ...  109.294              5   \n",
       "\n",
       "  time_signature_confidence                    title track_7digitalid  \\\n",
       "0                     0.000  Journey (Album Version)           412977   \n",
       "1                     0.595       Great Expectations           319733   \n",
       "2                     0.000           Now Demolition          7666264   \n",
       "3                     0.165       I Want You To Stay          2018189   \n",
       "4                     0.976         Banana Seat Girl          2665622   \n",
       "\n",
       "             track_id  year artist_country_code  \n",
       "0  TRCCCRP128F147BEFA  1995                  cm  \n",
       "1  TRCCZOW128F146A22D  1999                  gb  \n",
       "2  TRCCZQN12903CF5F22  2009                  gb  \n",
       "3  TRCCZZR128F4239D6F  2005                  gb  \n",
       "4  TRCCZMW128F4240542  2002                  ca  \n",
       "\n",
       "[5 rows x 55 columns]"
      ]
     },
     "execution_count": 4,
     "metadata": {},
     "output_type": "execute_result"
    }
   ],
   "source": [
    "df.head(5)"
   ]
  },
  {
   "cell_type": "markdown",
   "metadata": {},
   "source": [
    "### Transformando song_hotttnesss de valores contínuos para valores discretos"
   ]
  },
  {
   "cell_type": "code",
   "execution_count": 5,
   "metadata": {},
   "outputs": [
    {
     "data": {
      "text/html": [
       "<div>\n",
       "<style scoped>\n",
       "    .dataframe tbody tr th:only-of-type {\n",
       "        vertical-align: middle;\n",
       "    }\n",
       "\n",
       "    .dataframe tbody tr th {\n",
       "        vertical-align: top;\n",
       "    }\n",
       "\n",
       "    .dataframe thead th {\n",
       "        text-align: right;\n",
       "    }\n",
       "</style>\n",
       "<table border=\"1\" class=\"dataframe\">\n",
       "  <thead>\n",
       "    <tr style=\"text-align: right;\">\n",
       "      <th></th>\n",
       "      <th>analysis_sample_rate</th>\n",
       "      <th>artist_7digitalid</th>\n",
       "      <th>artist_familiarity</th>\n",
       "      <th>artist_hotttnesss</th>\n",
       "      <th>artist_latitude</th>\n",
       "      <th>artist_longitude</th>\n",
       "      <th>artist_playmeid</th>\n",
       "      <th>danceability</th>\n",
       "      <th>duration</th>\n",
       "      <th>end_of_fade_in</th>\n",
       "      <th>...</th>\n",
       "      <th>mode</th>\n",
       "      <th>mode_confidence</th>\n",
       "      <th>release_7digitalid</th>\n",
       "      <th>song_hotttnesss</th>\n",
       "      <th>start_of_fade_out</th>\n",
       "      <th>tempo</th>\n",
       "      <th>time_signature</th>\n",
       "      <th>time_signature_confidence</th>\n",
       "      <th>track_7digitalid</th>\n",
       "      <th>year</th>\n",
       "    </tr>\n",
       "  </thead>\n",
       "  <tbody>\n",
       "    <tr>\n",
       "      <th>count</th>\n",
       "      <td>19981.0</td>\n",
       "      <td>19981.000000</td>\n",
       "      <td>19981.000000</td>\n",
       "      <td>19981.000000</td>\n",
       "      <td>19981.000000</td>\n",
       "      <td>19981.000000</td>\n",
       "      <td>19981.000000</td>\n",
       "      <td>19981.0</td>\n",
       "      <td>19981.000000</td>\n",
       "      <td>19981.00000</td>\n",
       "      <td>...</td>\n",
       "      <td>19981.000000</td>\n",
       "      <td>19981.000000</td>\n",
       "      <td>19981.000000</td>\n",
       "      <td>19981.000000</td>\n",
       "      <td>19981.000000</td>\n",
       "      <td>19981.000000</td>\n",
       "      <td>19981.000000</td>\n",
       "      <td>19981.000000</td>\n",
       "      <td>1.998100e+04</td>\n",
       "      <td>19981.000000</td>\n",
       "    </tr>\n",
       "    <tr>\n",
       "      <th>mean</th>\n",
       "      <td>22050.0</td>\n",
       "      <td>59746.286272</td>\n",
       "      <td>0.658469</td>\n",
       "      <td>0.451998</td>\n",
       "      <td>41.753350</td>\n",
       "      <td>-45.594220</td>\n",
       "      <td>24867.644913</td>\n",
       "      <td>0.0</td>\n",
       "      <td>244.755366</td>\n",
       "      <td>0.90794</td>\n",
       "      <td>...</td>\n",
       "      <td>0.674241</td>\n",
       "      <td>0.481057</td>\n",
       "      <td>317330.796106</td>\n",
       "      <td>0.466893</td>\n",
       "      <td>235.172722</td>\n",
       "      <td>124.891481</td>\n",
       "      <td>3.601872</td>\n",
       "      <td>0.503705</td>\n",
       "      <td>3.526853e+06</td>\n",
       "      <td>1996.902557</td>\n",
       "    </tr>\n",
       "    <tr>\n",
       "      <th>std</th>\n",
       "      <td>0.0</td>\n",
       "      <td>94381.047780</td>\n",
       "      <td>0.103693</td>\n",
       "      <td>0.082879</td>\n",
       "      <td>16.106711</td>\n",
       "      <td>56.381297</td>\n",
       "      <td>43456.978389</td>\n",
       "      <td>0.0</td>\n",
       "      <td>115.214867</td>\n",
       "      <td>2.14699</td>\n",
       "      <td>...</td>\n",
       "      <td>0.468670</td>\n",
       "      <td>0.192631</td>\n",
       "      <td>233674.905421</td>\n",
       "      <td>0.207628</td>\n",
       "      <td>112.663085</td>\n",
       "      <td>35.002907</td>\n",
       "      <td>1.232077</td>\n",
       "      <td>0.370819</td>\n",
       "      <td>2.599209e+06</td>\n",
       "      <td>11.123403</td>\n",
       "    </tr>\n",
       "    <tr>\n",
       "      <th>min</th>\n",
       "      <td>22050.0</td>\n",
       "      <td>-1.000000</td>\n",
       "      <td>0.000000</td>\n",
       "      <td>0.000000</td>\n",
       "      <td>-45.874500</td>\n",
       "      <td>-159.540540</td>\n",
       "      <td>-1.000000</td>\n",
       "      <td>0.0</td>\n",
       "      <td>2.298320</td>\n",
       "      <td>0.00000</td>\n",
       "      <td>...</td>\n",
       "      <td>0.000000</td>\n",
       "      <td>0.000000</td>\n",
       "      <td>39.000000</td>\n",
       "      <td>0.000000</td>\n",
       "      <td>2.298000</td>\n",
       "      <td>0.000000</td>\n",
       "      <td>0.000000</td>\n",
       "      <td>0.000000</td>\n",
       "      <td>4.430000e+02</td>\n",
       "      <td>1929.000000</td>\n",
       "    </tr>\n",
       "    <tr>\n",
       "      <th>25%</th>\n",
       "      <td>22050.0</td>\n",
       "      <td>5665.000000</td>\n",
       "      <td>0.595071</td>\n",
       "      <td>0.397847</td>\n",
       "      <td>37.271520</td>\n",
       "      <td>-87.632410</td>\n",
       "      <td>-1.000000</td>\n",
       "      <td>0.0</td>\n",
       "      <td>181.628930</td>\n",
       "      <td>0.00000</td>\n",
       "      <td>...</td>\n",
       "      <td>0.000000</td>\n",
       "      <td>0.365000</td>\n",
       "      <td>110114.000000</td>\n",
       "      <td>0.349120</td>\n",
       "      <td>173.331000</td>\n",
       "      <td>99.079000</td>\n",
       "      <td>3.000000</td>\n",
       "      <td>0.103000</td>\n",
       "      <td>1.156340e+06</td>\n",
       "      <td>1992.000000</td>\n",
       "    </tr>\n",
       "    <tr>\n",
       "      <th>50%</th>\n",
       "      <td>22050.0</td>\n",
       "      <td>18875.000000</td>\n",
       "      <td>0.648199</td>\n",
       "      <td>0.444541</td>\n",
       "      <td>42.308370</td>\n",
       "      <td>-73.808170</td>\n",
       "      <td>2973.000000</td>\n",
       "      <td>0.0</td>\n",
       "      <td>228.806080</td>\n",
       "      <td>0.21200</td>\n",
       "      <td>...</td>\n",
       "      <td>1.000000</td>\n",
       "      <td>0.493000</td>\n",
       "      <td>286315.000000</td>\n",
       "      <td>0.496175</td>\n",
       "      <td>219.010000</td>\n",
       "      <td>121.787000</td>\n",
       "      <td>4.000000</td>\n",
       "      <td>0.542000</td>\n",
       "      <td>3.221315e+06</td>\n",
       "      <td>2000.000000</td>\n",
       "    </tr>\n",
       "    <tr>\n",
       "      <th>75%</th>\n",
       "      <td>22050.0</td>\n",
       "      <td>65680.000000</td>\n",
       "      <td>0.721520</td>\n",
       "      <td>0.495984</td>\n",
       "      <td>51.506320</td>\n",
       "      <td>-0.127140</td>\n",
       "      <td>30596.000000</td>\n",
       "      <td>0.0</td>\n",
       "      <td>283.976690</td>\n",
       "      <td>0.46300</td>\n",
       "      <td>...</td>\n",
       "      <td>1.000000</td>\n",
       "      <td>0.611000</td>\n",
       "      <td>511248.000000</td>\n",
       "      <td>0.612043</td>\n",
       "      <td>272.933000</td>\n",
       "      <td>145.928000</td>\n",
       "      <td>4.000000</td>\n",
       "      <td>0.850000</td>\n",
       "      <td>5.674953e+06</td>\n",
       "      <td>2006.000000</td>\n",
       "    </tr>\n",
       "    <tr>\n",
       "      <th>max</th>\n",
       "      <td>22050.0</td>\n",
       "      <td>603509.000000</td>\n",
       "      <td>0.948290</td>\n",
       "      <td>0.969246</td>\n",
       "      <td>69.651020</td>\n",
       "      <td>175.471310</td>\n",
       "      <td>242965.000000</td>\n",
       "      <td>0.0</td>\n",
       "      <td>2502.739140</td>\n",
       "      <td>62.76400</td>\n",
       "      <td>...</td>\n",
       "      <td>1.000000</td>\n",
       "      <td>1.000000</td>\n",
       "      <td>823409.000000</td>\n",
       "      <td>1.000000</td>\n",
       "      <td>2495.054000</td>\n",
       "      <td>252.943000</td>\n",
       "      <td>7.000000</td>\n",
       "      <td>1.000000</td>\n",
       "      <td>9.088514e+06</td>\n",
       "      <td>2010.000000</td>\n",
       "    </tr>\n",
       "  </tbody>\n",
       "</table>\n",
       "<p>8 rows × 24 columns</p>\n",
       "</div>"
      ],
      "text/plain": [
       "       analysis_sample_rate  artist_7digitalid  artist_familiarity  \\\n",
       "count               19981.0       19981.000000        19981.000000   \n",
       "mean                22050.0       59746.286272            0.658469   \n",
       "std                     0.0       94381.047780            0.103693   \n",
       "min                 22050.0          -1.000000            0.000000   \n",
       "25%                 22050.0        5665.000000            0.595071   \n",
       "50%                 22050.0       18875.000000            0.648199   \n",
       "75%                 22050.0       65680.000000            0.721520   \n",
       "max                 22050.0      603509.000000            0.948290   \n",
       "\n",
       "       artist_hotttnesss  artist_latitude  artist_longitude  artist_playmeid  \\\n",
       "count       19981.000000     19981.000000      19981.000000     19981.000000   \n",
       "mean            0.451998        41.753350        -45.594220     24867.644913   \n",
       "std             0.082879        16.106711         56.381297     43456.978389   \n",
       "min             0.000000       -45.874500       -159.540540        -1.000000   \n",
       "25%             0.397847        37.271520        -87.632410        -1.000000   \n",
       "50%             0.444541        42.308370        -73.808170      2973.000000   \n",
       "75%             0.495984        51.506320         -0.127140     30596.000000   \n",
       "max             0.969246        69.651020        175.471310    242965.000000   \n",
       "\n",
       "       danceability      duration  end_of_fade_in  ...          mode  \\\n",
       "count       19981.0  19981.000000     19981.00000  ...  19981.000000   \n",
       "mean            0.0    244.755366         0.90794  ...      0.674241   \n",
       "std             0.0    115.214867         2.14699  ...      0.468670   \n",
       "min             0.0      2.298320         0.00000  ...      0.000000   \n",
       "25%             0.0    181.628930         0.00000  ...      0.000000   \n",
       "50%             0.0    228.806080         0.21200  ...      1.000000   \n",
       "75%             0.0    283.976690         0.46300  ...      1.000000   \n",
       "max             0.0   2502.739140        62.76400  ...      1.000000   \n",
       "\n",
       "       mode_confidence  release_7digitalid  song_hotttnesss  \\\n",
       "count     19981.000000        19981.000000     19981.000000   \n",
       "mean          0.481057       317330.796106         0.466893   \n",
       "std           0.192631       233674.905421         0.207628   \n",
       "min           0.000000           39.000000         0.000000   \n",
       "25%           0.365000       110114.000000         0.349120   \n",
       "50%           0.493000       286315.000000         0.496175   \n",
       "75%           0.611000       511248.000000         0.612043   \n",
       "max           1.000000       823409.000000         1.000000   \n",
       "\n",
       "       start_of_fade_out         tempo  time_signature  \\\n",
       "count       19981.000000  19981.000000    19981.000000   \n",
       "mean          235.172722    124.891481        3.601872   \n",
       "std           112.663085     35.002907        1.232077   \n",
       "min             2.298000      0.000000        0.000000   \n",
       "25%           173.331000     99.079000        3.000000   \n",
       "50%           219.010000    121.787000        4.000000   \n",
       "75%           272.933000    145.928000        4.000000   \n",
       "max          2495.054000    252.943000        7.000000   \n",
       "\n",
       "       time_signature_confidence  track_7digitalid          year  \n",
       "count               19981.000000      1.998100e+04  19981.000000  \n",
       "mean                    0.503705      3.526853e+06   1996.902557  \n",
       "std                     0.370819      2.599209e+06     11.123403  \n",
       "min                     0.000000      4.430000e+02   1929.000000  \n",
       "25%                     0.103000      1.156340e+06   1992.000000  \n",
       "50%                     0.542000      3.221315e+06   2000.000000  \n",
       "75%                     0.850000      5.674953e+06   2006.000000  \n",
       "max                     1.000000      9.088514e+06   2010.000000  \n",
       "\n",
       "[8 rows x 24 columns]"
      ]
     },
     "execution_count": 5,
     "metadata": {},
     "output_type": "execute_result"
    }
   ],
   "source": [
    "df.describe()"
   ]
  },
  {
   "cell_type": "code",
   "execution_count": 6,
   "metadata": {},
   "outputs": [],
   "source": [
    "# Elimina outliers\n",
    "df.drop(df[df['song_hotttnesss'] == 0].index, inplace = True)\n",
    "\n",
    "hot_song_threshold = 0.612\n",
    "df['song_hotttnesss'] = (df['song_hotttnesss'] >= hot_song_threshold).astype(int)"
   ]
  },
  {
   "cell_type": "markdown",
   "metadata": {},
   "source": [
    "### Fazendo label encoding para do artist id"
   ]
  },
  {
   "cell_type": "code",
   "execution_count": 7,
   "metadata": {},
   "outputs": [],
   "source": [
    "le = preprocessing.LabelEncoder()\n",
    "df['artist_id'] = le.fit_transform(df['artist_id'].astype('str'))"
   ]
  },
  {
   "cell_type": "markdown",
   "metadata": {},
   "source": [
    "### Fazendo label encoding (one hot) dos códigos de país"
   ]
  },
  {
   "cell_type": "code",
   "execution_count": 8,
   "metadata": {},
   "outputs": [],
   "source": [
    "# Pegar one hot encoding da coluna\n",
    "one_hot = pd.get_dummies(df['artist_country_code'], prefix=\"artist_country_code\")\n",
    "\n",
    "# Drop da coluna, uma vez que já está codificada\n",
    "data = df.drop('artist_country_code', axis = 1)\n",
    "\n",
    "# Join do dataframe codificado com o original\n",
    "data = data.join(one_hot)"
   ]
  },
  {
   "cell_type": "code",
   "execution_count": 9,
   "metadata": {},
   "outputs": [],
   "source": [
    "# Distribuição gráfica de músicas que são \"hot\"\n",
    "def freq(col):\n",
    "   g = sns.kdeplot(data[col][(data[\"song_hotttnesss\"] == 1)], color=\"Blue\", shade = True)\n",
    "   g.set_xlabel(col)\n",
    "   g.set_ylabel(\"Frequency\")\n",
    "   g = g.legend([\"1\"])\n",
    "   plt.show()"
   ]
  },
  {
   "cell_type": "code",
   "execution_count": 10,
   "metadata": {},
   "outputs": [
    {
     "data": {
      "image/png": "[encoded data removed]",
      "text/plain": [
       "<Figure size 432x288 with 1 Axes>"
      ]
     },
     "metadata": {
      "needs_background": "light"
     },
     "output_type": "display_data"
    }
   ],
   "source": [
    "freq(\"tempo\")"
   ]
  },
  {
   "cell_type": "code",
   "execution_count": 11,
   "metadata": {},
   "outputs": [
    {
     "data": {
      "image/png": "[encoded data removed]",
      "text/plain": [
       "<Figure size 432x288 with 1 Axes>"
      ]
     },
     "metadata": {
      "needs_background": "light"
     },
     "output_type": "display_data"
    }
   ],
   "source": [
    "freq(\"duration\")"
   ]
  },
  {
   "cell_type": "code",
   "execution_count": 12,
   "metadata": {},
   "outputs": [
    {
     "data": {
      "image/png": "[encoded data removed]",
      "text/plain": [
       "<Figure size 432x288 with 1 Axes>"
      ]
     },
     "metadata": {
      "needs_background": "light"
     },
     "output_type": "display_data"
    }
   ],
   "source": [
    "freq(\"start_of_fade_out\")"
   ]
  },
  {
   "cell_type": "code",
   "execution_count": 13,
   "metadata": {},
   "outputs": [
    {
     "data": {
      "image/png": "[encoded data removed]",
      "text/plain": [
       "<Figure size 432x288 with 1 Axes>"
      ]
     },
     "metadata": {
      "needs_background": "light"
     },
     "output_type": "display_data"
    }
   ],
   "source": [
    "freq(\"end_of_fade_in\")"
   ]
  },
  {
   "cell_type": "code",
   "execution_count": 14,
   "metadata": {},
   "outputs": [
    {
     "data": {
      "image/png": "[encoded data removed]",
      "text/plain": [
       "<Figure size 432x288 with 1 Axes>"
      ]
     },
     "metadata": {
      "needs_background": "light"
     },
     "output_type": "display_data"
    }
   ],
   "source": [
    "freq(\"mode_confidence\")"
   ]
  },
  {
   "cell_type": "code",
   "execution_count": 15,
   "metadata": {},
   "outputs": [],
   "source": [
    "# Se quisermos delimitar o tamanho do DF para rodar mais rápido\n",
    "# data = data[:10000]\n",
    "# data.info()"
   ]
  },
  {
   "cell_type": "code",
   "execution_count": 16,
   "metadata": {},
   "outputs": [
    {
     "data": {
      "text/plain": [
       "['analysis_sample_rate',\n",
       " 'artist_7digitalid',\n",
       " 'artist_latitude',\n",
       " 'artist_location',\n",
       " 'artist_longitude',\n",
       " 'artist_mbid',\n",
       " 'artist_mbtags',\n",
       " 'artist_mbtags_count',\n",
       " 'artist_name',\n",
       " 'artist_playmeid',\n",
       " 'artist_terms',\n",
       " 'artist_terms_freq',\n",
       " 'artist_terms_weight',\n",
       " 'audio_md5',\n",
       " 'bars_confidence',\n",
       " 'bars_start',\n",
       " 'beats_confidence',\n",
       " 'beats_start',\n",
       " 'danceability',\n",
       " 'energy',\n",
       " 'release',\n",
       " 'release_7digitalid',\n",
       " 'sections_confidence',\n",
       " 'sections_start',\n",
       " 'segments_confidence',\n",
       " 'segments_loudness_max',\n",
       " 'segments_loudness_max_time',\n",
       " 'segments_loudness_start',\n",
       " 'segments_pitches',\n",
       " 'segments_start',\n",
       " 'segments_timbre',\n",
       " 'similar_artists',\n",
       " 'song_id',\n",
       " 'tatums_confidence',\n",
       " 'tatums_start',\n",
       " 'title',\n",
       " 'track_7digitalid',\n",
       " 'track_id']"
      ]
     },
     "execution_count": 16,
     "metadata": {},
     "output_type": "execute_result"
    }
   ],
   "source": [
    "country_cols = [col for col in data.columns if 'artist_country_code' in col]\n",
    "interesting_cols = [\n",
    "    \"artist_familiarity\",\n",
    "    \"artist_hotttnesss\",\n",
    "    \"artist_id\",\n",
    "    \"year\",\n",
    "    \"time_signature\",\n",
    "    \"duration\",\n",
    "    \"key\",\n",
    "    \"tempo\",\n",
    "    \"mode\",\n",
    "    \"mode_confidence\",\n",
    "    \"time_signature_confidence\",\n",
    "    \"end_of_fade_in\",\n",
    "    \"loudness\",\n",
    "    \"start_of_fade_out\",\n",
    "    \"key_confidence\",\n",
    "    \"song_hotttnesss\",\n",
    "] + country_cols\n",
    "\n",
    "drop_list = [col for col in data.columns if col not in interesting_cols]\n",
    "drop_list"
   ]
  },
  {
   "cell_type": "code",
   "execution_count": 17,
   "metadata": {},
   "outputs": [],
   "source": [
    "data = data.drop(data[data[\"song_hotttnesss\"] == 0].sample(frac=.62236).index)"
   ]
  },
  {
   "cell_type": "code",
   "execution_count": 18,
   "metadata": {},
   "outputs": [],
   "source": [
    "train = data.drop(drop_list, axis=1)"
   ]
  },
  {
   "cell_type": "code",
   "execution_count": 19,
   "metadata": {},
   "outputs": [
    {
     "name": "stdout",
     "output_type": "stream",
     "text": [
      "<class 'pandas.core.frame.DataFrame'>\n",
      "Int64Index: 10000 entries, 0 to 19998\n",
      "Data columns (total 72 columns):\n",
      " #   Column                     Non-Null Count  Dtype  \n",
      "---  ------                     --------------  -----  \n",
      " 0   artist_familiarity         10000 non-null  float64\n",
      " 1   artist_hotttnesss          10000 non-null  float64\n",
      " 2   artist_id                  10000 non-null  int64  \n",
      " 3   duration                   10000 non-null  float64\n",
      " 4   end_of_fade_in             10000 non-null  float64\n",
      " 5   key                        10000 non-null  int32  \n",
      " 6   key_confidence             10000 non-null  float64\n",
      " 7   loudness                   10000 non-null  float64\n",
      " 8   mode                       10000 non-null  int32  \n",
      " 9   mode_confidence            10000 non-null  float64\n",
      " 10  song_hotttnesss            10000 non-null  int64  \n",
      " 11  start_of_fade_out          10000 non-null  float64\n",
      " 12  tempo                      10000 non-null  float64\n",
      " 13  time_signature             10000 non-null  int32  \n",
      " 14  time_signature_confidence  10000 non-null  float64\n",
      " 15  year                       10000 non-null  int32  \n",
      " 16  artist_country_code_ar     10000 non-null  uint8  \n",
      " 17  artist_country_code_at     10000 non-null  uint8  \n",
      " 18  artist_country_code_au     10000 non-null  uint8  \n",
      " 19  artist_country_code_bb     10000 non-null  uint8  \n",
      " 20  artist_country_code_be     10000 non-null  uint8  \n",
      " 21  artist_country_code_br     10000 non-null  uint8  \n",
      " 22  artist_country_code_ca     10000 non-null  uint8  \n",
      " 23  artist_country_code_ch     10000 non-null  uint8  \n",
      " 24  artist_country_code_cl     10000 non-null  uint8  \n",
      " 25  artist_country_code_cm     10000 non-null  uint8  \n",
      " 26  artist_country_code_cn     10000 non-null  uint8  \n",
      " 27  artist_country_code_co     10000 non-null  uint8  \n",
      " 28  artist_country_code_cu     10000 non-null  uint8  \n",
      " 29  artist_country_code_cz     10000 non-null  uint8  \n",
      " 30  artist_country_code_de     10000 non-null  uint8  \n",
      " 31  artist_country_code_dk     10000 non-null  uint8  \n",
      " 32  artist_country_code_do     10000 non-null  uint8  \n",
      " 33  artist_country_code_dz     10000 non-null  uint8  \n",
      " 34  artist_country_code_eg     10000 non-null  uint8  \n",
      " 35  artist_country_code_es     10000 non-null  uint8  \n",
      " 36  artist_country_code_fi     10000 non-null  uint8  \n",
      " 37  artist_country_code_fr     10000 non-null  uint8  \n",
      " 38  artist_country_code_gb     10000 non-null  uint8  \n",
      " 39  artist_country_code_gr     10000 non-null  uint8  \n",
      " 40  artist_country_code_gy     10000 non-null  uint8  \n",
      " 41  artist_country_code_id     10000 non-null  uint8  \n",
      " 42  artist_country_code_ie     10000 non-null  uint8  \n",
      " 43  artist_country_code_il     10000 non-null  uint8  \n",
      " 44  artist_country_code_im     10000 non-null  uint8  \n",
      " 45  artist_country_code_in     10000 non-null  uint8  \n",
      " 46  artist_country_code_ir     10000 non-null  uint8  \n",
      " 47  artist_country_code_is     10000 non-null  uint8  \n",
      " 48  artist_country_code_it     10000 non-null  uint8  \n",
      " 49  artist_country_code_jm     10000 non-null  uint8  \n",
      " 50  artist_country_code_jp     10000 non-null  uint8  \n",
      " 51  artist_country_code_lb     10000 non-null  uint8  \n",
      " 52  artist_country_code_lv     10000 non-null  uint8  \n",
      " 53  artist_country_code_ml     10000 non-null  uint8  \n",
      " 54  artist_country_code_mx     10000 non-null  uint8  \n",
      " 55  artist_country_code_ng     10000 non-null  uint8  \n",
      " 56  artist_country_code_nl     10000 non-null  uint8  \n",
      " 57  artist_country_code_no     10000 non-null  uint8  \n",
      " 58  artist_country_code_nz     10000 non-null  uint8  \n",
      " 59  artist_country_code_pl     10000 non-null  uint8  \n",
      " 60  artist_country_code_pt     10000 non-null  uint8  \n",
      " 61  artist_country_code_ru     10000 non-null  uint8  \n",
      " 62  artist_country_code_se     10000 non-null  uint8  \n",
      " 63  artist_country_code_si     10000 non-null  uint8  \n",
      " 64  artist_country_code_sn     10000 non-null  uint8  \n",
      " 65  artist_country_code_tn     10000 non-null  uint8  \n",
      " 66  artist_country_code_tr     10000 non-null  uint8  \n",
      " 67  artist_country_code_tt     10000 non-null  uint8  \n",
      " 68  artist_country_code_tz     10000 non-null  uint8  \n",
      " 69  artist_country_code_us     10000 non-null  uint8  \n",
      " 70  artist_country_code_ve     10000 non-null  uint8  \n",
      " 71  artist_country_code_za     10000 non-null  uint8  \n",
      "dtypes: float64(10), int32(4), int64(2), uint8(56)\n",
      "memory usage: 1.7 MB\n"
     ]
    }
   ],
   "source": [
    "train.info()"
   ]
  },
  {
   "cell_type": "code",
   "execution_count": 20,
   "metadata": {},
   "outputs": [
    {
     "name": "stdout",
     "output_type": "stream",
     "text": [
      "N. classe não hit: \n",
      "5000\n",
      "N. classe hit: \n",
      "5000\n"
     ]
    }
   ],
   "source": [
    "print(\"N. classe não hit: \")\n",
    "print( len(data[data[\"song_hotttnesss\"]==0]) )\n",
    "\n",
    "\n",
    "print(\"N. classe hit: \")\n",
    "print( len(data[data[\"song_hotttnesss\"]==1]) )"
   ]
  },
  {
   "cell_type": "code",
   "execution_count": 21,
   "metadata": {},
   "outputs": [
    {
     "data": {
      "text/plain": [
       "(10000,)"
      ]
     },
     "execution_count": 21,
     "metadata": {},
     "output_type": "execute_result"
    }
   ],
   "source": [
    "Y = copy.deepcopy(train.song_hotttnesss)\n",
    "Y.shape"
   ]
  },
  {
   "cell_type": "code",
   "execution_count": 22,
   "metadata": {},
   "outputs": [],
   "source": [
    "train1 = train.drop(\"song_hotttnesss\", axis=1)"
   ]
  },
  {
   "cell_type": "code",
   "execution_count": 23,
   "metadata": {},
   "outputs": [],
   "source": [
    "X_train, X_test, y_train, y_test = train_test_split(train1, Y, test_size=0.20, random_state=7)"
   ]
  },
  {
   "cell_type": "code",
   "execution_count": 24,
   "metadata": {},
   "outputs": [
    {
     "name": "stdout",
     "output_type": "stream",
     "text": [
      "Accuracy: 73.6%\n"
     ]
    }
   ],
   "source": [
    "model = XGBClassifier()\n",
    "model.fit(X_train, y_train)\n",
    "\n",
    "# Fazer previsões para os dados de teste\n",
    "y_pred = model.predict(X_test)\n",
    "accuracy = model.score(X_test, y_test)\n",
    "print(f\"Accuracy: {round(accuracy * 100, 2,)}%\")\n"
   ]
  },
  {
   "cell_type": "code",
   "execution_count": 25,
   "metadata": {},
   "outputs": [],
   "source": [
    "# Função para avaliar o modelo com Cross validation >> resultado em AUC\n",
    "def test_model_AUC(model, X_train, Y_train):\n",
    "    scores = cross_val_score(model, X_train, Y_train, cv=10, scoring = \"roc_auc\")\n",
    "    print(\"Scores:\", scores)\n",
    "    print(\"Mean:\", scores.mean())\n",
    "    print(\"Standard Deviation:\", scores.std())\n",
    "    return scores.mean()"
   ]
  },
  {
   "cell_type": "code",
   "execution_count": 26,
   "metadata": {},
   "outputs": [],
   "source": [
    "# Função para avaliar o modelo com Cross validation >> resultado em ACCURACY\n",
    "def test_model_accuracy(model, X_train, Y_train):\n",
    "    scores = cross_val_score(model, X_train, Y_train, cv=10, scoring = \"accuracy\")\n",
    "    print(\"Scores:\", scores)\n",
    "    print(\"Mean:\", scores.mean())\n",
    "    print(\"Standard Deviation:\", scores.std())\n",
    "    return scores.mean()"
   ]
  },
  {
   "cell_type": "code",
   "execution_count": 27,
   "metadata": {},
   "outputs": [
    {
     "name": "stdout",
     "output_type": "stream",
     "text": [
      "Scores: [0.79688  0.793646 0.801214 0.800798 0.832418 0.7848   0.806022 0.816248\n",
      " 0.791302 0.839084]\n",
      "Mean: 0.8062412\n",
      "Standard Deviation: 0.01687641998055274\n",
      "AUC: 80.62%\n",
      "Scores: [0.724 0.714 0.736 0.739 0.746 0.714 0.732 0.737 0.722 0.755]\n",
      "Mean: 0.7319\n",
      "Standard Deviation: 0.012754999019992132\n",
      "Accuracy: 73.19%\n"
     ]
    }
   ],
   "source": [
    "# AUC 81.84%\n",
    "# ACC 74.82%\n",
    "rf = RandomForestClassifier(n_estimators=100, oob_score=True)\n",
    "rf.fit(train1, Y)\n",
    "auc_random_forest = test_model_AUC(rf, train1, Y)\n",
    "print(f\"AUC: {round(auc_random_forest*100,2,)}%\")\n",
    "acc_random_forest = test_model_accuracy(rf, train1, Y)\n",
    "print(f\"Accuracy: {round(acc_random_forest*100,2,)}%\")"
   ]
  },
  {
   "cell_type": "code",
   "execution_count": 28,
   "metadata": {},
   "outputs": [
    {
     "name": "stdout",
     "output_type": "stream",
     "text": [
      "Scores: [0.822996 0.814232 0.822856 0.815816 0.852012 0.810496 0.8351   0.828976\n",
      " 0.804004 0.849892]\n",
      "Mean: 0.825638\n",
      "Standard Deviation: 0.01524176632808679\n",
      "AUC: 82.56%\n",
      "Scores: [0.746 0.738 0.74  0.759 0.781 0.737 0.762 0.75  0.737 0.773]\n",
      "Mean: 0.7523\n",
      "Standard Deviation: 0.015033628969746473\n",
      "Accuracy: 75.23%\n"
     ]
    }
   ],
   "source": [
    "# AUC 83.29%\n",
    "# ACC 75.76%\n",
    "xgb1 = XGBClassifier(\n",
    "    learning_rate=0.1,\n",
    "    n_estimators=100,\n",
    "    max_depth=7,\n",
    "    min_child_weight=1,\n",
    "    gamma=0,\n",
    "    subsample=0.8,\n",
    "    colsample_bytree=0.8,\n",
    "    objective=\"binary:logistic\",\n",
    "    nthread=4,\n",
    "    scale_pos_weight=1,\n",
    "    seed=0,\n",
    ")\n",
    "xgb1.fit(train1, Y)\n",
    "auc_xgb = test_model_AUC(xgb1, train1, Y)\n",
    "print(f\"AUC: {round(auc_xgb * 100,2,)}%\")\n",
    "acc_xgb = test_model_accuracy(xgb1, train1, Y)\n",
    "print(f\"Accuracy: {round(acc_xgb * 100,2,)}%\")"
   ]
  },
  {
   "cell_type": "code",
   "execution_count": 29,
   "metadata": {},
   "outputs": [
    {
     "name": "stderr",
     "output_type": "stream",
     "text": [
      "/Users/henriquelaguardia/opt/anaconda3/lib/python3.8/site-packages/sklearn/linear_model/_logistic.py:763: ConvergenceWarning: lbfgs failed to converge (status=1):\n",
      "STOP: TOTAL NO. of ITERATIONS REACHED LIMIT.\n",
      "\n",
      "Increase the number of iterations (max_iter) or scale the data as shown in:\n",
      "    https://scikit-learn.org/stable/modules/preprocessing.html\n",
      "Please also refer to the documentation for alternative solver options:\n",
      "    https://scikit-learn.org/stable/modules/linear_model.html#logistic-regression\n",
      "  n_iter_i = _check_optimize_result(\n",
      "/Users/henriquelaguardia/opt/anaconda3/lib/python3.8/site-packages/sklearn/linear_model/_logistic.py:763: ConvergenceWarning: lbfgs failed to converge (status=1):\n",
      "STOP: TOTAL NO. of ITERATIONS REACHED LIMIT.\n",
      "\n",
      "Increase the number of iterations (max_iter) or scale the data as shown in:\n",
      "    https://scikit-learn.org/stable/modules/preprocessing.html\n",
      "Please also refer to the documentation for alternative solver options:\n",
      "    https://scikit-learn.org/stable/modules/linear_model.html#logistic-regression\n",
      "  n_iter_i = _check_optimize_result(\n",
      "/Users/henriquelaguardia/opt/anaconda3/lib/python3.8/site-packages/sklearn/linear_model/_logistic.py:763: ConvergenceWarning: lbfgs failed to converge (status=1):\n",
      "STOP: TOTAL NO. of ITERATIONS REACHED LIMIT.\n",
      "\n",
      "Increase the number of iterations (max_iter) or scale the data as shown in:\n",
      "    https://scikit-learn.org/stable/modules/preprocessing.html\n",
      "Please also refer to the documentation for alternative solver options:\n",
      "    https://scikit-learn.org/stable/modules/linear_model.html#logistic-regression\n",
      "  n_iter_i = _check_optimize_result(\n",
      "/Users/henriquelaguardia/opt/anaconda3/lib/python3.8/site-packages/sklearn/linear_model/_logistic.py:763: ConvergenceWarning: lbfgs failed to converge (status=1):\n",
      "STOP: TOTAL NO. of ITERATIONS REACHED LIMIT.\n",
      "\n",
      "Increase the number of iterations (max_iter) or scale the data as shown in:\n",
      "    https://scikit-learn.org/stable/modules/preprocessing.html\n",
      "Please also refer to the documentation for alternative solver options:\n",
      "    https://scikit-learn.org/stable/modules/linear_model.html#logistic-regression\n",
      "  n_iter_i = _check_optimize_result(\n",
      "/Users/henriquelaguardia/opt/anaconda3/lib/python3.8/site-packages/sklearn/linear_model/_logistic.py:763: ConvergenceWarning: lbfgs failed to converge (status=1):\n",
      "STOP: TOTAL NO. of ITERATIONS REACHED LIMIT.\n",
      "\n",
      "Increase the number of iterations (max_iter) or scale the data as shown in:\n",
      "    https://scikit-learn.org/stable/modules/preprocessing.html\n",
      "Please also refer to the documentation for alternative solver options:\n",
      "    https://scikit-learn.org/stable/modules/linear_model.html#logistic-regression\n",
      "  n_iter_i = _check_optimize_result(\n",
      "/Users/henriquelaguardia/opt/anaconda3/lib/python3.8/site-packages/sklearn/linear_model/_logistic.py:763: ConvergenceWarning: lbfgs failed to converge (status=1):\n",
      "STOP: TOTAL NO. of ITERATIONS REACHED LIMIT.\n",
      "\n",
      "Increase the number of iterations (max_iter) or scale the data as shown in:\n",
      "    https://scikit-learn.org/stable/modules/preprocessing.html\n",
      "Please also refer to the documentation for alternative solver options:\n",
      "    https://scikit-learn.org/stable/modules/linear_model.html#logistic-regression\n",
      "  n_iter_i = _check_optimize_result(\n",
      "/Users/henriquelaguardia/opt/anaconda3/lib/python3.8/site-packages/sklearn/linear_model/_logistic.py:763: ConvergenceWarning: lbfgs failed to converge (status=1):\n",
      "STOP: TOTAL NO. of ITERATIONS REACHED LIMIT.\n",
      "\n",
      "Increase the number of iterations (max_iter) or scale the data as shown in:\n",
      "    https://scikit-learn.org/stable/modules/preprocessing.html\n",
      "Please also refer to the documentation for alternative solver options:\n",
      "    https://scikit-learn.org/stable/modules/linear_model.html#logistic-regression\n",
      "  n_iter_i = _check_optimize_result(\n",
      "/Users/henriquelaguardia/opt/anaconda3/lib/python3.8/site-packages/sklearn/linear_model/_logistic.py:763: ConvergenceWarning: lbfgs failed to converge (status=1):\n",
      "STOP: TOTAL NO. of ITERATIONS REACHED LIMIT.\n",
      "\n",
      "Increase the number of iterations (max_iter) or scale the data as shown in:\n",
      "    https://scikit-learn.org/stable/modules/preprocessing.html\n",
      "Please also refer to the documentation for alternative solver options:\n",
      "    https://scikit-learn.org/stable/modules/linear_model.html#logistic-regression\n",
      "  n_iter_i = _check_optimize_result(\n",
      "/Users/henriquelaguardia/opt/anaconda3/lib/python3.8/site-packages/sklearn/linear_model/_logistic.py:763: ConvergenceWarning: lbfgs failed to converge (status=1):\n",
      "STOP: TOTAL NO. of ITERATIONS REACHED LIMIT.\n",
      "\n",
      "Increase the number of iterations (max_iter) or scale the data as shown in:\n",
      "    https://scikit-learn.org/stable/modules/preprocessing.html\n",
      "Please also refer to the documentation for alternative solver options:\n",
      "    https://scikit-learn.org/stable/modules/linear_model.html#logistic-regression\n",
      "  n_iter_i = _check_optimize_result(\n",
      "/Users/henriquelaguardia/opt/anaconda3/lib/python3.8/site-packages/sklearn/linear_model/_logistic.py:763: ConvergenceWarning: lbfgs failed to converge (status=1):\n",
      "STOP: TOTAL NO. of ITERATIONS REACHED LIMIT.\n",
      "\n",
      "Increase the number of iterations (max_iter) or scale the data as shown in:\n",
      "    https://scikit-learn.org/stable/modules/preprocessing.html\n",
      "Please also refer to the documentation for alternative solver options:\n",
      "    https://scikit-learn.org/stable/modules/linear_model.html#logistic-regression\n",
      "  n_iter_i = _check_optimize_result(\n",
      "/Users/henriquelaguardia/opt/anaconda3/lib/python3.8/site-packages/sklearn/linear_model/_logistic.py:763: ConvergenceWarning: lbfgs failed to converge (status=1):\n",
      "STOP: TOTAL NO. of ITERATIONS REACHED LIMIT.\n",
      "\n",
      "Increase the number of iterations (max_iter) or scale the data as shown in:\n",
      "    https://scikit-learn.org/stable/modules/preprocessing.html\n",
      "Please also refer to the documentation for alternative solver options:\n",
      "    https://scikit-learn.org/stable/modules/linear_model.html#logistic-regression\n",
      "  n_iter_i = _check_optimize_result(\n",
      "/Users/henriquelaguardia/opt/anaconda3/lib/python3.8/site-packages/sklearn/linear_model/_logistic.py:763: ConvergenceWarning: lbfgs failed to converge (status=1):\n",
      "STOP: TOTAL NO. of ITERATIONS REACHED LIMIT.\n",
      "\n",
      "Increase the number of iterations (max_iter) or scale the data as shown in:\n",
      "    https://scikit-learn.org/stable/modules/preprocessing.html\n",
      "Please also refer to the documentation for alternative solver options:\n",
      "    https://scikit-learn.org/stable/modules/linear_model.html#logistic-regression\n",
      "  n_iter_i = _check_optimize_result(\n"
     ]
    },
    {
     "name": "stdout",
     "output_type": "stream",
     "text": [
      "Scores: [0.60968  0.62778  0.582152 0.592584 0.61006  0.592164 0.59694  0.639808\n",
      " 0.604012 0.617804]\n",
      "Mean: 0.6072984\n",
      "Standard Deviation: 0.01672135776305261\n",
      "AUC: 60.73%\n"
     ]
    },
    {
     "name": "stderr",
     "output_type": "stream",
     "text": [
      "/Users/henriquelaguardia/opt/anaconda3/lib/python3.8/site-packages/sklearn/linear_model/_logistic.py:763: ConvergenceWarning: lbfgs failed to converge (status=1):\n",
      "STOP: TOTAL NO. of ITERATIONS REACHED LIMIT.\n",
      "\n",
      "Increase the number of iterations (max_iter) or scale the data as shown in:\n",
      "    https://scikit-learn.org/stable/modules/preprocessing.html\n",
      "Please also refer to the documentation for alternative solver options:\n",
      "    https://scikit-learn.org/stable/modules/linear_model.html#logistic-regression\n",
      "  n_iter_i = _check_optimize_result(\n",
      "/Users/henriquelaguardia/opt/anaconda3/lib/python3.8/site-packages/sklearn/linear_model/_logistic.py:763: ConvergenceWarning: lbfgs failed to converge (status=1):\n",
      "STOP: TOTAL NO. of ITERATIONS REACHED LIMIT.\n",
      "\n",
      "Increase the number of iterations (max_iter) or scale the data as shown in:\n",
      "    https://scikit-learn.org/stable/modules/preprocessing.html\n",
      "Please also refer to the documentation for alternative solver options:\n",
      "    https://scikit-learn.org/stable/modules/linear_model.html#logistic-regression\n",
      "  n_iter_i = _check_optimize_result(\n",
      "/Users/henriquelaguardia/opt/anaconda3/lib/python3.8/site-packages/sklearn/linear_model/_logistic.py:763: ConvergenceWarning: lbfgs failed to converge (status=1):\n",
      "STOP: TOTAL NO. of ITERATIONS REACHED LIMIT.\n",
      "\n",
      "Increase the number of iterations (max_iter) or scale the data as shown in:\n",
      "    https://scikit-learn.org/stable/modules/preprocessing.html\n",
      "Please also refer to the documentation for alternative solver options:\n",
      "    https://scikit-learn.org/stable/modules/linear_model.html#logistic-regression\n",
      "  n_iter_i = _check_optimize_result(\n",
      "/Users/henriquelaguardia/opt/anaconda3/lib/python3.8/site-packages/sklearn/linear_model/_logistic.py:763: ConvergenceWarning: lbfgs failed to converge (status=1):\n",
      "STOP: TOTAL NO. of ITERATIONS REACHED LIMIT.\n",
      "\n",
      "Increase the number of iterations (max_iter) or scale the data as shown in:\n",
      "    https://scikit-learn.org/stable/modules/preprocessing.html\n",
      "Please also refer to the documentation for alternative solver options:\n",
      "    https://scikit-learn.org/stable/modules/linear_model.html#logistic-regression\n",
      "  n_iter_i = _check_optimize_result(\n",
      "/Users/henriquelaguardia/opt/anaconda3/lib/python3.8/site-packages/sklearn/linear_model/_logistic.py:763: ConvergenceWarning: lbfgs failed to converge (status=1):\n",
      "STOP: TOTAL NO. of ITERATIONS REACHED LIMIT.\n",
      "\n",
      "Increase the number of iterations (max_iter) or scale the data as shown in:\n",
      "    https://scikit-learn.org/stable/modules/preprocessing.html\n",
      "Please also refer to the documentation for alternative solver options:\n",
      "    https://scikit-learn.org/stable/modules/linear_model.html#logistic-regression\n",
      "  n_iter_i = _check_optimize_result(\n",
      "/Users/henriquelaguardia/opt/anaconda3/lib/python3.8/site-packages/sklearn/linear_model/_logistic.py:763: ConvergenceWarning: lbfgs failed to converge (status=1):\n",
      "STOP: TOTAL NO. of ITERATIONS REACHED LIMIT.\n",
      "\n",
      "Increase the number of iterations (max_iter) or scale the data as shown in:\n",
      "    https://scikit-learn.org/stable/modules/preprocessing.html\n",
      "Please also refer to the documentation for alternative solver options:\n",
      "    https://scikit-learn.org/stable/modules/linear_model.html#logistic-regression\n",
      "  n_iter_i = _check_optimize_result(\n"
     ]
    },
    {
     "name": "stdout",
     "output_type": "stream",
     "text": [
      "Scores: [0.587 0.606 0.556 0.582 0.574 0.56  0.58  0.602 0.584 0.594]\n",
      "Mean: 0.5825\n",
      "Standard Deviation: 0.015409412707822428\n",
      "Accuracy: 58.25%\n"
     ]
    },
    {
     "name": "stderr",
     "output_type": "stream",
     "text": [
      "/Users/henriquelaguardia/opt/anaconda3/lib/python3.8/site-packages/sklearn/linear_model/_logistic.py:763: ConvergenceWarning: lbfgs failed to converge (status=1):\n",
      "STOP: TOTAL NO. of ITERATIONS REACHED LIMIT.\n",
      "\n",
      "Increase the number of iterations (max_iter) or scale the data as shown in:\n",
      "    https://scikit-learn.org/stable/modules/preprocessing.html\n",
      "Please also refer to the documentation for alternative solver options:\n",
      "    https://scikit-learn.org/stable/modules/linear_model.html#logistic-regression\n",
      "  n_iter_i = _check_optimize_result(\n",
      "/Users/henriquelaguardia/opt/anaconda3/lib/python3.8/site-packages/sklearn/linear_model/_logistic.py:763: ConvergenceWarning: lbfgs failed to converge (status=1):\n",
      "STOP: TOTAL NO. of ITERATIONS REACHED LIMIT.\n",
      "\n",
      "Increase the number of iterations (max_iter) or scale the data as shown in:\n",
      "    https://scikit-learn.org/stable/modules/preprocessing.html\n",
      "Please also refer to the documentation for alternative solver options:\n",
      "    https://scikit-learn.org/stable/modules/linear_model.html#logistic-regression\n",
      "  n_iter_i = _check_optimize_result(\n",
      "/Users/henriquelaguardia/opt/anaconda3/lib/python3.8/site-packages/sklearn/linear_model/_logistic.py:763: ConvergenceWarning: lbfgs failed to converge (status=1):\n",
      "STOP: TOTAL NO. of ITERATIONS REACHED LIMIT.\n",
      "\n",
      "Increase the number of iterations (max_iter) or scale the data as shown in:\n",
      "    https://scikit-learn.org/stable/modules/preprocessing.html\n",
      "Please also refer to the documentation for alternative solver options:\n",
      "    https://scikit-learn.org/stable/modules/linear_model.html#logistic-regression\n",
      "  n_iter_i = _check_optimize_result(\n"
     ]
    }
   ],
   "source": [
    "# AUC 62.45%\n",
    "# ACC 59.21%\n",
    "logreg = LogisticRegression()\n",
    "\n",
    "logreg.fit(train1, Y)\n",
    "\n",
    "auc_log = test_model_AUC(logreg, train1, Y)\n",
    "print(f\"AUC: {round(auc_log*100,2,)}%\")\n",
    "acc_log = test_model_accuracy(logreg, train1, Y)\n",
    "print(f\"Accuracy: {round(acc_log*100,2,)}%\")"
   ]
  },
  {
   "cell_type": "code",
   "execution_count": 30,
   "metadata": {},
   "outputs": [
    {
     "name": "stdout",
     "output_type": "stream",
     "text": [
      "Scores: [0.562288 0.565396 0.555446 0.56372  0.571956 0.569662 0.578556 0.570892\n",
      " 0.573694 0.601096]\n",
      "Mean: 0.5712705999999999\n",
      "Standard Deviation: 0.01172319352565673\n",
      "AUC: 57.13%\n",
      "Scores: [0.537 0.545 0.551 0.543 0.553 0.551 0.562 0.556 0.551 0.588]\n",
      "Mean: 0.5537000000000001\n",
      "Standard Deviation: 0.013198863587445684\n",
      "Accuracy: 55.37%\n"
     ]
    }
   ],
   "source": [
    "# AUC 56.08%\n",
    "# ACC 54.80%\n",
    "knn = KNeighborsClassifier(n_neighbors=3)\n",
    "\n",
    "knn.fit(train1, Y)\n",
    "\n",
    "auc_knn = test_model_AUC(knn, train1, Y)\n",
    "print(f\"AUC: {round(auc_knn*100,2,)}%\")\n",
    "acc_knn = test_model_accuracy(knn, train1, Y)\n",
    "print(f\"Accuracy: {round(acc_knn*100,2,)}%\")"
   ]
  },
  {
   "cell_type": "code",
   "execution_count": 31,
   "metadata": {},
   "outputs": [
    {
     "name": "stderr",
     "output_type": "stream",
     "text": [
      "/Users/henriquelaguardia/opt/anaconda3/lib/python3.8/site-packages/sklearn/svm/_base.py:985: ConvergenceWarning: Liblinear failed to converge, increase the number of iterations.\n",
      "  warnings.warn(\"Liblinear failed to converge, increase \"\n",
      "/Users/henriquelaguardia/opt/anaconda3/lib/python3.8/site-packages/sklearn/svm/_base.py:985: ConvergenceWarning: Liblinear failed to converge, increase the number of iterations.\n",
      "  warnings.warn(\"Liblinear failed to converge, increase \"\n",
      "/Users/henriquelaguardia/opt/anaconda3/lib/python3.8/site-packages/sklearn/svm/_base.py:985: ConvergenceWarning: Liblinear failed to converge, increase the number of iterations.\n",
      "  warnings.warn(\"Liblinear failed to converge, increase \"\n",
      "/Users/henriquelaguardia/opt/anaconda3/lib/python3.8/site-packages/sklearn/svm/_base.py:985: ConvergenceWarning: Liblinear failed to converge, increase the number of iterations.\n",
      "  warnings.warn(\"Liblinear failed to converge, increase \"\n",
      "/Users/henriquelaguardia/opt/anaconda3/lib/python3.8/site-packages/sklearn/svm/_base.py:985: ConvergenceWarning: Liblinear failed to converge, increase the number of iterations.\n",
      "  warnings.warn(\"Liblinear failed to converge, increase \"\n",
      "/Users/henriquelaguardia/opt/anaconda3/lib/python3.8/site-packages/sklearn/svm/_base.py:985: ConvergenceWarning: Liblinear failed to converge, increase the number of iterations.\n",
      "  warnings.warn(\"Liblinear failed to converge, increase \"\n",
      "/Users/henriquelaguardia/opt/anaconda3/lib/python3.8/site-packages/sklearn/svm/_base.py:985: ConvergenceWarning: Liblinear failed to converge, increase the number of iterations.\n",
      "  warnings.warn(\"Liblinear failed to converge, increase \"\n",
      "/Users/henriquelaguardia/opt/anaconda3/lib/python3.8/site-packages/sklearn/svm/_base.py:985: ConvergenceWarning: Liblinear failed to converge, increase the number of iterations.\n",
      "  warnings.warn(\"Liblinear failed to converge, increase \"\n",
      "/Users/henriquelaguardia/opt/anaconda3/lib/python3.8/site-packages/sklearn/svm/_base.py:985: ConvergenceWarning: Liblinear failed to converge, increase the number of iterations.\n",
      "  warnings.warn(\"Liblinear failed to converge, increase \"\n",
      "/Users/henriquelaguardia/opt/anaconda3/lib/python3.8/site-packages/sklearn/svm/_base.py:985: ConvergenceWarning: Liblinear failed to converge, increase the number of iterations.\n",
      "  warnings.warn(\"Liblinear failed to converge, increase \"\n",
      "/Users/henriquelaguardia/opt/anaconda3/lib/python3.8/site-packages/sklearn/svm/_base.py:985: ConvergenceWarning: Liblinear failed to converge, increase the number of iterations.\n",
      "  warnings.warn(\"Liblinear failed to converge, increase \"\n"
     ]
    },
    {
     "name": "stdout",
     "output_type": "stream",
     "text": [
      "Scores: [0.593508 0.526044 0.5099   0.518736 0.561648 0.581556 0.530316 0.612016\n",
      " 0.562684 0.543236]\n",
      "Mean: 0.5539644\n",
      "Standard Deviation: 0.032352211248073914\n",
      "AUC: 55.4%\n"
     ]
    },
    {
     "name": "stderr",
     "output_type": "stream",
     "text": [
      "/Users/henriquelaguardia/opt/anaconda3/lib/python3.8/site-packages/sklearn/svm/_base.py:985: ConvergenceWarning: Liblinear failed to converge, increase the number of iterations.\n",
      "  warnings.warn(\"Liblinear failed to converge, increase \"\n",
      "/Users/henriquelaguardia/opt/anaconda3/lib/python3.8/site-packages/sklearn/svm/_base.py:985: ConvergenceWarning: Liblinear failed to converge, increase the number of iterations.\n",
      "  warnings.warn(\"Liblinear failed to converge, increase \"\n",
      "/Users/henriquelaguardia/opt/anaconda3/lib/python3.8/site-packages/sklearn/svm/_base.py:985: ConvergenceWarning: Liblinear failed to converge, increase the number of iterations.\n",
      "  warnings.warn(\"Liblinear failed to converge, increase \"\n",
      "/Users/henriquelaguardia/opt/anaconda3/lib/python3.8/site-packages/sklearn/svm/_base.py:985: ConvergenceWarning: Liblinear failed to converge, increase the number of iterations.\n",
      "  warnings.warn(\"Liblinear failed to converge, increase \"\n",
      "/Users/henriquelaguardia/opt/anaconda3/lib/python3.8/site-packages/sklearn/svm/_base.py:985: ConvergenceWarning: Liblinear failed to converge, increase the number of iterations.\n",
      "  warnings.warn(\"Liblinear failed to converge, increase \"\n",
      "/Users/henriquelaguardia/opt/anaconda3/lib/python3.8/site-packages/sklearn/svm/_base.py:985: ConvergenceWarning: Liblinear failed to converge, increase the number of iterations.\n",
      "  warnings.warn(\"Liblinear failed to converge, increase \"\n",
      "/Users/henriquelaguardia/opt/anaconda3/lib/python3.8/site-packages/sklearn/svm/_base.py:985: ConvergenceWarning: Liblinear failed to converge, increase the number of iterations.\n",
      "  warnings.warn(\"Liblinear failed to converge, increase \"\n",
      "/Users/henriquelaguardia/opt/anaconda3/lib/python3.8/site-packages/sklearn/svm/_base.py:985: ConvergenceWarning: Liblinear failed to converge, increase the number of iterations.\n",
      "  warnings.warn(\"Liblinear failed to converge, increase \"\n",
      "/Users/henriquelaguardia/opt/anaconda3/lib/python3.8/site-packages/sklearn/svm/_base.py:985: ConvergenceWarning: Liblinear failed to converge, increase the number of iterations.\n",
      "  warnings.warn(\"Liblinear failed to converge, increase \"\n"
     ]
    },
    {
     "name": "stdout",
     "output_type": "stream",
     "text": [
      "Scores: [0.518 0.5   0.5   0.499 0.501 0.5   0.5   0.5   0.499 0.5  ]\n",
      "Mean: 0.5016999999999999\n",
      "Standard Deviation: 0.005459853477887484\n",
      "Accuracy: 50.17%\n"
     ]
    },
    {
     "name": "stderr",
     "output_type": "stream",
     "text": [
      "/Users/henriquelaguardia/opt/anaconda3/lib/python3.8/site-packages/sklearn/svm/_base.py:985: ConvergenceWarning: Liblinear failed to converge, increase the number of iterations.\n",
      "  warnings.warn(\"Liblinear failed to converge, increase \"\n"
     ]
    }
   ],
   "source": [
    "# AUC 57.52%\n",
    "# ACC 50.25%\n",
    "linear_svc = LinearSVC()\n",
    "linear_svc.fit(train1, Y)\n",
    "\n",
    "auc_linear_svc = test_model_AUC(linear_svc, train1, Y)\n",
    "print(f\"AUC: {round(auc_linear_svc*100,2,)}%\")\n",
    "\n",
    "acc_linear_svc = test_model_accuracy(linear_svc, train1, Y)\n",
    "print(f\"Accuracy: {round(acc_linear_svc*100,2,)}%\")"
   ]
  },
  {
   "cell_type": "code",
   "execution_count": 32,
   "metadata": {},
   "outputs": [
    {
     "name": "stdout",
     "output_type": "stream",
     "text": [
      "Scores: [0.663 0.682 0.684 0.662 0.686 0.663 0.699 0.68  0.661 0.701]\n",
      "Mean: 0.6780999999999999\n",
      "Standard Deviation: 0.014439182802361032\n",
      "AUC: 67.81%\n",
      "Scores: [0.675 0.686 0.682 0.672 0.689 0.663 0.681 0.679 0.678 0.699]\n",
      "Mean: 0.6803999999999999\n",
      "Standard Deviation: 0.009297311439335544\n",
      "Accuracy: 68.04%\n"
     ]
    }
   ],
   "source": [
    "# AUC 67.96%\n",
    "# ACC 67.84%\n",
    "decision_tree = DecisionTreeClassifier()\n",
    "decision_tree.fit(train1, Y)\n",
    "\n",
    "auc_decision_tree = test_model_AUC(decision_tree, train1, Y)\n",
    "print(f\"AUC: {round(auc_decision_tree*100,2,)}%\")\n",
    "\n",
    "acc_decision_tree = test_model_accuracy(decision_tree, train1, Y)\n",
    "print(f\"Accuracy: {round(acc_decision_tree*100,2,)}%\")"
   ]
  },
  {
   "cell_type": "code",
   "execution_count": 33,
   "metadata": {},
   "outputs": [
    {
     "name": "stdout",
     "output_type": "stream",
     "text": [
      "Scores: [0.515636 0.527156 0.509044 0.50914  0.522188 0.488628 0.494972 0.543152\n",
      " 0.518192 0.532164]\n",
      "Mean: 0.5160272\n",
      "Standard Deviation: 0.01566215931983839\n",
      "AUC: 51.6%\n",
      "Scores: [0.522 0.501 0.5   0.5   0.5   0.486 0.52  0.5   0.516 0.5  ]\n",
      "Mean: 0.5045\n",
      "Standard Deviation: 0.010651291001564091\n",
      "Accuracy: 50.45%\n"
     ]
    }
   ],
   "source": [
    "# AUC 52.13%\n",
    "# ACC 50.29%\n",
    "sgd = linear_model.SGDClassifier(max_iter=5, tol=None)\n",
    "auc_sgd = test_model_AUC(sgd, train1, Y)  \n",
    "print(f\"AUC: {round(auc_sgd*100,2,)}%\")\n",
    "acc_sgd = test_model_accuracy(sgd, train1, Y)  \n",
    "print(f\"Accuracy: {round(acc_sgd*100,2,)}%\")"
   ]
  },
  {
   "cell_type": "code",
   "execution_count": 34,
   "metadata": {},
   "outputs": [
    {
     "data": {
      "text/html": [
       "<div>\n",
       "<style scoped>\n",
       "    .dataframe tbody tr th:only-of-type {\n",
       "        vertical-align: middle;\n",
       "    }\n",
       "\n",
       "    .dataframe tbody tr th {\n",
       "        vertical-align: top;\n",
       "    }\n",
       "\n",
       "    .dataframe thead th {\n",
       "        text-align: right;\n",
       "    }\n",
       "</style>\n",
       "<table border=\"1\" class=\"dataframe\">\n",
       "  <thead>\n",
       "    <tr style=\"text-align: right;\">\n",
       "      <th></th>\n",
       "      <th>Model</th>\n",
       "    </tr>\n",
       "    <tr>\n",
       "      <th>AUC</th>\n",
       "      <th></th>\n",
       "    </tr>\n",
       "  </thead>\n",
       "  <tbody>\n",
       "    <tr>\n",
       "      <th>0.825638</th>\n",
       "      <td>XGB</td>\n",
       "    </tr>\n",
       "    <tr>\n",
       "      <th>0.806241</th>\n",
       "      <td>Random Forest</td>\n",
       "    </tr>\n",
       "    <tr>\n",
       "      <th>0.678100</th>\n",
       "      <td>Decision Tree</td>\n",
       "    </tr>\n",
       "    <tr>\n",
       "      <th>0.607298</th>\n",
       "      <td>Logistic Regression</td>\n",
       "    </tr>\n",
       "    <tr>\n",
       "      <th>0.571271</th>\n",
       "      <td>KNN</td>\n",
       "    </tr>\n",
       "    <tr>\n",
       "      <th>0.553964</th>\n",
       "      <td>Support Vector Machines</td>\n",
       "    </tr>\n",
       "    <tr>\n",
       "      <th>0.516027</th>\n",
       "      <td>Stochastic Gradient Descent</td>\n",
       "    </tr>\n",
       "  </tbody>\n",
       "</table>\n",
       "</div>"
      ],
      "text/plain": [
       "                                Model\n",
       "AUC                                  \n",
       "0.825638                          XGB\n",
       "0.806241                Random Forest\n",
       "0.678100                Decision Tree\n",
       "0.607298          Logistic Regression\n",
       "0.571271                          KNN\n",
       "0.553964      Support Vector Machines\n",
       "0.516027  Stochastic Gradient Descent"
      ]
     },
     "execution_count": 34,
     "metadata": {},
     "output_type": "execute_result"
    }
   ],
   "source": [
    "results_auc = pd.DataFrame({\n",
    "    'Model': ['Support Vector Machines', 'KNN', 'Logistic Regression', \n",
    "              'Random Forest', 'XGB', \n",
    "              'Decision Tree', \"Stochastic Gradient Descent\"],\n",
    "    'AUC': [auc_linear_svc, auc_knn, auc_log, \n",
    "              auc_random_forest, auc_xgb, \n",
    "             auc_decision_tree, auc_sgd]})\n",
    "result_df = results_auc.sort_values(by='AUC', ascending=False)\n",
    "result_df = result_df.set_index('AUC')\n",
    "result_df.head(7)"
   ]
  },
  {
   "cell_type": "code",
   "execution_count": 35,
   "metadata": {},
   "outputs": [
    {
     "data": {
      "text/html": [
       "<div>\n",
       "<style scoped>\n",
       "    .dataframe tbody tr th:only-of-type {\n",
       "        vertical-align: middle;\n",
       "    }\n",
       "\n",
       "    .dataframe tbody tr th {\n",
       "        vertical-align: top;\n",
       "    }\n",
       "\n",
       "    .dataframe thead th {\n",
       "        text-align: right;\n",
       "    }\n",
       "</style>\n",
       "<table border=\"1\" class=\"dataframe\">\n",
       "  <thead>\n",
       "    <tr style=\"text-align: right;\">\n",
       "      <th></th>\n",
       "      <th>Model</th>\n",
       "    </tr>\n",
       "    <tr>\n",
       "      <th>Accuracy</th>\n",
       "      <th></th>\n",
       "    </tr>\n",
       "  </thead>\n",
       "  <tbody>\n",
       "    <tr>\n",
       "      <th>0.7523</th>\n",
       "      <td>XGB</td>\n",
       "    </tr>\n",
       "    <tr>\n",
       "      <th>0.7319</th>\n",
       "      <td>Random Forest</td>\n",
       "    </tr>\n",
       "    <tr>\n",
       "      <th>0.6804</th>\n",
       "      <td>Decision Tree</td>\n",
       "    </tr>\n",
       "    <tr>\n",
       "      <th>0.5825</th>\n",
       "      <td>Logistic Regression</td>\n",
       "    </tr>\n",
       "    <tr>\n",
       "      <th>0.5537</th>\n",
       "      <td>KNN</td>\n",
       "    </tr>\n",
       "    <tr>\n",
       "      <th>0.5045</th>\n",
       "      <td>Stochastic Gradient Descent</td>\n",
       "    </tr>\n",
       "    <tr>\n",
       "      <th>0.5017</th>\n",
       "      <td>Support Vector Machines</td>\n",
       "    </tr>\n",
       "  </tbody>\n",
       "</table>\n",
       "</div>"
      ],
      "text/plain": [
       "                                Model\n",
       "Accuracy                             \n",
       "0.7523                            XGB\n",
       "0.7319                  Random Forest\n",
       "0.6804                  Decision Tree\n",
       "0.5825            Logistic Regression\n",
       "0.5537                            KNN\n",
       "0.5045    Stochastic Gradient Descent\n",
       "0.5017        Support Vector Machines"
      ]
     },
     "execution_count": 35,
     "metadata": {},
     "output_type": "execute_result"
    }
   ],
   "source": [
    "results_acc = pd.DataFrame({\n",
    "    'Model': ['Support Vector Machines', 'KNN', 'Logistic Regression', \n",
    "              'Random Forest', 'XGB', \n",
    "              'Decision Tree', \"Stochastic Gradient Descent\"],\n",
    "    'Accuracy': [acc_linear_svc, acc_knn, acc_log, \n",
    "              acc_random_forest, acc_xgb, \n",
    "             acc_decision_tree, acc_sgd]})\n",
    "result_df = results_acc.sort_values(by='Accuracy', ascending=False)\n",
    "result_df = result_df.set_index('Accuracy')\n",
    "result_df.head(7)"
   ]
  },
  {
   "cell_type": "code",
   "execution_count": 36,
   "metadata": {},
   "outputs": [
    {
     "name": "stderr",
     "output_type": "stream",
     "text": [
      "/Users/henriquelaguardia/opt/anaconda3/lib/python3.8/site-packages/sklearn/linear_model/_logistic.py:763: ConvergenceWarning: lbfgs failed to converge (status=1):\n",
      "STOP: TOTAL NO. of ITERATIONS REACHED LIMIT.\n",
      "\n",
      "Increase the number of iterations (max_iter) or scale the data as shown in:\n",
      "    https://scikit-learn.org/stable/modules/preprocessing.html\n",
      "Please also refer to the documentation for alternative solver options:\n",
      "    https://scikit-learn.org/stable/modules/linear_model.html#logistic-regression\n",
      "  n_iter_i = _check_optimize_result(\n"
     ]
    },
    {
     "data": {
      "text/plain": [
       "XGBClassifier(base_score=0.5, booster='gbtree', callbacks=None,\n",
       "              colsample_bylevel=1, colsample_bynode=1, colsample_bytree=1,\n",
       "              early_stopping_rounds=None, enable_categorical=False,\n",
       "              eval_metric=None, gamma=0, gpu_id=-1, grow_policy='depthwise',\n",
       "              importance_type=None, interaction_constraints='',\n",
       "              learning_rate=0.300000012, max_bin=256, max_cat_to_onehot=4,\n",
       "              max_delta_step=0, max_depth=6, max_leaves=0, min_child_weight=1,\n",
       "              missing=nan, monotone_constraints='()', n_estimators=100,\n",
       "              n_jobs=0, num_parallel_tree=1, predictor='auto', random_state=0,\n",
       "              reg_alpha=0, reg_lambda=1, ...)"
      ]
     },
     "execution_count": 36,
     "metadata": {},
     "output_type": "execute_result"
    }
   ],
   "source": [
    "# instantiate the model\n",
    "log_regression = LogisticRegression()\n",
    "decision_tree = DecisionTreeClassifier()\n",
    "random_forest = RandomForestClassifier()\n",
    "xgb = XGBClassifier()\n",
    "\n",
    "# fit the model using the training data\n",
    "log_regression.fit(X_train,y_train)\n",
    "decision_tree.fit(X_train,y_train)\n",
    "random_forest.fit(X_train,y_train)\n",
    "xgb.fit(X_train,y_train)"
   ]
  },
  {
   "cell_type": "code",
   "execution_count": 37,
   "metadata": {},
   "outputs": [],
   "source": [
    "from sklearn.metrics import roc_curve\n",
    "\n",
    "# roc curve for models\n",
    "y_pred_proba_1 = log_regression.predict_proba(X_test)[::,1]\n",
    "fpr1, tpr1, thresh1 = roc_curve(y_test,  y_pred_proba_1)\n",
    "\n",
    "y_pred_proba_2 = decision_tree.predict_proba(X_test)[::,1]\n",
    "fpr2, tpr2, thresh2 = roc_curve(y_test,  y_pred_proba_2)\n",
    "\n",
    "y_pred_proba_3 = random_forest.predict_proba(X_test)[::,1]\n",
    "fpr3, tpr3, thresh3 = roc_curve(y_test,  y_pred_proba_3)\n",
    "\n",
    "y_pred_proba_4 = xgb.predict_proba(X_test)[::,1]\n",
    "fpr4, tpr4, thresh4 = roc_curve(y_test,  y_pred_proba_4)\n",
    "\n",
    "# roc curve for tpr = fpr \n",
    "random_probs = [0 for i in range(len(y_test))]\n",
    "p_fpr, p_tpr, _ = roc_curve(y_test, random_probs, pos_label=1)"
   ]
  },
  {
   "cell_type": "code",
   "execution_count": 38,
   "metadata": {},
   "outputs": [
    {
     "data": {
      "image/png": "[encoded data removed]",
      "text/plain": [
       "<Figure size 576x396 with 1 Axes>"
      ]
     },
     "metadata": {},
     "output_type": "display_data"
    }
   ],
   "source": [
    "# matplotlib\n",
    "import matplotlib.pyplot as plt\n",
    "plt.style.use('seaborn')\n",
    "\n",
    "# plot roc curves\n",
    "plt.plot([0, 0, 1], [0, 1, 1], linestyle=':', color='black', label='Classificador perfeito')\n",
    "plt.plot(fpr4, tpr4, linestyle='--',color='orange', label='XGB')\n",
    "plt.plot(fpr3, tpr3, linestyle='--',color='green', label='Random Forest')\n",
    "plt.plot(fpr2, tpr2, linestyle='--',color='red', label='Decision Tree')\n",
    "plt.plot(fpr1, tpr1, linestyle='--',color='purple', label='Logistic Regression')\n",
    "plt.plot(p_fpr, p_tpr, linestyle=':', color='blue', label = 'Classificador aleatório')\n",
    "# title\n",
    "plt.title('Curva ROC')\n",
    "# x label\n",
    "plt.xlabel('Taxa de Falsos Positivos (1 - Especificidade)')\n",
    "# y label\n",
    "plt.ylabel('Taxa de Verdadeiros Positivos (Sensibilidade)')\n",
    "\n",
    "plt.legend(loc='lower right')\n",
    "plt.savefig('ROC',dpi=300)\n",
    "plt.show();"
   ]
  },
  {
   "cell_type": "code",
   "execution_count": null,
   "metadata": {},
   "outputs": [],
   "source": []
  }
 ],
 "metadata": {
  "kernelspec": {
   "display_name": "Python 3 (ipykernel)",
   "language": "python",
   "name": "python3"
  },
  "language_info": {
   "codemirror_mode": {
    "name": "ipython",
    "version": 3
   },
   "file_extension": ".py",
   "mimetype": "text/x-python",
   "name": "python",
   "nbconvert_exporter": "python",
   "pygments_lexer": "ipython3",
   "version": "3.8.5"
  },
  "vscode": {
   "interpreter": {
    "hash": "bb068e2a9ebf9c6272085a57852a55431db6de48169afa30eaa3e89b8194a7bd"
   }
  }
 },
 "nbformat": 4,
 "nbformat_minor": 2
}
