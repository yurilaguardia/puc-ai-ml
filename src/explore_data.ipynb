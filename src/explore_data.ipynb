{
 "cells": [
  {
   "cell_type": "markdown",
   "metadata": {},
   "source": [
    "# Required imports"
   ]
  },
  {
   "cell_type": "code",
   "execution_count": 4,
   "metadata": {},
   "outputs": [],
   "source": [
    "import pandas as pd"
   ]
  },
  {
   "cell_type": "markdown",
   "metadata": {},
   "source": [
    "# Load the dataset"
   ]
  },
  {
   "cell_type": "markdown",
   "metadata": {},
   "source": [
    "Before running the next line, be sure to decompress the dataset file first. E.g.:\n",
    "\n",
    "`gzip -d 10kSongs_1.pickle.gz`\n",
    "\n",
    "Alternative: decompress and load the file on the fly with\n",
    "\n",
    "`df = pd.read_pickle(\"../datasets/10kSongs_1.pickle.gz\", compress={\"method\": \"gzip\", \"compresslevel\": 9})`"
   ]
  },
  {
   "cell_type": "code",
   "execution_count": 8,
   "metadata": {},
   "outputs": [],
   "source": [
    "df = pd.read_pickle(\"../datasets/10kSongs_1.pickle\")\n",
    "# df = pd.read_pickle(\"../datasets/10kSongs_1.pickle.gz\", compress={\"method\": \"gzip\", \"compresslevel\": 9})\n"
   ]
  },
  {
   "cell_type": "markdown",
   "metadata": {},
   "source": [
    "# Explore the data"
   ]
  },
  {
   "cell_type": "code",
   "execution_count": 9,
   "metadata": {},
   "outputs": [
    {
     "name": "stdout",
     "output_type": "stream",
     "text": [
      "<class 'pandas.core.frame.DataFrame'>\n",
      "RangeIndex: 10000 entries, 0 to 9999\n",
      "Data columns (total 54 columns):\n",
      " #   Column                      Non-Null Count  Dtype  \n",
      "---  ------                      --------------  -----  \n",
      " 0   analysis_sample_rate        10000 non-null  int32  \n",
      " 1   artist_7digitalid           10000 non-null  int32  \n",
      " 2   artist_familiarity          10000 non-null  float64\n",
      " 3   artist_hotttnesss           10000 non-null  float64\n",
      " 4   artist_id                   10000 non-null  object \n",
      " 5   artist_latitude             10000 non-null  float64\n",
      " 6   artist_location             10000 non-null  object \n",
      " 7   artist_longitude            10000 non-null  float64\n",
      " 8   artist_mbid                 10000 non-null  object \n",
      " 9   artist_mbtags               10000 non-null  object \n",
      " 10  artist_mbtags_count         10000 non-null  object \n",
      " 11  artist_name                 10000 non-null  object \n",
      " 12  artist_playmeid             10000 non-null  int32  \n",
      " 13  artist_terms                10000 non-null  object \n",
      " 14  artist_terms_freq           10000 non-null  object \n",
      " 15  artist_terms_weight         10000 non-null  object \n",
      " 16  audio_md5                   10000 non-null  object \n",
      " 17  bars_confidence             10000 non-null  object \n",
      " 18  bars_start                  10000 non-null  object \n",
      " 19  beats_confidence            10000 non-null  object \n",
      " 20  beats_start                 10000 non-null  object \n",
      " 21  danceability                10000 non-null  float64\n",
      " 22  duration                    10000 non-null  float64\n",
      " 23  end_of_fade_in              10000 non-null  float64\n",
      " 24  energy                      10000 non-null  float64\n",
      " 25  key                         10000 non-null  int32  \n",
      " 26  key_confidence              10000 non-null  float64\n",
      " 27  loudness                    10000 non-null  float64\n",
      " 28  mode                        10000 non-null  int32  \n",
      " 29  mode_confidence             10000 non-null  float64\n",
      " 30  release                     10000 non-null  object \n",
      " 31  release_7digitalid          10000 non-null  int32  \n",
      " 32  sections_confidence         10000 non-null  object \n",
      " 33  sections_start              10000 non-null  object \n",
      " 34  segments_confidence         10000 non-null  object \n",
      " 35  segments_loudness_max       10000 non-null  object \n",
      " 36  segments_loudness_max_time  10000 non-null  object \n",
      " 37  segments_loudness_start     10000 non-null  object \n",
      " 38  segments_pitches            10000 non-null  object \n",
      " 39  segments_start              10000 non-null  object \n",
      " 40  segments_timbre             10000 non-null  object \n",
      " 41  similar_artists             10000 non-null  object \n",
      " 42  song_hotttnesss             10000 non-null  float64\n",
      " 43  song_id                     10000 non-null  object \n",
      " 44  start_of_fade_out           10000 non-null  float64\n",
      " 45  tatums_confidence           10000 non-null  object \n",
      " 46  tatums_start                10000 non-null  object \n",
      " 47  tempo                       10000 non-null  float64\n",
      " 48  time_signature              10000 non-null  int32  \n",
      " 49  time_signature_confidence   10000 non-null  float64\n",
      " 50  title                       10000 non-null  object \n",
      " 51  track_7digitalid            10000 non-null  int32  \n",
      " 52  track_id                    10000 non-null  object \n",
      " 53  year                        10000 non-null  int32  \n",
      "dtypes: float64(15), int32(9), object(30)\n",
      "memory usage: 3.8+ MB\n"
     ]
    }
   ],
   "source": [
    "df.info(verbose=True)"
   ]
  },
  {
   "cell_type": "code",
   "execution_count": 17,
   "metadata": {},
   "outputs": [],
   "source": [
    "df_extracted = pd.read_pickle(\"20kSongs.pickle.gz\", compression={'method': 'gzip', 'compresslevel': 9, 'mtime': 1})"
   ]
  }
 ],
 "metadata": {
  "interpreter": {
   "hash": "b31b55448fdad6038316a47f42282bf79199278a7c491afcb527163d7fb13cc8"
  },
  "kernelspec": {
   "display_name": "Python 3.10.4 ('venv': venv)",
   "language": "python",
   "name": "python3"
  },
  "language_info": {
   "codemirror_mode": {
    "name": "ipython",
    "version": 3
   },
   "file_extension": ".py",
   "mimetype": "text/x-python",
   "name": "python",
   "nbconvert_exporter": "python",
   "pygments_lexer": "ipython3",
   "version": "3.10.4"
  },
  "orig_nbformat": 4
 },
 "nbformat": 4,
 "nbformat_minor": 2
}
