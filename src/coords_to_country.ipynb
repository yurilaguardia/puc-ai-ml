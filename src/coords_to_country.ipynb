{
 "cells": [
  {
   "cell_type": "markdown",
   "metadata": {},
   "source": [
    "# Transformando latitude e longitude em código de país padrão ISO 3166-1 alpha-2\n",
    "\n",
    "Agradecimento ao OpenStreetMaps pelo API gratuito: https://www.openstreetmap.org/copyright"
   ]
  },
  {
   "cell_type": "markdown",
   "metadata": {},
   "source": [
    "## Imports"
   ]
  },
  {
   "cell_type": "code",
   "execution_count": 8,
   "metadata": {},
   "outputs": [
    {
     "name": "stdout",
     "output_type": "stream",
     "text": [
      "Enabling notebook extension jupyter-js-widgets/extension...\n",
      "      - Validating: \u001b[32mOK\u001b[0m\n"
     ]
    }
   ],
   "source": [
    "import time\n",
    "import pandas as pd\n",
    "from geopy.geocoders import Nominatim\n",
    "from tqdm.notebook import tqdm # para mostrar barra de progresso\n",
    "\n",
    "!jupyter nbextension enable --py widgetsnbextension --sys-prefix"
   ]
  },
  {
   "cell_type": "markdown",
   "metadata": {},
   "source": [
    "## Teste rápido do API"
   ]
  },
  {
   "cell_type": "markdown",
   "metadata": {},
   "source": [
    "### Especificando o user agent para conformidade com as exigências do Nominatim\n",
    "- Vide [termos de serviço do Nominatim](https://operations.osmfoundation.org/policies/nominatim/)"
   ]
  },
  {
   "cell_type": "code",
   "execution_count": 9,
   "metadata": {},
   "outputs": [],
   "source": [
    "geolocator = Nominatim(user_agent=\"puc-ai-ml\")"
   ]
  },
  {
   "cell_type": "markdown",
   "metadata": {},
   "source": [
    "### Testando o API com as coordenadas do endereço da PUC Minas - Coração Eucarístico"
   ]
  },
  {
   "cell_type": "markdown",
   "metadata": {},
   "source": [
    "#### Todos os dados retornados pelo API"
   ]
  },
  {
   "cell_type": "code",
   "execution_count": 10,
   "metadata": {},
   "outputs": [
    {
     "data": {
      "text/plain": [
       "{'place_id': 284025437,\n",
       " 'licence': 'Data © OpenStreetMap contributors, ODbL 1.0. https://osm.org/copyright',\n",
       " 'osm_type': 'way',\n",
       " 'osm_id': 959560265,\n",
       " 'lat': '-19.925225635433545',\n",
       " 'lon': '-43.994790528155825',\n",
       " 'display_name': 'Avenida 31 de Março, Dom Cabral, Regional Noroeste, Belo Horizonte, Região Geográfica Imediata de Belo Horizonte, Região Metropolitana de Belo Horizonte, Região Geográfica Intermediária de Belo Horizonte, Minas Gerais, Região Sudeste, 30535-901, Brasil',\n",
       " 'address': {'road': 'Avenida 31 de Março',\n",
       "  'neighbourhood': 'Dom Cabral',\n",
       "  'suburb': 'Dom Cabral',\n",
       "  'city_district': 'Regional Noroeste',\n",
       "  'city': 'Belo Horizonte',\n",
       "  'municipality': 'Região Geográfica Imediata de Belo Horizonte',\n",
       "  'county': 'Região Metropolitana de Belo Horizonte',\n",
       "  'state_district': 'Região Geográfica Intermediária de Belo Horizonte',\n",
       "  'state': 'Minas Gerais',\n",
       "  'ISO3166-2-lvl4': 'BR-MG',\n",
       "  'region': 'Região Sudeste',\n",
       "  'postcode': '30535-901',\n",
       "  'country': 'Brasil',\n",
       "  'country_code': 'br'},\n",
       " 'boundingbox': ['-19.926071', '-19.9251757', '-43.9948531', '-43.9937312']}"
      ]
     },
     "execution_count": 10,
     "metadata": {},
     "output_type": "execute_result"
    }
   ],
   "source": [
    "location = geolocator.reverse(\"-19.9252563, -43.994815\")\n",
    "\n",
    "location.raw"
   ]
  },
  {
   "cell_type": "markdown",
   "metadata": {},
   "source": [
    "#### Extraindo apenas o código de país alpha-2"
   ]
  },
  {
   "cell_type": "code",
   "execution_count": 4,
   "metadata": {},
   "outputs": [
    {
     "data": {
      "text/plain": [
       "'br'"
      ]
     },
     "execution_count": 4,
     "metadata": {},
     "output_type": "execute_result"
    }
   ],
   "source": [
    "location.raw.get(\"address\", {}).get(\"country_code\")"
   ]
  },
  {
   "cell_type": "markdown",
   "metadata": {},
   "source": [
    "## Transformando as latitudes e longitudes do dataset em código de país"
   ]
  },
  {
   "cell_type": "markdown",
   "metadata": {},
   "source": [
    "### Carregando o dataset\n",
    "- Obs: supõe-se que o caderno exploring_data_1.ipynb já foi rodado e temos disponível o dataset em formato pickle"
   ]
  },
  {
   "cell_type": "code",
   "execution_count": 5,
   "metadata": {},
   "outputs": [],
   "source": [
    "decompressed_filepath = \"../datasets/10kSongs_1.pickle\"\n",
    "df = pd.read_pickle(decompressed_filepath)"
   ]
  },
  {
   "cell_type": "code",
   "execution_count": 14,
   "metadata": {},
   "outputs": [
    {
     "data": {
      "application/vnd.jupyter.widget-view+json": {
       "model_id": "d22ceaa9a7df4b8d9a151a32e18ff7f8",
       "version_major": 2,
       "version_minor": 0
      },
      "text/plain": [
       "  0%|          | 0/10000 [00:00<?, ?it/s]"
      ]
     },
     "metadata": {},
     "output_type": "display_data"
    }
   ],
   "source": [
    "# Utilizaremos um loop em vez de operações vetoriais para controlar a velocidade\n",
    "# O API Nominatim só permite uma request por segundo, então iremos utilizar time.sleep\n",
    "# a cada interação\n",
    "country_code_series = pd.Series([], dtype=str)\n",
    "for index, row in tqdm(df.iterrows(), total=len(df)):\n",
    "    location = geolocator.reverse(f'{row[\"artist_latitude\"]}, {row[\"artist_longitude\"]}')\n",
    "    # Utilizando um chaining de gets pra evitar key errors concisamente\n",
    "    country_code = getattr(location, \"raw\", {}).get(\"address\", {}).get(\"country_code\")\n",
    "    country_code_series.at[index] = country_code\n",
    "    time.sleep(1.1)\n"
   ]
  },
  {
   "cell_type": "code",
   "execution_count": 7,
   "metadata": {},
   "outputs": [],
   "source": [
    "df_artist_country_code_col = pd.DataFrame(country_code_series)\n",
    "df[\"artist_country_code\"] = df_artist_country_code_col "
   ]
  },
  {
   "cell_type": "code",
   "execution_count": 9,
   "metadata": {},
   "outputs": [],
   "source": [
    "df.head(5)"
   ]
  },
  {
   "cell_type": "code",
   "execution_count": null,
   "metadata": {},
   "outputs": [],
   "source": [
    "df.to_pickle(\"../datasets/10kSongs_1_with_countries.pickle\")"
   ]
  }
 ],
 "metadata": {
  "kernelspec": {
   "display_name": "Python 3.10.4 ('venv': venv)",
   "language": "python",
   "name": "python3"
  },
  "language_info": {
   "codemirror_mode": {
    "name": "ipython",
    "version": 3
   },
   "file_extension": ".py",
   "mimetype": "text/x-python",
   "name": "python",
   "nbconvert_exporter": "python",
   "pygments_lexer": "ipython3",
   "version": "3.10.4"
  },
  "orig_nbformat": 4,
  "vscode": {
   "interpreter": {
    "hash": "f36707e212c717329555d2c492e15c9fddf1f3c604d741d574c1b26667e18739"
   }
  }
 },
 "nbformat": 4,
 "nbformat_minor": 2
}
